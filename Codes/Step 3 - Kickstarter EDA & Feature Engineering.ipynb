{
 "cells": [
  {
   "cell_type": "markdown",
   "metadata": {},
   "source": [
    "<b>STEP 1: Importing the Source Data<br/>\n",
    "<b>STEP 2: Exploratory Data Analysis on the source data <br/>\n",
    "<b>STEP 3: Feature Engineering<br/>\n",
    "<b>STEP 4: Exporting the featured engineered data<br/>"
   ]
  },
  {
   "cell_type": "code",
   "execution_count": 277,
   "metadata": {},
   "outputs": [],
   "source": [
    "import numpy as np\n",
    "import pandas as pd\n",
    "from pandas import ExcelWriter\n",
    "from pandas import ExcelFile\n",
    "import os\n",
    "from datetime import datetime\n",
    "import time\n",
    "from sklearn.model_selection import train_test_split\n",
    "from sklearn.linear_model import LogisticRegression\n",
    "from sklearn import preprocessing\n",
    "from sklearn.ensemble import RandomForestClassifier\n",
    "from sklearn.metrics import accuracy_score\n",
    "from sklearn.metrics import confusion_matrix\n",
    "from sklearn.metrics import roc_auc_score\n",
    "from sklearn.metrics import classification_report\n",
    "from sklearn import preprocessing\n",
    "import string\n",
    "from sklearn.model_selection import train_test_split\n",
    "import random\n",
    "from sklearn.ensemble import RandomForestClassifier\n",
    "import math\n",
    "import lightgbm as lgb\n",
    "from sklearn import tree\n",
    "from sklearn import neighbors\n",
    "import math\n",
    "from sklearn import metrics\n",
    "import matplotlib.pyplot as plt \n",
    "import seaborn as sns\n",
    "from xgboost import XGBClassifier\n",
    "from sklearn import model_selection\n",
    "from datetime import datetime"
   ]
  },
  {
   "cell_type": "code",
   "execution_count": 278,
   "metadata": {},
   "outputs": [],
   "source": [
    "random.seed(753423)"
   ]
  },
  {
   "cell_type": "markdown",
   "metadata": {},
   "source": [
    "Importing a dataset"
   ]
  },
  {
   "cell_type": "code",
   "execution_count": 279,
   "metadata": {},
   "outputs": [],
   "source": [
    "kickstarter_data = pd.read_excel('C:/Sapna/Graham/Data Mining/Project/Kickstarter/Datasets/test/Processed data/Web_Kaggle_Data_2015_2020_v2.xlsx')"
   ]
  },
  {
   "cell_type": "code",
   "execution_count": 280,
   "metadata": {},
   "outputs": [
    {
     "name": "stdout",
     "output_type": "stream",
     "text": [
      "Obs_No                464240\n",
      "id                    464224\n",
      "name                  460519\n",
      "backers_count           4695\n",
      "category_name            160\n",
      "main_category_name        30\n",
      "country                   23\n",
      "currency                  14\n",
      "goal                    9887\n",
      "state                      6\n",
      "pledged                78947\n",
      "usd_pledged           156444\n",
      "created_date            3943\n",
      "deadline_date           3939\n",
      "state_changed_date      3882\n",
      "launched_date           3940\n",
      "Month_Yr                 238\n",
      "Year                      13\n",
      "source                     6\n",
      "usd_pledged_real      158191\n",
      "usd_goal_real         112317\n",
      "Month                     12\n",
      "dtype: int64\n"
     ]
    }
   ],
   "source": [
    "print(kickstarter_data.nunique())"
   ]
  },
  {
   "cell_type": "code",
   "execution_count": 281,
   "metadata": {},
   "outputs": [
    {
     "name": "stdout",
     "output_type": "stream",
     "text": [
      "(464240, 22)\n",
      "<class 'pandas.core.frame.DataFrame'>\n",
      "RangeIndex: 464240 entries, 0 to 464239\n",
      "Data columns (total 22 columns):\n",
      "Obs_No                464240 non-null int64\n",
      "id                    464240 non-null int64\n",
      "name                  464184 non-null object\n",
      "backers_count         464240 non-null int64\n",
      "category_name         464240 non-null object\n",
      "main_category_name    464240 non-null object\n",
      "country               464240 non-null object\n",
      "currency              464240 non-null object\n",
      "goal                  464240 non-null float64\n",
      "state                 464240 non-null object\n",
      "pledged               464240 non-null float64\n",
      "usd_pledged           460568 non-null float64\n",
      "created_date          464240 non-null datetime64[ns]\n",
      "deadline_date         464240 non-null datetime64[ns]\n",
      "state_changed_date    464240 non-null datetime64[ns]\n",
      "launched_date         464240 non-null datetime64[ns]\n",
      "Month_Yr              464240 non-null object\n",
      "Year                  464240 non-null int64\n",
      "source                464240 non-null object\n",
      "usd_pledged_real      464239 non-null float64\n",
      "usd_goal_real         464240 non-null float64\n",
      "Month                 400340 non-null object\n",
      "dtypes: datetime64[ns](4), float64(5), int64(4), object(9)\n",
      "memory usage: 77.9+ MB\n",
      "None\n",
      "              Obs_No            id  backers_count          goal       pledged  \\\n",
      "count  464240.000000  4.642400e+05  464240.000000  4.642400e+05  4.642400e+05   \n",
      "mean   232120.500000  1.074620e+09     117.984465  4.953064e+04  1.403435e+04   \n",
      "std    134014.688821  6.193438e+08     920.429699  1.153804e+06  4.223798e+05   \n",
      "min         1.000000  2.941000e+03       0.000000  1.000000e-02  0.000000e+00   \n",
      "25%    116060.750000  5.376901e+08       2.000000  2.000000e+03  4.000000e+01   \n",
      "50%    232120.500000  1.075180e+09      13.000000  5.000000e+03  7.090000e+02   \n",
      "75%    348180.250000  1.610566e+09      61.000000  1.600000e+04  4.508000e+03   \n",
      "max    464240.000000  2.147476e+09  219382.000000  1.000000e+08  1.759714e+08   \n",
      "\n",
      "        usd_pledged           Year  usd_pledged_real  usd_goal_real  \n",
      "count  4.605680e+05  464240.000000      4.642390e+05   4.642400e+05  \n",
      "mean   1.019124e+04    2017.708674      1.020695e+04   4.210580e+04  \n",
      "std    9.626919e+04       2.650295      9.621520e+04   1.083919e+06  \n",
      "min    0.000000e+00    1970.000000      0.000000e+00   0.000000e+00  \n",
      "25%    3.580655e+01    2017.000000      4.000000e+01   2.000000e+03  \n",
      "50%    6.712312e+02    2018.000000      7.000000e+02   5.061241e+03  \n",
      "75%    4.272230e+03    2020.000000      4.341000e+03   1.500000e+04  \n",
      "max    2.033899e+07    2020.000000      2.033899e+07   1.663614e+08  \n",
      "Obs_No                464240\n",
      "id                    464224\n",
      "name                  460519\n",
      "backers_count           4695\n",
      "category_name            160\n",
      "main_category_name        30\n",
      "country                   23\n",
      "currency                  14\n",
      "goal                    9887\n",
      "state                      6\n",
      "pledged                78947\n",
      "usd_pledged           156444\n",
      "created_date            3943\n",
      "deadline_date           3939\n",
      "state_changed_date      3882\n",
      "launched_date           3940\n",
      "Month_Yr                 238\n",
      "Year                      13\n",
      "source                     6\n",
      "usd_pledged_real      158191\n",
      "usd_goal_real         112317\n",
      "Month                     12\n",
      "dtype: int64\n"
     ]
    }
   ],
   "source": [
    "#printing all summary of the kickstarter data\n",
    "#this will give the dimensions of data set : (rows, columns)\n",
    "print(kickstarter_data.shape)\n",
    "#columns and data types\n",
    "print(kickstarter_data.info())\n",
    "#basic stats of columns\n",
    "print(kickstarter_data.describe())\n",
    "#number of unique values in all columns\n",
    "print(kickstarter_data.nunique())"
   ]
  },
  {
   "cell_type": "markdown",
   "metadata": {},
   "source": [
    "The above stats help us reaching the following conclusions:\n",
    "\n",
    "the data is at ID level (unique of ID=number of rows)\n",
    "The numerical data fields are: goal, pledged, backers, usd_pledged, usd_pledged_real,usd_goal_real\n",
    "\n",
    "Understanding Variables in the Dataset\n",
    "The dataset has 15 variablesincluding ID. SInce ID is the level of the dataset, we can set it as the index of the ata later. Variables like name, currency, deadline, launched date and country as self explanatory. Explanations of some key variables are as follows:\n",
    "\n",
    "Main_Category: There are 15 main categories for the project. These main categories broadly classify projects based on topic and genre they belong to.\n",
    "\n",
    "Category: Main Categories are further sub divided in categories to give more general idea of the project. For example, Main Category “Technology” has 15 categories like Gadgets, Web, Apps, Software etc. There are 159 total categories.\n",
    "\n",
    "Goal: This is the goal amount which the company need to raise to start its project. The goal amount is important variable for company as if it is too high, the project may fail to raise that amount of money and be unsuccessful. If it is too low, then it may reach its goal soon and backers may not be interested to pledge more.\n",
    "\n",
    "Pledged: This is amount raised by the company through its backers. On Kickstarter, if total amount pledged is lower than goal, then the project is unsuccessful and the start-up company doesn’t receive any fund. If pledged amount is more than the goal, the company is considered successful. The variable “usd pledged” is amount of money raised in US dollars.\n",
    "\n",
    "Number of Backers: These are number of people who have supported the project by pledging some amount."
   ]
  },
  {
   "cell_type": "code",
   "execution_count": 282,
   "metadata": {},
   "outputs": [
    {
     "name": "stdout",
     "output_type": "stream",
     "text": [
      "        Obs_No          id name  backers_count   category_name  \\\n",
      "2870      2871    13560944  NaN              0           Farms   \n",
      "6764      6765    31918107  NaN            159            Rock   \n",
      "8996      8997    42311032  NaN              2           Music   \n",
      "17500    17501    81824068  NaN             21       Wearables   \n",
      "38669    38670   179907929  NaN              2         Apparel   \n",
      "43064    43065   200371338  NaN              0         Jewelry   \n",
      "45956    45957   213685731  NaN            401       Wearables   \n",
      "62565    62566   290486498  NaN              1            Apps   \n",
      "63058    63059   292836707  NaN              0    Film & Video   \n",
      "68879    68880   319867257  NaN             26         Fashion   \n",
      "102472  102473   475022626  NaN             21          Crafts   \n",
      "104716  104717   485442503  NaN            134     World Music   \n",
      "108522  108523   503000061  NaN              2     Mixed Media   \n",
      "130418  130419   604696367  NaN             11           Zines   \n",
      "132303  132304   613582884  NaN              0             Web   \n",
      "134056  134057   621230536  NaN             41         Apparel   \n",
      "136921  136922   634871725  NaN             12     Video Games   \n",
      "138240  138241   640918227  NaN             91         Fashion   \n",
      "139969  139970   648853978  NaN              0  Product Design   \n",
      "146142  146143   677441243  NaN              0     Anthologies   \n",
      "146416  146417   678707885  NaN             74           Music   \n",
      "156150  156151   723970236  NaN              1         Apparel   \n",
      "170721  170722   791746730  NaN            121  Product Design   \n",
      "171761  171762   796533179  NaN              5        Painting   \n",
      "174899  174900   811011649  NaN              1          Shorts   \n",
      "190828  190829   883925976  NaN              6          People   \n",
      "198969  198970   922012277  NaN           3175    Civic Design   \n",
      "203058  203059   941180344  NaN           1085         Apparel   \n",
      "203630  203631   943749421  NaN            334        Hardware   \n",
      "204590  204591   948072193  NaN             41     Photography   \n",
      "204984  204985   949984180  NaN             54    Film & Video   \n",
      "212531  212532   985700352  NaN              2         Fashion   \n",
      "225319  225320  1044351970  NaN              1           Games   \n",
      "237564  237565  1100836046  NaN             79         Theater   \n",
      "242850  242851  1125149492  NaN              2  Product Design   \n",
      "265833  265834  1231345247  NaN             71          Comics   \n",
      "271751  271752  1259099033  NaN             16    Illustration   \n",
      "284951  284952  1319898905  NaN              0     Photography   \n",
      "290337  290338  1344855974  NaN             69             Art   \n",
      "295386  295387  1368288432  NaN             77         Theater   \n",
      "301278  301279  1395118398  NaN             51  Graphic Novels   \n",
      "311728  311729  1443456162  NaN              0          Places   \n",
      "325514  325515  1506346556  NaN           1203    Civic Design   \n",
      "328464  328465  1520074992  NaN             29     Documentary   \n",
      "379934  379935  1756924621  NaN              1     Mixed Media   \n",
      "380708  380709  1760287758  NaN            292             Art   \n",
      "391871  391872  1812048311  NaN              6         Fashion   \n",
      "399853  399854  1848699072  NaN              1  Narrative Film   \n",
      "404525  404526  1870273295  NaN              3             Pop   \n",
      "417062  417063  1928101952  NaN              4         Hip-Hop   \n",
      "436505  436506  2018500941  NaN            147  Country & Folk   \n",
      "438255  438256  2026676571  NaN              4         Gadgets   \n",
      "451121  451122  2087239665  NaN              0          Poetry   \n",
      "454672  454673  2103206675  NaN              8  Product Design   \n",
      "455725  455726  2107890674  NaN              1      Publishing   \n",
      "459935  459936  2127145871  NaN              0            Apps   \n",
      "\n",
      "       main_category_name country currency      goal       state  ...  \\\n",
      "2870                 food      US      USD    5000.0    canceled  ...   \n",
      "6764                music      US      USD   10000.0  successful  ...   \n",
      "8996                music      CA      CAD    5000.0        live  ...   \n",
      "17500          technology      ES      EUR  500000.0      failed  ...   \n",
      "38669             fashion      US      USD   55000.0      failed  ...   \n",
      "43064             fashion      AU      AUD    4000.0      failed  ...   \n",
      "45956          technology      CH      CHF   70000.0  successful  ...   \n",
      "62565          technology      US      USD    5000.0      failed  ...   \n",
      "63058        Film & Video      AU      AUD   12000.0      failed  ...   \n",
      "68879             fashion      US      USD     700.0  successful  ...   \n",
      "102472             crafts      ES      EUR     500.0  successful  ...   \n",
      "104716              music      US      USD   10000.0  successful  ...   \n",
      "108522                art      GB      GBP    1250.0      failed  ...   \n",
      "130418         publishing      CA      CAD     300.0  successful  ...   \n",
      "132303         journalism      DK      DKK  800000.0    canceled  ...   \n",
      "134056            fashion      AU      AUD    5000.0  successful  ...   \n",
      "136921              games      GB      GBP    2000.0      failed  ...   \n",
      "138240            fashion      US      USD   10000.0  successful  ...   \n",
      "139969             Design      US      USD    2500.0   suspended  ...   \n",
      "146142         publishing      US      USD   95000.0    canceled  ...   \n",
      "146416              Music      CA      CAD   20000.0  successful  ...   \n",
      "156150            fashion      DE      EUR    3300.0      failed  ...   \n",
      "170721             design      US      USD    7500.0  successful  ...   \n",
      "171761                art      US      USD   35000.0      failed  ...   \n",
      "174899       Film & Video      US      USD    1000.0    canceled  ...   \n",
      "190828        photography      ES      EUR    5000.0      failed  ...   \n",
      "198969             design      US      USD  250000.0  successful  ...   \n",
      "203058            fashion      US      USD   20000.0  successful  ...   \n",
      "203630         technology      US      USD   12500.0  successful  ...   \n",
      "204590        Photography      US      USD   14500.0      failed  ...   \n",
      "204984       Film & Video      US      USD    5000.0  successful  ...   \n",
      "212531            Fashion      US      USD    8000.0      failed  ...   \n",
      "225319              Games      CA      CAD      50.0      failed  ...   \n",
      "237564            Theater      US      USD    5000.0  successful  ...   \n",
      "242850             Design      US      USD    4500.0      failed  ...   \n",
      "265833             comics      US      USD    5000.0  successful  ...   \n",
      "271751                art      US      USD    1400.0      failed  ...   \n",
      "284951        Photography      US      USD   12000.0      failed  ...   \n",
      "290337                Art      US      USD    1342.0  successful  ...   \n",
      "295386            Theater      US      USD    3250.0  successful  ...   \n",
      "301278             comics      MX      MXN   40000.0  successful  ...   \n",
      "311728        photography      NL      EUR      70.0   suspended  ...   \n",
      "325514             design      US      USD   25000.0  successful  ...   \n",
      "328464       film & video      US      USD   20000.0  successful  ...   \n",
      "379934                art      US      USD     600.0    canceled  ...   \n",
      "380708                art      GB      GBP     500.0  successful  ...   \n",
      "391871            Fashion      US      USD    1785.0      failed  ...   \n",
      "399853       film & video      US      USD  200000.0      failed  ...   \n",
      "404525              music      IT      EUR   20000.0      failed  ...   \n",
      "417062              music      US      USD    4000.0    canceled  ...   \n",
      "436505              music      US      USD    5500.0  successful  ...   \n",
      "438255         technology      US      USD   10000.0      failed  ...   \n",
      "451121         publishing      DE      EUR    5555.0    canceled  ...   \n",
      "454672             design      ES      EUR    8277.0        live  ...   \n",
      "455725         Publishing      US      USD    5000.0      failed  ...   \n",
      "459935         technology      US      USD   40000.0      failed  ...   \n",
      "\n",
      "        created_date  deadline_date state_changed_date launched_date  \\\n",
      "2870      2017-12-10     2018-01-04         2017-12-10    2017-12-10   \n",
      "6764      2016-06-07     2016-08-10         2016-08-10    2016-07-11   \n",
      "8996      2017-12-14     2018-02-13         2017-12-15    2017-12-15   \n",
      "17500     2017-04-12     2017-07-10         2017-07-10    2017-05-11   \n",
      "38669     2014-09-04     2014-10-11         2014-10-11    2014-09-11   \n",
      "43064     2014-08-30     2014-10-17         2014-10-17    2014-09-17   \n",
      "45956     2016-05-16     2017-01-01         2017-01-01    2016-11-22   \n",
      "62565     2016-06-05     2017-10-05         2017-10-05    2017-09-28   \n",
      "63058     2016-05-26     2016-06-30         2016-06-30    2016-05-26   \n",
      "68879     2012-01-28     2012-03-11         2012-03-11    2012-02-01   \n",
      "102472    2018-07-01     2018-07-26         2018-07-26    2018-07-01   \n",
      "104716    2015-05-17     2015-08-17         2015-08-17    2015-07-18   \n",
      "108522    2014-06-26     2014-07-31         2014-07-31    2014-07-10   \n",
      "130418    2016-03-25     2016-04-21         2016-04-21    2016-03-31   \n",
      "132303    2014-11-30     2017-06-08         2017-04-26    2017-04-21   \n",
      "134056    2016-10-05     2016-11-20         2016-11-20    2016-11-06   \n",
      "136921    2012-12-18     2013-01-06         2013-01-06    2012-12-19   \n",
      "138240    2013-10-07     2013-11-26         2013-11-26    2013-10-17   \n",
      "139969    2016-06-18     2016-07-18         2016-07-18    2016-06-18   \n",
      "146142    2015-09-25     2015-11-01         2015-10-06    2015-10-02   \n",
      "146416    2013-10-10     2013-11-24         2013-11-24    2013-10-10   \n",
      "156150    2015-10-09     2015-12-19         2015-12-19    2015-11-19   \n",
      "170721    2018-07-01     2018-11-16         2018-11-16    2018-10-17   \n",
      "171761    2011-11-06     2011-12-05         2011-12-05    2011-11-06   \n",
      "174899    2010-03-16     2010-05-16         2010-05-16    2010-03-16   \n",
      "190828    2016-05-30     2017-02-03         2017-02-03    2016-12-05   \n",
      "198969    2013-05-15     2013-07-12         2013-07-12    2013-06-12   \n",
      "203058    2015-04-29     2015-07-03         2015-07-03    2015-06-02   \n",
      "203630    2014-01-29     2014-03-31         2014-03-31    2014-02-22   \n",
      "204590    2014-08-27     2014-10-08         2014-10-08    2014-08-27   \n",
      "204984    2012-06-28     2012-07-28         2012-07-28    2012-06-28   \n",
      "212531    2013-08-01     2013-09-10         2013-09-10    2013-08-01   \n",
      "225319    2014-07-26     2014-09-01         2014-09-01    2014-07-26   \n",
      "237564    2013-01-17     2013-02-16         2013-02-16    2013-01-17   \n",
      "242850    2014-12-13     2015-01-27         2015-01-27    2014-12-13   \n",
      "265833    2012-05-31     2012-07-15         2012-07-15    2012-06-15   \n",
      "271751    2009-07-23     2009-08-22         2009-08-22    2009-07-23   \n",
      "284951    2015-05-15     2015-06-14         2015-06-14    2015-05-15   \n",
      "290337    2016-10-18     2016-11-18         2016-11-18    2016-10-18   \n",
      "295386    2013-04-22     2013-05-13         2013-05-13    2013-04-22   \n",
      "301278    2017-07-13     2017-08-25         2017-08-25    2017-07-21   \n",
      "311728    2015-11-12     2016-01-13         2015-11-23    2015-11-14   \n",
      "325514    2011-06-02     2011-07-15         2011-07-15    2011-06-15   \n",
      "328464    2011-05-18     2011-06-22         2011-06-22    2011-05-23   \n",
      "379934    2013-11-14     2014-03-16         2014-01-24    2014-01-15   \n",
      "380708    2019-02-14     2019-03-11         2019-03-11    2019-02-19   \n",
      "391871    2013-01-03     2013-01-28         2013-01-28    2013-01-03   \n",
      "399853    2011-12-27     2012-02-29         2012-02-29    2012-01-01   \n",
      "404525    2017-04-23     2017-05-23         2017-05-23    2017-04-23   \n",
      "417062    2012-11-27     2013-02-03         2013-02-03    2012-12-05   \n",
      "436505    2012-01-17     2012-03-10         2012-03-10    2012-01-25   \n",
      "438255    2019-06-26     2019-08-01         2019-08-01    2019-07-02   \n",
      "451121    2015-08-28     2015-09-30         2015-09-01    2015-08-28   \n",
      "454672    2018-01-13     2018-03-11         2018-01-25    2018-01-25   \n",
      "455725    2011-10-18     2011-12-17         2011-12-17    2011-10-18   \n",
      "459935    2015-06-26     2015-08-24         2015-08-24    2015-07-10   \n",
      "\n",
      "        Month_Yr  Year            source  usd_pledged_real  usd_goal_real  \\\n",
      "2870     2017-12  2020          Web-2020          0.000000    5000.000000   \n",
      "6764     2016-06  2020          Web-2020      10245.000000   10000.000000   \n",
      "8996     2017-12  2018          Web-2018         31.114361    3889.295100   \n",
      "17500    2017-04  2020          Web-2020       3442.698189  546460.000000   \n",
      "38669    2014-09  2018          Web-2018         10.000000   55000.000000   \n",
      "43064    2014-08  2020          Web-2020          0.000000    3603.292000   \n",
      "45956    2016-05  2020          Web-2020      73036.988240   69299.657700   \n",
      "62565    2016-06  2020          Web-2020         10.000000    5000.000000   \n",
      "63058   2016-May  2016  Kaggle-2016-2018          0.000000    8977.330000   \n",
      "68879    2012-01  2018          Web-2018       1064.000000     700.000000   \n",
      "102472   2018-07  2020          Web-2020        772.300168     585.075900   \n",
      "104716   2015-05  2020          Web-2020      10106.000000   10000.000000   \n",
      "108522   2014-06  2020          Web-2020         51.385965    2141.081875   \n",
      "130418   2016-03  2020          Web-2020        302.873360     227.155000   \n",
      "132303   2014-11  2020          Web-2020          0.000000  115287.100000   \n",
      "134056   2016-10  2020          Web-2020       4431.307834    3838.624250   \n",
      "136921   2012-12  2017          Web-2017        317.728436    3242.126900   \n",
      "138240   2013-10  2018          Web-2018      10668.000000   10000.000000   \n",
      "139969  2016-Jun  2016  Kaggle-2016-2018          0.000000    2500.000000   \n",
      "146142   2015-09  2020          Web-2020          0.000000   95000.000000   \n",
      "146416  2013-Oct  2013  Kaggle-2016-2018      19712.530000   18912.530000   \n",
      "156150   2015-10  2017          Web-2017          9.314809    3509.003256   \n",
      "170721   2018-07  2020          Web-2020      14703.000000    7500.000000   \n",
      "171761   2011-11  2018          Web-2018        220.000000   35000.000000   \n",
      "174899  2010-Mar  2010  Kaggle-2016-2018         15.000000    1000.000000   \n",
      "190828   2016-05  2020          Web-2020        352.000001    5333.333000   \n",
      "198969   2013-05  2020          Web-2020     273114.920000  250000.000000   \n",
      "203058   2015-04  2020          Web-2020      82732.000000   20000.000000   \n",
      "203630   2014-01  2020          Web-2020      17617.000000   12500.000000   \n",
      "204590  2014-Aug  2014  Kaggle-2016-2018       4972.000000   14500.000000   \n",
      "204984  2012-Jun  2012  Kaggle-2016-2018       5014.000000    5000.000000   \n",
      "212531  2013-Aug  2013  Kaggle-2016-2018          6.000000    8000.000000   \n",
      "225319  2014-Jul  2014  Kaggle-2016-2018          1.840000      45.960000   \n",
      "237564  2013-Jan  2013  Kaggle-2016-2018       5185.000000    5000.000000   \n",
      "242850  2014-Dec  2014  Kaggle-2016-2018         40.000000    4500.000000   \n",
      "265833   2012-05  2018          Web-2018       5305.000000    5000.000000   \n",
      "271751   2009-07  2018          Web-2018        260.000000    1400.000000   \n",
      "284951  2015-May  2015  Kaggle-2016-2018          0.000000   12000.000000   \n",
      "290337  2016-Oct  2016  Kaggle-2016-2018       1588.000000    1342.000000   \n",
      "295386  2013-Apr  2013  Kaggle-2016-2018       3358.000000    3250.000000   \n",
      "301278   2017-07  2020          Web-2020       2467.289773    2291.955200   \n",
      "311728   2015-11  2020          Web-2020          0.000000      75.539704   \n",
      "325514   2011-06  2020          Web-2020      41647.630000   25000.000000   \n",
      "328464   2011-05  2018          Web-2018      21846.000000   20000.000000   \n",
      "379934   2013-11  2017          Web-2017         20.000000     600.000000   \n",
      "380708   2019-02  2019          Web-2019      13888.888910     645.694510   \n",
      "391871  2013-Jan  2013  Kaggle-2016-2018        609.330000    1785.000000   \n",
      "399853   2011-12  2017          Web-2017        100.000000  200000.000000   \n",
      "404525   2017-04  2020          Web-2020         99.747414   21451.056800   \n",
      "417062   2012-11  2017          Web-2017       1853.000000    4000.000000   \n",
      "436505   2012-01  2018          Web-2018       6945.000000    5500.000000   \n",
      "438255   2019-06  2020          Web-2020         71.000000   10000.000000   \n",
      "451121   2015-08  2020          Web-2020          0.000000    6294.838675   \n",
      "454672   2018-01  2018          Web-2018        125.680307   10198.587240   \n",
      "455725  2011-Oct  2011  Kaggle-2016-2018          1.000000    5000.000000   \n",
      "459935   2015-06  2018          Web-2018          0.000000   40000.000000   \n",
      "\n",
      "        Month  \n",
      "2870      Dec  \n",
      "6764      Jul  \n",
      "8996      NaN  \n",
      "17500     May  \n",
      "38669     NaN  \n",
      "43064     Sep  \n",
      "45956     Nov  \n",
      "62565     Sep  \n",
      "63058     May  \n",
      "68879     NaN  \n",
      "102472    Jul  \n",
      "104716    Jul  \n",
      "108522    Jul  \n",
      "130418    Mar  \n",
      "132303    Apr  \n",
      "134056    Nov  \n",
      "136921    Dec  \n",
      "138240    NaN  \n",
      "139969    Jun  \n",
      "146142    Oct  \n",
      "146416    Oct  \n",
      "156150    Nov  \n",
      "170721    Oct  \n",
      "171761    NaN  \n",
      "174899    Mar  \n",
      "190828    Dec  \n",
      "198969    Jun  \n",
      "203058    Jun  \n",
      "203630    Feb  \n",
      "204590    Aug  \n",
      "204984    Jun  \n",
      "212531    Aug  \n",
      "225319    Jul  \n",
      "237564    Jan  \n",
      "242850    Dec  \n",
      "265833    NaN  \n",
      "271751    NaN  \n",
      "284951    May  \n",
      "290337    Oct  \n",
      "295386    Apr  \n",
      "301278    Jul  \n",
      "311728    Nov  \n",
      "325514    Jun  \n",
      "328464    NaN  \n",
      "379934    Jan  \n",
      "380708    Feb  \n",
      "391871    Jan  \n",
      "399853    Jan  \n",
      "404525    Apr  \n",
      "417062    Dec  \n",
      "436505    NaN  \n",
      "438255    Jul  \n",
      "451121    Aug  \n",
      "454672    NaN  \n",
      "455725    Oct  \n",
      "459935    NaN  \n",
      "\n",
      "[56 rows x 22 columns]\n"
     ]
    }
   ],
   "source": [
    "rslt_df = pd.DataFrame(kickstarter_data.loc[kickstarter_data['name'].isnull()])\n",
    "print(rslt_df)\n",
    "rslt_df.to_excel(r'C:\\Sapna\\Graham\\Data Mining\\Project\\Kickstarter\\Datasets\\test\\Processed data\\MissinG_names.xlsx')"
   ]
  },
  {
   "cell_type": "code",
   "execution_count": 283,
   "metadata": {},
   "outputs": [],
   "source": [
    "#kickstarter_data['duration'] = (kickstarter_data['deadline_date']-kickstarter_data['launched_date']).dt.days"
   ]
  },
  {
   "cell_type": "code",
   "execution_count": 284,
   "metadata": {},
   "outputs": [],
   "source": [
    "#outliers= kickstarter_data[kickstarter_data.duration>100]\n",
    "#outliers"
   ]
  },
  {
   "cell_type": "code",
   "execution_count": 285,
   "metadata": {},
   "outputs": [
    {
     "data": {
      "text/plain": [
       "failed        44.97\n",
       "successful    37.43\n",
       "canceled       8.22\n",
       "live           8.21\n",
       "undefined      0.76\n",
       "suspended      0.41\n",
       "Name: state, dtype: float64"
      ]
     },
     "execution_count": 285,
     "metadata": {},
     "output_type": "execute_result"
    }
   ],
   "source": [
    "#Distribution of data across state\n",
    "percent_success = round(kickstarter_data[\"state\"].value_counts()/len(kickstarter_data[\"state\"])* 100,2)\n",
    "percent_success"
   ]
  },
  {
   "cell_type": "code",
   "execution_count": 286,
   "metadata": {},
   "outputs": [
    {
     "name": "stdout",
     "output_type": "stream",
     "text": [
      "['Obs_No', 'id', 'name', 'backers_count', 'category_name', 'main_category_name', 'country', 'currency', 'goal', 'state', 'pledged', 'usd_pledged', 'created_date', 'deadline_date', 'state_changed_date', 'launched_date', 'Month_Yr', 'Year', 'source', 'usd_pledged_real', 'usd_goal_real', 'Month']\n"
     ]
    }
   ],
   "source": [
    "col_names_prev = list(kickstarter_data)\n",
    "print(col_names_prev)"
   ]
  },
  {
   "cell_type": "code",
   "execution_count": 287,
   "metadata": {},
   "outputs": [],
   "source": [
    "#col_names_new=['Obs_No', 'ID', 'name', 'backers_count', 'category_name', 'main_category_name', 'country', \n",
    "              # 'currency', 'goal', 'state', 'pledged', 'usd_pledged', 'created_date', 'deadline_date', \n",
    "               #'state_changed_date', 'launched_date', 'Month_Yr', 'Year', 'source', \n",
    "               #'usd_pledged_real', 'Month', 'usd_goal_real']\n",
    "#col_names_prev\n",
    "#kickstarter_data.columns = col_names_new\n",
    "#kickstarter_data.head()"
   ]
  },
  {
   "cell_type": "code",
   "execution_count": 288,
   "metadata": {},
   "outputs": [],
   "source": [
    "#segregating the variables as categorical and constinuous\n",
    "cat_vars = ['category_name', 'main_category_name', 'currency','country','name']\n",
    "cont_vars = ['goal', 'pledged', 'backers_count','usd_pledged','usd_pledged_real','usd_goal_real']"
   ]
  },
  {
   "cell_type": "code",
   "execution_count": 289,
   "metadata": {},
   "outputs": [
    {
     "data": {
      "text/html": [
       "<div>\n",
       "<style scoped>\n",
       "    .dataframe tbody tr th:only-of-type {\n",
       "        vertical-align: middle;\n",
       "    }\n",
       "\n",
       "    .dataframe tbody tr th {\n",
       "        vertical-align: top;\n",
       "    }\n",
       "\n",
       "    .dataframe thead th {\n",
       "        text-align: right;\n",
       "    }\n",
       "</style>\n",
       "<table border=\"1\" class=\"dataframe\">\n",
       "  <thead>\n",
       "    <tr style=\"text-align: right;\">\n",
       "      <th></th>\n",
       "      <th>goal</th>\n",
       "      <th>pledged</th>\n",
       "      <th>backers_count</th>\n",
       "      <th>usd_pledged</th>\n",
       "      <th>usd_pledged_real</th>\n",
       "      <th>usd_goal_real</th>\n",
       "    </tr>\n",
       "  </thead>\n",
       "  <tbody>\n",
       "    <tr>\n",
       "      <th>goal</th>\n",
       "      <td>1.000000</td>\n",
       "      <td>0.065075</td>\n",
       "      <td>0.006365</td>\n",
       "      <td>0.007062</td>\n",
       "      <td>0.007109</td>\n",
       "      <td>0.912928</td>\n",
       "    </tr>\n",
       "    <tr>\n",
       "      <th>pledged</th>\n",
       "      <td>0.065075</td>\n",
       "      <td>1.000000</td>\n",
       "      <td>0.215388</td>\n",
       "      <td>0.267649</td>\n",
       "      <td>0.268266</td>\n",
       "      <td>0.001537</td>\n",
       "    </tr>\n",
       "    <tr>\n",
       "      <th>backers_count</th>\n",
       "      <td>0.006365</td>\n",
       "      <td>0.215388</td>\n",
       "      <td>1.000000</td>\n",
       "      <td>0.757723</td>\n",
       "      <td>0.758031</td>\n",
       "      <td>0.004127</td>\n",
       "    </tr>\n",
       "    <tr>\n",
       "      <th>usd_pledged</th>\n",
       "      <td>0.007062</td>\n",
       "      <td>0.267649</td>\n",
       "      <td>0.757723</td>\n",
       "      <td>1.000000</td>\n",
       "      <td>0.996820</td>\n",
       "      <td>0.005360</td>\n",
       "    </tr>\n",
       "    <tr>\n",
       "      <th>usd_pledged_real</th>\n",
       "      <td>0.007109</td>\n",
       "      <td>0.268266</td>\n",
       "      <td>0.758031</td>\n",
       "      <td>0.996820</td>\n",
       "      <td>1.000000</td>\n",
       "      <td>0.005405</td>\n",
       "    </tr>\n",
       "    <tr>\n",
       "      <th>usd_goal_real</th>\n",
       "      <td>0.912928</td>\n",
       "      <td>0.001537</td>\n",
       "      <td>0.004127</td>\n",
       "      <td>0.005360</td>\n",
       "      <td>0.005405</td>\n",
       "      <td>1.000000</td>\n",
       "    </tr>\n",
       "  </tbody>\n",
       "</table>\n",
       "</div>"
      ],
      "text/plain": [
       "                      goal   pledged  backers_count  usd_pledged  \\\n",
       "goal              1.000000  0.065075       0.006365     0.007062   \n",
       "pledged           0.065075  1.000000       0.215388     0.267649   \n",
       "backers_count     0.006365  0.215388       1.000000     0.757723   \n",
       "usd_pledged       0.007062  0.267649       0.757723     1.000000   \n",
       "usd_pledged_real  0.007109  0.268266       0.758031     0.996820   \n",
       "usd_goal_real     0.912928  0.001537       0.004127     0.005360   \n",
       "\n",
       "                  usd_pledged_real  usd_goal_real  \n",
       "goal                      0.007109       0.912928  \n",
       "pledged                   0.268266       0.001537  \n",
       "backers_count             0.758031       0.004127  \n",
       "usd_pledged               0.996820       0.005360  \n",
       "usd_pledged_real          1.000000       0.005405  \n",
       "usd_goal_real             0.005405       1.000000  "
      ]
     },
     "execution_count": 289,
     "metadata": {},
     "output_type": "execute_result"
    }
   ],
   "source": [
    "#correlation of continuous variables\n",
    "kickstarter_data[cont_vars].corr()"
   ]
  },
  {
   "cell_type": "code",
   "execution_count": 290,
   "metadata": {},
   "outputs": [],
   "source": [
    "#setting unique ID as index of the table\n",
    "#this is because the ID column will not be used in the algorithm. yet it is needed to identify the project\n",
    "kickstarter_data_v1 = kickstarter_data.set_index('id')"
   ]
  },
  {
   "cell_type": "code",
   "execution_count": 291,
   "metadata": {},
   "outputs": [
    {
     "data": {
      "text/plain": [
       "failed        54.57\n",
       "successful    45.43\n",
       "Name: state, dtype: float64"
      ]
     },
     "execution_count": 291,
     "metadata": {},
     "output_type": "execute_result"
    }
   ],
   "source": [
    "# Filtering only for successful and failed projects\n",
    "kickstarter_campaigns = kickstarter_data_v1[(kickstarter_data_v1['state'] == 'failed') | (kickstarter_data_v1['state'] == 'successful')]\n",
    "#converting 'successful' state to 1 and failed to 0\n",
    "percent_success = round(kickstarter_campaigns[\"state\"].value_counts()/len(kickstarter_campaigns[\"state\"])* 100,2)\n",
    "percent_success"
   ]
  },
  {
   "cell_type": "code",
   "execution_count": 292,
   "metadata": {},
   "outputs": [
    {
     "name": "stdout",
     "output_type": "stream",
     "text": [
      "<class 'pandas.core.frame.DataFrame'>\n",
      "Int64Index: 382528 entries, 5971 to 2147476221\n",
      "Data columns (total 21 columns):\n",
      "Obs_No                382528 non-null int64\n",
      "name                  382483 non-null object\n",
      "backers_count         382528 non-null int64\n",
      "category_name         382528 non-null object\n",
      "main_category_name    382528 non-null object\n",
      "country               382528 non-null object\n",
      "currency              382528 non-null object\n",
      "goal                  382528 non-null float64\n",
      "state                 382528 non-null object\n",
      "pledged               382528 non-null float64\n",
      "usd_pledged           382426 non-null float64\n",
      "created_date          382528 non-null datetime64[ns]\n",
      "deadline_date         382528 non-null datetime64[ns]\n",
      "state_changed_date    382528 non-null datetime64[ns]\n",
      "launched_date         382528 non-null datetime64[ns]\n",
      "Month_Yr              382528 non-null object\n",
      "Year                  382528 non-null int64\n",
      "source                382528 non-null object\n",
      "usd_pledged_real      382528 non-null float64\n",
      "usd_goal_real         382528 non-null float64\n",
      "Month                 330416 non-null object\n",
      "dtypes: datetime64[ns](4), float64(5), int64(3), object(9)\n",
      "memory usage: 64.2+ MB\n"
     ]
    }
   ],
   "source": [
    "kickstarter_campaigns.info()"
   ]
  },
  {
   "cell_type": "code",
   "execution_count": 293,
   "metadata": {},
   "outputs": [
    {
     "data": {
      "text/plain": [
       "country\n",
       "US    291591\n",
       "dtype: int64"
      ]
     },
     "execution_count": 293,
     "metadata": {},
     "output_type": "execute_result"
    }
   ],
   "source": [
    "kickstarter_campaigns = kickstarter_campaigns[(kickstarter_campaigns['country'] == 'US')]\n",
    "kickstarter_campaigns.groupby(['country']).size()"
   ]
  },
  {
   "cell_type": "code",
   "execution_count": 294,
   "metadata": {},
   "outputs": [],
   "source": [
    "kickstarter_campaigns['main_category_name'] = kickstarter_campaigns['main_category_name'].str.upper().str.title() \n",
    "kickstarter_campaigns['category_name'] = kickstarter_campaigns['category_name'].str.upper().str.title() "
   ]
  },
  {
   "cell_type": "code",
   "execution_count": 295,
   "metadata": {},
   "outputs": [
    {
     "name": "stdout",
     "output_type": "stream",
     "text": [
      "(291591, 21)\n"
     ]
    }
   ],
   "source": [
    "f = lambda x: 0 if x=='failed' else 1\n",
    "kickstarter_campaigns['state'] = kickstarter_campaigns['state'].map(f)\n",
    "\n",
    "#kickstarter_campaigns['state'] = (kickstarter_campaigns['state'] =='successful').astype(int)\n",
    "print(kickstarter_campaigns.shape)"
   ]
  },
  {
   "cell_type": "code",
   "execution_count": 296,
   "metadata": {},
   "outputs": [
    {
     "name": "stdout",
     "output_type": "stream",
     "text": [
      "Obs_No                291591\n",
      "name                  289973\n",
      "backers_count           4218\n",
      "category_name            160\n",
      "main_category_name        15\n",
      "country                    1\n",
      "currency                   1\n",
      "goal                    6897\n",
      "state                      2\n",
      "pledged                58294\n",
      "usd_pledged            58029\n",
      "created_date            3922\n",
      "deadline_date           3877\n",
      "state_changed_date      3876\n",
      "launched_date           3919\n",
      "Month_Yr                 236\n",
      "Year                      12\n",
      "source                     6\n",
      "usd_pledged_real       58296\n",
      "usd_goal_real           6897\n",
      "Month                     12\n",
      "dtype: int64\n"
     ]
    }
   ],
   "source": [
    "print(kickstarter_campaigns.nunique())"
   ]
  },
  {
   "cell_type": "code",
   "execution_count": 297,
   "metadata": {},
   "outputs": [
    {
     "data": {
      "text/plain": [
       "main_category_name  state\n",
       "Art                 0        11991\n",
       "                    1        12399\n",
       "Comics              0         3722\n",
       "                    1         7052\n",
       "Crafts              0         4747\n",
       "                    1         2000\n",
       "Dance               0         1054\n",
       "                    1         2302\n",
       "Design              0         8810\n",
       "                    1        10082\n",
       "Fashion             0        11912\n",
       "                    1         5743\n",
       "Film & Video        0        27552\n",
       "                    1        21919\n",
       "Food                0        14177\n",
       "                    1         6312\n",
       "Games               0        10102\n",
       "                    1        13617\n",
       "Journalism          0         2617\n",
       "                    1          960\n",
       "Music               0        19150\n",
       "                    1        24539\n",
       "Photography         0         4957\n",
       "                    1         2850\n",
       "Publishing          0        18423\n",
       "                    1        12407\n",
       "Technology          0        15575\n",
       "                    1         5835\n",
       "Theater             0         3154\n",
       "                    1         5631\n",
       "dtype: int64"
      ]
     },
     "execution_count": 297,
     "metadata": {},
     "output_type": "execute_result"
    }
   ],
   "source": [
    "#checking distribution of projects across various main categories\n",
    "kickstarter_campaigns.groupby(['main_category_name','state']).size()"
   ]
  },
  {
   "cell_type": "code",
   "execution_count": 298,
   "metadata": {},
   "outputs": [
    {
     "data": {
      "text/html": [
       "<div>\n",
       "<style scoped>\n",
       "    .dataframe tbody tr th:only-of-type {\n",
       "        vertical-align: middle;\n",
       "    }\n",
       "\n",
       "    .dataframe tbody tr th {\n",
       "        vertical-align: top;\n",
       "    }\n",
       "\n",
       "    .dataframe thead th {\n",
       "        text-align: right;\n",
       "    }\n",
       "</style>\n",
       "<table border=\"1\" class=\"dataframe\">\n",
       "  <thead>\n",
       "    <tr style=\"text-align: right;\">\n",
       "      <th></th>\n",
       "      <th>goal</th>\n",
       "      <th>pledged</th>\n",
       "      <th>backers_count</th>\n",
       "      <th>usd_pledged</th>\n",
       "      <th>usd_pledged_real</th>\n",
       "      <th>usd_goal_real</th>\n",
       "      <th>state</th>\n",
       "    </tr>\n",
       "  </thead>\n",
       "  <tbody>\n",
       "    <tr>\n",
       "      <th>goal</th>\n",
       "      <td>1.000000</td>\n",
       "      <td>0.007248</td>\n",
       "      <td>0.006201</td>\n",
       "      <td>0.007195</td>\n",
       "      <td>0.007248</td>\n",
       "      <td>1.000000</td>\n",
       "      <td>-0.025419</td>\n",
       "    </tr>\n",
       "    <tr>\n",
       "      <th>pledged</th>\n",
       "      <td>0.007248</td>\n",
       "      <td>1.000000</td>\n",
       "      <td>0.756082</td>\n",
       "      <td>0.999597</td>\n",
       "      <td>1.000000</td>\n",
       "      <td>0.007248</td>\n",
       "      <td>0.105236</td>\n",
       "    </tr>\n",
       "    <tr>\n",
       "      <th>backers_count</th>\n",
       "      <td>0.006201</td>\n",
       "      <td>0.756082</td>\n",
       "      <td>1.000000</td>\n",
       "      <td>0.755678</td>\n",
       "      <td>0.756082</td>\n",
       "      <td>0.006201</td>\n",
       "      <td>0.126644</td>\n",
       "    </tr>\n",
       "    <tr>\n",
       "      <th>usd_pledged</th>\n",
       "      <td>0.007195</td>\n",
       "      <td>0.999597</td>\n",
       "      <td>0.755678</td>\n",
       "      <td>1.000000</td>\n",
       "      <td>0.999597</td>\n",
       "      <td>0.007195</td>\n",
       "      <td>0.104908</td>\n",
       "    </tr>\n",
       "    <tr>\n",
       "      <th>usd_pledged_real</th>\n",
       "      <td>0.007248</td>\n",
       "      <td>1.000000</td>\n",
       "      <td>0.756082</td>\n",
       "      <td>0.999597</td>\n",
       "      <td>1.000000</td>\n",
       "      <td>0.007248</td>\n",
       "      <td>0.105236</td>\n",
       "    </tr>\n",
       "    <tr>\n",
       "      <th>usd_goal_real</th>\n",
       "      <td>1.000000</td>\n",
       "      <td>0.007248</td>\n",
       "      <td>0.006201</td>\n",
       "      <td>0.007195</td>\n",
       "      <td>0.007248</td>\n",
       "      <td>1.000000</td>\n",
       "      <td>-0.025419</td>\n",
       "    </tr>\n",
       "    <tr>\n",
       "      <th>state</th>\n",
       "      <td>-0.025419</td>\n",
       "      <td>0.105236</td>\n",
       "      <td>0.126644</td>\n",
       "      <td>0.104908</td>\n",
       "      <td>0.105236</td>\n",
       "      <td>-0.025419</td>\n",
       "      <td>1.000000</td>\n",
       "    </tr>\n",
       "  </tbody>\n",
       "</table>\n",
       "</div>"
      ],
      "text/plain": [
       "                      goal   pledged  backers_count  usd_pledged  \\\n",
       "goal              1.000000  0.007248       0.006201     0.007195   \n",
       "pledged           0.007248  1.000000       0.756082     0.999597   \n",
       "backers_count     0.006201  0.756082       1.000000     0.755678   \n",
       "usd_pledged       0.007195  0.999597       0.755678     1.000000   \n",
       "usd_pledged_real  0.007248  1.000000       0.756082     0.999597   \n",
       "usd_goal_real     1.000000  0.007248       0.006201     0.007195   \n",
       "state            -0.025419  0.105236       0.126644     0.104908   \n",
       "\n",
       "                  usd_pledged_real  usd_goal_real     state  \n",
       "goal                      0.007248       1.000000 -0.025419  \n",
       "pledged                   1.000000       0.007248  0.105236  \n",
       "backers_count             0.756082       0.006201  0.126644  \n",
       "usd_pledged               0.999597       0.007195  0.104908  \n",
       "usd_pledged_real          1.000000       0.007248  0.105236  \n",
       "usd_goal_real             0.007248       1.000000 -0.025419  \n",
       "state                     0.105236      -0.025419  1.000000  "
      ]
     },
     "execution_count": 298,
     "metadata": {},
     "output_type": "execute_result"
    }
   ],
   "source": [
    "#correlation of continuous variables with the dependent variable\n",
    "kickstarter_campaigns[['goal', 'pledged', 'backers_count','usd_pledged','usd_pledged_real','usd_goal_real','state']].corr()"
   ]
  },
  {
   "cell_type": "code",
   "execution_count": 299,
   "metadata": {},
   "outputs": [],
   "source": [
    "#Missing value treatment for the state_changed_date : Wherever it is missing will replace it with deadline_date assuming no change happened\n",
    "#during the tenure of the campaign\n",
    "kickstarter_campaigns.state_changed_date.fillna(kickstarter_campaigns.deadline_date, inplace=True)"
   ]
  },
  {
   "cell_type": "markdown",
   "metadata": {},
   "source": [
    "Feature Engineering"
   ]
  },
  {
   "cell_type": "code",
   "execution_count": 300,
   "metadata": {},
   "outputs": [],
   "source": [
    "#creating derived metrics/ features\n",
    "kickstarter_campaigns= kickstarter_campaigns.sort_values('launched_date',ascending=True)"
   ]
  },
  {
   "cell_type": "code",
   "execution_count": 301,
   "metadata": {},
   "outputs": [],
   "source": [
    "#creating features from the project name\n",
    "kickstarter_campaigns['name_len'] = kickstarter_campaigns.name.str.len()\n",
    "\n",
    "#Presence of !\n",
    "kickstarter_campaigns['name_exclaim'] = (kickstarter_campaigns.name.str[-1] == '!').astype(int)\n",
    "\n",
    "#presence of ? \n",
    "kickstarter_campaigns['name_question'] = (kickstarter_campaigns.name.str[-1]=='?').astype(int)\n",
    "\n",
    "#number of words in the name\n",
    "kickstarter_campaigns['name_words'] = kickstarter_campaigns.name.apply(lambda x : len(str(x).split(' ')))\n",
    "\n",
    "#if name is upper case\n",
    "kickstarter_campaigns['name_is_upper'] = kickstarter_campaigns.name.str.isupper().astype(float)\n",
    "\n",
    "#if name is lower case\n",
    "kickstarter_campaigns['name_is_lower'] = kickstarter_campaigns.name.str.islower().astype(float)"
   ]
  },
  {
   "cell_type": "code",
   "execution_count": 302,
   "metadata": {},
   "outputs": [],
   "source": [
    "# normalizing goal by applying log\n",
    "kickstarter_campaigns['goal_log'] = np.log1p(kickstarter_campaigns.usd_goal_real)\n",
    "#reating goal features to check what range goal lies in\n",
    "kickstarter_campaigns['Goal_10'] = kickstarter_campaigns.usd_goal_real.apply(lambda x: x // 10)\n",
    "kickstarter_campaigns['Goal_1000'] = kickstarter_campaigns.usd_goal_real.apply(lambda x: x // 1000)\n",
    "kickstarter_campaigns['Goal_100'] = kickstarter_campaigns.usd_goal_real.apply(lambda x: x // 100)\n",
    "kickstarter_campaigns['Goal_500'] = kickstarter_campaigns.usd_goal_real.apply(lambda x: x // 500)\n"
   ]
  },
  {
   "cell_type": "code",
   "execution_count": 303,
   "metadata": {},
   "outputs": [],
   "source": [
    "#features from date column\n",
    "kickstarter_campaigns['duration'] = (kickstarter_campaigns['deadline_date']-kickstarter_campaigns['launched_date']).dt.days\n",
    "kickstarter_campaigns['duration_st_dead'] = (kickstarter_campaigns['state_changed_date'] - kickstarter_campaigns['launched_date']).dt.days\n",
    "kickstarter_campaigns['change_flag'] =(kickstarter_campaigns.duration_st_dead > 0).astype(int)\n",
    "#the idea for deriving launched quarter month year is that perhaps projects launched in a particular year/ quarter/ month might have a low success rate\n",
    "kickstarter_campaigns['launched_quarter'] = kickstarter_campaigns['launched_date'].dt.quarter\n",
    "kickstarter_campaigns['launched_month'] = kickstarter_campaigns['launched_date'].dt.month\n",
    "kickstarter_campaigns['weekday'] = kickstarter_campaigns['launched_date'].dt.dayofweek\n",
    "\n",
    "kickstarter_campaigns['launched_year'] = kickstarter_campaigns['launched_date'].dt.year\n",
    "kickstarter_campaigns['launched_week'] = kickstarter_campaigns['launched_date'].dt.week\n",
    "kickstarter_campaigns['launched_quarter'] = kickstarter_campaigns['launched_date'].dt.quarter"
   ]
  },
  {
   "cell_type": "code",
   "execution_count": 304,
   "metadata": {},
   "outputs": [
    {
     "data": {
      "text/plain": [
       "weekday  state\n",
       "0        0        26263\n",
       "         1        22912\n",
       "1        0        30568\n",
       "         1        29842\n",
       "2        0        27698\n",
       "         1        23776\n",
       "3        0        25370\n",
       "         1        20786\n",
       "4        0        25454\n",
       "         1        19340\n",
       "5        0        13778\n",
       "         1         9808\n",
       "6        0         8812\n",
       "         1         7184\n",
       "dtype: int64"
      ]
     },
     "execution_count": 304,
     "metadata": {},
     "output_type": "execute_result"
    }
   ],
   "source": [
    "kickstarter_campaigns.groupby(['duration_st_dead','state']).size()\n",
    "kickstarter_campaigns.groupby(['change_flag','state']).size()\n",
    "kickstarter_campaigns.groupby(['launched_month','state']).size()\n",
    "kickstarter_campaigns.groupby(['weekday','state']).size()\n",
    "#kickstarter_campaigns.head()"
   ]
  },
  {
   "cell_type": "code",
   "execution_count": 305,
   "metadata": {},
   "outputs": [],
   "source": [
    "# First, create a Series with a timestamp index\n",
    "#launched = pd.Series(kickstarter_campaigns.index, index=kickstarter_campaigns.launched_date, name=\"count_7_days\").sort_index()\n",
    "#launched.head(20)"
   ]
  },
  {
   "cell_type": "code",
   "execution_count": 306,
   "metadata": {},
   "outputs": [],
   "source": [
    "#count_7_days = launched.rolling('7d').count() - 1\n",
    "#print(count_7_days.head(20))\n",
    "\n",
    "# Ignore records with broken launch dates\n",
    "#plt.plot(count_7_days[7:]);\n",
    "#plt.title(\"Competitions in the last 7 days\")\n",
    "\n",
    "#count_7_days.index = launched.values\n",
    "#count_7_days = count_7_days.reindex(kickstarter_campaigns.index)\n",
    "#kickstarter_campaigns = pd.merge(kickstarter_campaigns, count_7_days, on = ['launched_date'], how = 'left')\n"
   ]
  },
  {
   "cell_type": "code",
   "execution_count": 307,
   "metadata": {},
   "outputs": [],
   "source": [
    "#def time_since_last_project(series):\n",
    "    # Return the time in hours\n",
    "   # return series.diff().dt.total_seconds() / 3600.\n",
    "\n",
    "#df = ks[['category_name', 'launched_date']].sort_values('launched_date')\n",
    "#timedeltas = df.groupby('category_name').transform(time_since_last_project)\n",
    "#timedeltas.head(20)\n",
    "\n",
    "# Final time since last project\n",
    "#timedeltas = timedeltas.fillna(timedeltas.median()).reindex(kickstarter_campaigns.index)\n",
    "#timedeltas.head(20)"
   ]
  },
  {
   "cell_type": "code",
   "execution_count": 308,
   "metadata": {},
   "outputs": [],
   "source": [
    "#additional features from goal, pledge and backers columns\n",
    "# Pledged amount as a percentage of goal.\n",
    "#kickstarter_campaigns.loc[:,'goal_reached'] = kickstarter_campaigns['usd_pledged'] / kickstarter_campaigns['usd_goal_real'] \n",
    "#The above field will be used to compute another metric\n",
    "# In backers column, impute 0 with 1 to prevent undefined division.\n",
    "#kickstarter_campaigns['backers_cnt'] = kickstarter_campaigns['backers_count']  # Don't want to loose the original values\n",
    "#kickstarter_campaigns.loc[kickstarter_campaigns['backers_cnt'] == 0, 'backers_cnt'] = 1 \n",
    "# Pledged amount per backer.\n",
    "#kickstarter_campaigns.loc[:,'pledge_per_backer'] = kickstarter_campaigns['usd_pledged'] / kickstarter_campaigns['backers_cnt'] "
   ]
  },
  {
   "cell_type": "code",
   "execution_count": 309,
   "metadata": {},
   "outputs": [],
   "source": [
    "#will create percentile buckets for the goal amount in a category\n",
    "kickstarter_campaigns['goal_cat_perc'] = kickstarter_campaigns.groupby(['category_name'])['usd_goal_real'].transform(\n",
    "                     lambda x: pd.qcut(x, [0, .35, .70, 1.0], labels =[1,2,3]))\n",
    "kickstarter_campaigns['duration_cat_perc'] = kickstarter_campaigns.groupby(['category_name'])['duration'].transform(\n",
    "                     lambda x: pd.qcut(x, [0, .35, .70, 1.0], labels =False, duplicates='drop'))"
   ]
  },
  {
   "cell_type": "code",
   "execution_count": 310,
   "metadata": {},
   "outputs": [],
   "source": [
    "\n",
    "#creating a metric to see number of competitors for a given project in a given quarter\n",
    "#number of participants in a given category, that launched in the same year and quarter and in the same goal bucket\n",
    "ks_particpants_qtr=kickstarter_campaigns.groupby(['category_name','launched_year','launched_quarter']).count()\n",
    "ks_particpants_qtr=ks_particpants_qtr[['name']]\n",
    "#since the above table has all group by columns created as index, converting them into columns\n",
    "ks_particpants_qtr.reset_index(inplace=True)\n",
    "\n",
    "#creating a metric to see number of competitors for a given project in a given month\n",
    "#number of participants in a given category, that launched in the same year and month and in the same goal bucket\n",
    "ks_particpants_mth=kickstarter_campaigns.groupby(['category_name','launched_year','launched_month']).count()\n",
    "ks_particpants_mth=ks_particpants_mth[['name']]\n",
    "#since the above table has all group by columns created as index, converting them into columns\n",
    "ks_particpants_mth.reset_index(inplace=True)\n",
    "\n",
    "#creating a metric to see number of competitors for a given project in a given week\n",
    "#number of participants in a given category, that launched in the same year and week and in the same goal bucket\n",
    "ks_particpants_wk=kickstarter_campaigns.groupby(['category_name','launched_year','launched_week']).count()\n",
    "ks_particpants_wk=ks_particpants_wk[['name']]\n",
    "#since the above table has all group by columns created as index, converting them into columns\n",
    "ks_particpants_wk.reset_index(inplace=True)\n"
   ]
  },
  {
   "cell_type": "code",
   "execution_count": 311,
   "metadata": {},
   "outputs": [],
   "source": [
    "#renaming columns of the derived table\n",
    "colmns_qtr=['category_name', 'launched_year', 'launched_quarter', 'participants_qtr']\n",
    "ks_particpants_qtr.columns=colmns_qtr\n",
    "\n",
    "colmns_mth=['category_name', 'launched_year', 'launched_month','participants_mth']\n",
    "ks_particpants_mth.columns=colmns_mth\n",
    "\n",
    "colmns_wk=['category_name', 'launched_year', 'launched_week','participants_wk']\n",
    "ks_particpants_wk.columns=colmns_wk"
   ]
  },
  {
   "cell_type": "code",
   "execution_count": 312,
   "metadata": {},
   "outputs": [],
   "source": [
    "#merging the particpants column into the base table\n",
    "kickstarter_campaigns = pd.merge(kickstarter_campaigns, ks_particpants_qtr, on = ['category_name', 'launched_year', 'launched_quarter'], how = 'left')\n",
    "kickstarter_campaigns = pd.merge(kickstarter_campaigns, ks_particpants_mth, on = ['category_name', 'launched_year', 'launched_month'], how = 'left')\n",
    "kickstarter_campaigns = pd.merge(kickstarter_campaigns, ks_particpants_wk, on = ['category_name', 'launched_year', 'launched_week'], how = 'left')"
   ]
  },
  {
   "cell_type": "code",
   "execution_count": 313,
   "metadata": {},
   "outputs": [],
   "source": [
    "#creating 2 metrics to get average pledge per backer for a category in a year according to the goal bucket it lies in and the success rate ie average pledged to goal ratio for the category and goal bucket in this year\n",
    "#using pledge_per_backer (computed earlier) and averaging it by category in a launch year\n",
    "#ks_ppb_goal=pd.DataFrame(kickstarter_campaigns.groupby(['category_name','launched_year','goal_cat_perc'])['pledge_per_backer','goal_reached'].mean())\n",
    "#since the above table has all group by columns created as index, converting them into columns\n",
    "#ks_ppb_goal.reset_index(inplace=True)\n",
    "\n",
    "#renaming column\n",
    "#ks_ppb_goal.columns= ['category_name','launched_year','goal_cat_perc','avg_ppb_goal','avg_success_rate_goal']\n",
    "\n",
    "#creating a metric: the success rate ie average pledged to goal ratio for the category in this year\n",
    "#ks_ppb_duration=pd.DataFrame(kickstarter_campaigns.groupby(['category_name','launched_year','duration_cat_perc'])['goal_reached'].mean())\n",
    "#since the above table has all group by columns created as index, converting them into columns\n",
    "#ks_ppb_duration.reset_index(inplace=True)\n",
    "\n",
    "#renaming column\n",
    "#ks_ppb_duration.columns= ['category_name','launched_year','duration_cat_perc','avg_success_rate_duration']\n"
   ]
  },
  {
   "cell_type": "code",
   "execution_count": 314,
   "metadata": {},
   "outputs": [],
   "source": [
    "#merging the particpants column into the base table\n",
    "#kickstarter_campaigns = pd.merge(kickstarter_campaigns, ks_ppb_goal, on = ['category_name', 'launched_year','goal_cat_perc'], how = 'left')\n",
    "#kickstarter_campaigns = pd.merge(kickstarter_campaigns, ks_ppb_duration, on = ['category_name', 'launched_year','duration_cat_perc'], how = 'left')"
   ]
  },
  {
   "cell_type": "code",
   "execution_count": 315,
   "metadata": {},
   "outputs": [],
   "source": [
    "#creating 2 metrics: mean and median goal amount\n",
    "median_goal_cat=pd.DataFrame(kickstarter_campaigns.groupby(['category_name','launched_year','duration_cat_perc'])['usd_goal_real'].median())\n",
    "#since the above table has all group by columns created as index, converting them into columns\n",
    "median_goal_cat.reset_index(inplace=True)\n",
    "#renaming column\n",
    "median_goal_cat.columns= ['category_name','launched_year','duration_cat_perc','median_goal_year']\n",
    "\n",
    "mean_goal_cat=pd.DataFrame(kickstarter_campaigns.groupby(['category_name','launched_year','duration_cat_perc'])['usd_goal_real'].mean())\n",
    "#since the above table has all group by columns created as index, converting them into columns\n",
    "mean_goal_cat.reset_index(inplace=True)\n",
    "#renaming column\n",
    "mean_goal_cat.columns= ['category_name','launched_year','duration_cat_perc','mean_goal_year']"
   ]
  },
  {
   "cell_type": "code",
   "execution_count": 316,
   "metadata": {},
   "outputs": [],
   "source": [
    "#merging the particpants column into the base table\n",
    "kickstarter_campaigns = pd.merge(kickstarter_campaigns, median_goal_cat, on = ['category_name', 'launched_year','duration_cat_perc'], how = 'left')\n",
    "kickstarter_campaigns = pd.merge(kickstarter_campaigns, mean_goal_cat, on = ['category_name', 'launched_year','duration_cat_perc'], how = 'left')"
   ]
  },
  {
   "cell_type": "code",
   "execution_count": 317,
   "metadata": {},
   "outputs": [
    {
     "name": "stdout",
     "output_type": "stream",
     "text": [
      "(291591, 47)\n"
     ]
    },
    {
     "data": {
      "text/html": [
       "<div>\n",
       "<style scoped>\n",
       "    .dataframe tbody tr th:only-of-type {\n",
       "        vertical-align: middle;\n",
       "    }\n",
       "\n",
       "    .dataframe tbody tr th {\n",
       "        vertical-align: top;\n",
       "    }\n",
       "\n",
       "    .dataframe thead th {\n",
       "        text-align: right;\n",
       "    }\n",
       "</style>\n",
       "<table border=\"1\" class=\"dataframe\">\n",
       "  <thead>\n",
       "    <tr style=\"text-align: right;\">\n",
       "      <th></th>\n",
       "      <th>Obs_No</th>\n",
       "      <th>name</th>\n",
       "      <th>backers_count</th>\n",
       "      <th>category_name</th>\n",
       "      <th>main_category_name</th>\n",
       "      <th>country</th>\n",
       "      <th>currency</th>\n",
       "      <th>goal</th>\n",
       "      <th>state</th>\n",
       "      <th>pledged</th>\n",
       "      <th>...</th>\n",
       "      <th>weekday</th>\n",
       "      <th>launched_year</th>\n",
       "      <th>launched_week</th>\n",
       "      <th>goal_cat_perc</th>\n",
       "      <th>duration_cat_perc</th>\n",
       "      <th>participants_qtr</th>\n",
       "      <th>participants_mth</th>\n",
       "      <th>participants_wk</th>\n",
       "      <th>median_goal_year</th>\n",
       "      <th>mean_goal_year</th>\n",
       "    </tr>\n",
       "  </thead>\n",
       "  <tbody>\n",
       "    <tr>\n",
       "      <th>0</th>\n",
       "      <td>402516</td>\n",
       "      <td>Grace Jones Does Not Give A F$#% T-Shirt (limi...</td>\n",
       "      <td>30</td>\n",
       "      <td>Fashion</td>\n",
       "      <td>Fashion</td>\n",
       "      <td>US</td>\n",
       "      <td>USD</td>\n",
       "      <td>1000.0</td>\n",
       "      <td>0</td>\n",
       "      <td>625.0</td>\n",
       "      <td>...</td>\n",
       "      <td>1</td>\n",
       "      <td>2009</td>\n",
       "      <td>17</td>\n",
       "      <td>1.0</td>\n",
       "      <td>2</td>\n",
       "      <td>3</td>\n",
       "      <td>2</td>\n",
       "      <td>1</td>\n",
       "      <td>3595.0</td>\n",
       "      <td>5011.470588</td>\n",
       "    </tr>\n",
       "    <tr>\n",
       "      <th>1</th>\n",
       "      <td>153109</td>\n",
       "      <td>CRYSTAL ANTLERS UNTITLED MOVIE</td>\n",
       "      <td>3</td>\n",
       "      <td>Shorts</td>\n",
       "      <td>Film &amp; Video</td>\n",
       "      <td>US</td>\n",
       "      <td>USD</td>\n",
       "      <td>80000.0</td>\n",
       "      <td>0</td>\n",
       "      <td>22.0</td>\n",
       "      <td>...</td>\n",
       "      <td>3</td>\n",
       "      <td>2009</td>\n",
       "      <td>17</td>\n",
       "      <td>3.0</td>\n",
       "      <td>2</td>\n",
       "      <td>6</td>\n",
       "      <td>2</td>\n",
       "      <td>1</td>\n",
       "      <td>4750.0</td>\n",
       "      <td>9675.250000</td>\n",
       "    </tr>\n",
       "    <tr>\n",
       "      <th>2</th>\n",
       "      <td>368465</td>\n",
       "      <td>drawing for dollars</td>\n",
       "      <td>3</td>\n",
       "      <td>Illustration</td>\n",
       "      <td>Art</td>\n",
       "      <td>US</td>\n",
       "      <td>USD</td>\n",
       "      <td>20.0</td>\n",
       "      <td>1</td>\n",
       "      <td>35.0</td>\n",
       "      <td>...</td>\n",
       "      <td>4</td>\n",
       "      <td>2009</td>\n",
       "      <td>17</td>\n",
       "      <td>1.0</td>\n",
       "      <td>0</td>\n",
       "      <td>4</td>\n",
       "      <td>1</td>\n",
       "      <td>1</td>\n",
       "      <td>165.0</td>\n",
       "      <td>437.500000</td>\n",
       "    </tr>\n",
       "  </tbody>\n",
       "</table>\n",
       "<p>3 rows × 47 columns</p>\n",
       "</div>"
      ],
      "text/plain": [
       "   Obs_No                                               name  backers_count  \\\n",
       "0  402516  Grace Jones Does Not Give A F$#% T-Shirt (limi...             30   \n",
       "1  153109                     CRYSTAL ANTLERS UNTITLED MOVIE              3   \n",
       "2  368465                                drawing for dollars              3   \n",
       "\n",
       "  category_name main_category_name country currency     goal  state  pledged  \\\n",
       "0       Fashion            Fashion      US      USD   1000.0      0    625.0   \n",
       "1        Shorts       Film & Video      US      USD  80000.0      0     22.0   \n",
       "2  Illustration                Art      US      USD     20.0      1     35.0   \n",
       "\n",
       "   ...  weekday launched_year launched_week goal_cat_perc duration_cat_perc  \\\n",
       "0  ...        1          2009            17           1.0                 2   \n",
       "1  ...        3          2009            17           3.0                 2   \n",
       "2  ...        4          2009            17           1.0                 0   \n",
       "\n",
       "  participants_qtr  participants_mth participants_wk  median_goal_year  \\\n",
       "0                3                 2               1            3595.0   \n",
       "1                6                 2               1            4750.0   \n",
       "2                4                 1               1             165.0   \n",
       "\n",
       "   mean_goal_year  \n",
       "0     5011.470588  \n",
       "1     9675.250000  \n",
       "2      437.500000  \n",
       "\n",
       "[3 rows x 47 columns]"
      ]
     },
     "execution_count": 317,
     "metadata": {},
     "output_type": "execute_result"
    }
   ],
   "source": [
    "print(kickstarter_campaigns.shape)\n",
    "kickstarter_campaigns[:3]"
   ]
  },
  {
   "cell_type": "code",
   "execution_count": 318,
   "metadata": {},
   "outputs": [],
   "source": [
    "# replacing all 'N,0\"' values in the country column with 'NZERO' to avoid discrepancies while one hot encoding\n",
    "kickstarter_campaigns = kickstarter_campaigns.replace({'country': 'N,0\"'}, {'country': 'NZERO'}, regex=True)"
   ]
  },
  {
   "cell_type": "code",
   "execution_count": 319,
   "metadata": {},
   "outputs": [
    {
     "name": "stdout",
     "output_type": "stream",
     "text": [
      "['Obs_No', 'name', 'backers_count', 'category_name', 'main_category_name', 'country', 'currency', 'goal', 'state', 'pledged', 'usd_pledged', 'created_date', 'deadline_date', 'state_changed_date', 'launched_date', 'Month_Yr', 'Year', 'source', 'usd_pledged_real', 'usd_goal_real', 'Month', 'name_len', 'name_exclaim', 'name_question', 'name_words', 'name_is_upper', 'name_is_lower', 'goal_log', 'Goal_10', 'Goal_1000', 'Goal_100', 'Goal_500', 'duration', 'duration_st_dead', 'change_flag', 'launched_quarter', 'launched_month', 'weekday', 'launched_year', 'launched_week', 'goal_cat_perc', 'duration_cat_perc', 'participants_qtr', 'participants_mth', 'participants_wk', 'median_goal_year', 'mean_goal_year']\n"
     ]
    }
   ],
   "source": [
    "kickstarter_campaigns_v1 = kickstarter_campaigns\n",
    "print(list(kickstarter_campaigns_v1))"
   ]
  },
  {
   "cell_type": "code",
   "execution_count": 320,
   "metadata": {},
   "outputs": [],
   "source": [
    "#kickstarter_campaigns_v1.to_csv(r'C:\\Sapna\\Graham\\Data Mining\\Project\\Kickstarter\\Datasets\\test\\Processed data\\Feature_engineered_data_R.csv')"
   ]
  },
  {
   "cell_type": "code",
   "execution_count": 321,
   "metadata": {},
   "outputs": [],
   "source": [
    "#selecting the needed fields only\n",
    "#this will lead to the final features list\n",
    "#creating a list of columns to be dropped\n",
    "#Recall 85%\n",
    "#drop_columns= ['Obs_No', 'name', 'backers_count', 'main_category_name', 'country', 'currency', 'goal', \n",
    "               #'pledged', 'usd_pledged', 'created_date', 'deadline_date', 'state_changed_date', 'launched_date', \n",
    "               #'Month_Yr', 'Year', 'source', 'usd_pledged_real', 'usd_goal_real', 'Month', 'launched_year','change_flag',\n",
    "              #'launched_quarter', 'launched_week']\n",
    "\n",
    "            #By dropping participants_qtr, participants_wk recall improved to 88%\n",
    "#drop_columns= ['Obs_No', 'name', 'backers_count', 'main_category_name', 'country', 'currency', 'goal', \n",
    "               #'pledged', 'usd_pledged', 'created_date', 'deadline_date', 'state_changed_date', 'launched_date', \n",
    "               #'Month_Yr', 'Year', 'source', 'usd_pledged_real', 'usd_goal_real', 'Month', 'launched_year','change_flag',\n",
    "               #'launched_quarter', 'launched_week','participants_qtr','participants_wk']\n",
    "\n",
    "drop_columns= ['Obs_No', 'name', 'country', \n",
    "               'currency', 'goal','pledged', 'usd_pledged', 'created_date', 'deadline_date', \n",
    "               'state_changed_date', 'launched_date', 'Month_Yr', 'Year', 'source', 'usd_pledged_real', \n",
    "                'Month','goal_log', 'Goal_10', 'Goal_1000', 'Goal_100', 'Goal_500', \n",
    "               'launched_year', \n",
    "               'goal_cat_perc', 'duration_cat_perc']\n",
    "#dropping columns above\n",
    "kickstarter_campaigns_v1.drop(drop_columns, axis=1, inplace=True)"
   ]
  },
  {
   "cell_type": "code",
   "execution_count": 322,
   "metadata": {},
   "outputs": [],
   "source": [
    "#rslt_df = pd.DataFrame(kickstarter_campaigns_v1.loc[kickstarter_campaigns_v1['category_name'].isnull()])\n",
    "\n",
    "#rslt_df.to_excel(r'C:\\Sapna\\Graham\\Data Mining\\Project\\Kickstarter\\Datasets\\test\\Processed data\\MissinG_names.xlsx')\n",
    "#print(rslt_df)\n",
    "#print (kickstarter_campaigns_v1['category_name'].value_counts())"
   ]
  },
  {
   "cell_type": "code",
   "execution_count": 323,
   "metadata": {},
   "outputs": [],
   "source": [
    "#these functions will be used on the textual column entries to remove '&','-' or white spaces\n",
    "def replace_ampersand(val):\n",
    "    if isinstance(val, str):\n",
    "        return(val.replace('&', 'and'))\n",
    "    else:\n",
    "        return(val)\n",
    "\n",
    "def replace_hyphen(val):\n",
    "    if isinstance(val, str):\n",
    "        return(val.replace('-', '_'))\n",
    "    else:\n",
    "        return(val)    \n",
    "    \n",
    "def remove_extraspace(val):\n",
    "        if isinstance(val, str):\n",
    "            return(val.strip())\n",
    "        else:\n",
    "            return(val) \n",
    "\n",
    "def replace_space(val):\n",
    "        if isinstance(val, str):\n",
    "            return(val.replace(' ', '_'))\n",
    "        else:\n",
    "            return(val) "
   ]
  },
  {
   "cell_type": "code",
   "execution_count": 324,
   "metadata": {},
   "outputs": [],
   "source": [
    "#apply those functions to all cat columns\n",
    "#this will remove special characters from the character columns.\n",
    "#Since these fields will be one-hot encoded, the column names so derived should be compatible with the requied format\n",
    "kickstarter_campaigns_v1['category_name'] = kickstarter_campaigns_v1['category_name'].apply(remove_extraspace)\n",
    "kickstarter_campaigns_v1['category_name'] = kickstarter_campaigns_v1['category_name'].apply(replace_ampersand)\n",
    "kickstarter_campaigns_v1['category_name'] = kickstarter_campaigns_v1['category_name'].apply(replace_hyphen)\n",
    "kickstarter_campaigns_v1['category_name'] = kickstarter_campaigns_v1['category_name'].apply(replace_space)\n",
    "\n",
    "#kickstarter_campaigns_v2['main_category_name'] = kickstarter_campaigns_v2['main_category_name'].apply(remove_extraspace)\n",
    "#kickstarter_campaigns_v2['main_category_name'] = kickstarter_campaigns_v2['main_category_name'].apply(replace_ampersand)\n",
    "#kickstarter_campaigns_v2['main_category_name'] = kickstarter_campaigns_v2['main_category_name'].apply(replace_hyphen)\n",
    "#kickstarter_campaigns_v2['main_category_name'] = kickstarter_campaigns_v2['main_category_name'].apply(replace_space)"
   ]
  },
  {
   "cell_type": "code",
   "execution_count": 325,
   "metadata": {},
   "outputs": [
    {
     "data": {
      "text/plain": [
       "backers_count          0\n",
       "category_name          0\n",
       "main_category_name     0\n",
       "state                  0\n",
       "usd_goal_real          0\n",
       "name_len              36\n",
       "name_exclaim           0\n",
       "name_question          0\n",
       "name_words             0\n",
       "name_is_upper         36\n",
       "name_is_lower         36\n",
       "duration               0\n",
       "duration_st_dead       0\n",
       "change_flag            0\n",
       "launched_quarter       0\n",
       "launched_month         0\n",
       "weekday                0\n",
       "launched_week          0\n",
       "participants_qtr       0\n",
       "participants_mth       0\n",
       "participants_wk        0\n",
       "median_goal_year       0\n",
       "mean_goal_year         0\n",
       "dtype: int64"
      ]
     },
     "execution_count": 325,
     "metadata": {},
     "output_type": "execute_result"
    }
   ],
   "source": [
    "#missing value treatment\n",
    "# Check for nulls.\n",
    "kickstarter_campaigns_v1.isnull().sum()"
   ]
  },
  {
   "cell_type": "code",
   "execution_count": 326,
   "metadata": {},
   "outputs": [],
   "source": [
    "#dropping all rows that have any nulls\n",
    "kickstarter_campaigns_v1=kickstarter_campaigns_v1.dropna() "
   ]
  },
  {
   "cell_type": "code",
   "execution_count": 327,
   "metadata": {},
   "outputs": [],
   "source": [
    "#kickstarter_campaigns_v1['weekday']"
   ]
  },
  {
   "cell_type": "code",
   "execution_count": 328,
   "metadata": {},
   "outputs": [
    {
     "data": {
      "text/plain": [
       "(291555, 23)"
      ]
     },
     "execution_count": 328,
     "metadata": {},
     "output_type": "execute_result"
    }
   ],
   "source": [
    "kickstarter_campaigns_v1.isnull().sum()\n",
    "kickstarter_campaigns_v1.shape"
   ]
  },
  {
   "cell_type": "code",
   "execution_count": 329,
   "metadata": {},
   "outputs": [
    {
     "data": {
      "text/html": [
       "<div>\n",
       "<style scoped>\n",
       "    .dataframe tbody tr th:only-of-type {\n",
       "        vertical-align: middle;\n",
       "    }\n",
       "\n",
       "    .dataframe tbody tr th {\n",
       "        vertical-align: top;\n",
       "    }\n",
       "\n",
       "    .dataframe thead th {\n",
       "        text-align: right;\n",
       "    }\n",
       "</style>\n",
       "<table border=\"1\" class=\"dataframe\">\n",
       "  <thead>\n",
       "    <tr style=\"text-align: right;\">\n",
       "      <th></th>\n",
       "      <th>backers_count</th>\n",
       "      <th>category_name</th>\n",
       "      <th>main_category_name</th>\n",
       "      <th>state</th>\n",
       "      <th>usd_goal_real</th>\n",
       "      <th>name_len</th>\n",
       "      <th>name_exclaim</th>\n",
       "      <th>name_question</th>\n",
       "      <th>name_words</th>\n",
       "      <th>name_is_upper</th>\n",
       "      <th>...</th>\n",
       "      <th>change_flag</th>\n",
       "      <th>launched_quarter</th>\n",
       "      <th>launched_month</th>\n",
       "      <th>weekday</th>\n",
       "      <th>launched_week</th>\n",
       "      <th>participants_qtr</th>\n",
       "      <th>participants_mth</th>\n",
       "      <th>participants_wk</th>\n",
       "      <th>median_goal_year</th>\n",
       "      <th>mean_goal_year</th>\n",
       "    </tr>\n",
       "  </thead>\n",
       "  <tbody>\n",
       "    <tr>\n",
       "      <th>0</th>\n",
       "      <td>30</td>\n",
       "      <td>Fashion</td>\n",
       "      <td>Fashion</td>\n",
       "      <td>0</td>\n",
       "      <td>1000.0</td>\n",
       "      <td>59.0</td>\n",
       "      <td>0</td>\n",
       "      <td>0</td>\n",
       "      <td>11</td>\n",
       "      <td>0.0</td>\n",
       "      <td>...</td>\n",
       "      <td>1</td>\n",
       "      <td>2</td>\n",
       "      <td>4</td>\n",
       "      <td>1</td>\n",
       "      <td>17</td>\n",
       "      <td>3</td>\n",
       "      <td>2</td>\n",
       "      <td>1</td>\n",
       "      <td>3595.0</td>\n",
       "      <td>5011.470588</td>\n",
       "    </tr>\n",
       "    <tr>\n",
       "      <th>1</th>\n",
       "      <td>3</td>\n",
       "      <td>Shorts</td>\n",
       "      <td>Film &amp; Video</td>\n",
       "      <td>0</td>\n",
       "      <td>80000.0</td>\n",
       "      <td>30.0</td>\n",
       "      <td>0</td>\n",
       "      <td>0</td>\n",
       "      <td>4</td>\n",
       "      <td>1.0</td>\n",
       "      <td>...</td>\n",
       "      <td>1</td>\n",
       "      <td>2</td>\n",
       "      <td>4</td>\n",
       "      <td>3</td>\n",
       "      <td>17</td>\n",
       "      <td>6</td>\n",
       "      <td>2</td>\n",
       "      <td>1</td>\n",
       "      <td>4750.0</td>\n",
       "      <td>9675.250000</td>\n",
       "    </tr>\n",
       "    <tr>\n",
       "      <th>2</th>\n",
       "      <td>3</td>\n",
       "      <td>Illustration</td>\n",
       "      <td>Art</td>\n",
       "      <td>1</td>\n",
       "      <td>20.0</td>\n",
       "      <td>19.0</td>\n",
       "      <td>0</td>\n",
       "      <td>0</td>\n",
       "      <td>3</td>\n",
       "      <td>0.0</td>\n",
       "      <td>...</td>\n",
       "      <td>1</td>\n",
       "      <td>2</td>\n",
       "      <td>4</td>\n",
       "      <td>4</td>\n",
       "      <td>17</td>\n",
       "      <td>4</td>\n",
       "      <td>1</td>\n",
       "      <td>1</td>\n",
       "      <td>165.0</td>\n",
       "      <td>437.500000</td>\n",
       "    </tr>\n",
       "    <tr>\n",
       "      <th>3</th>\n",
       "      <td>25</td>\n",
       "      <td>Software</td>\n",
       "      <td>Technology</td>\n",
       "      <td>1</td>\n",
       "      <td>99.0</td>\n",
       "      <td>28.0</td>\n",
       "      <td>0</td>\n",
       "      <td>0</td>\n",
       "      <td>4</td>\n",
       "      <td>0.0</td>\n",
       "      <td>...</td>\n",
       "      <td>1</td>\n",
       "      <td>2</td>\n",
       "      <td>4</td>\n",
       "      <td>5</td>\n",
       "      <td>17</td>\n",
       "      <td>8</td>\n",
       "      <td>2</td>\n",
       "      <td>1</td>\n",
       "      <td>3000.0</td>\n",
       "      <td>4358.076923</td>\n",
       "    </tr>\n",
       "    <tr>\n",
       "      <th>4</th>\n",
       "      <td>10</td>\n",
       "      <td>Fashion</td>\n",
       "      <td>Fashion</td>\n",
       "      <td>0</td>\n",
       "      <td>1900.0</td>\n",
       "      <td>10.0</td>\n",
       "      <td>0</td>\n",
       "      <td>0</td>\n",
       "      <td>1</td>\n",
       "      <td>0.0</td>\n",
       "      <td>...</td>\n",
       "      <td>1</td>\n",
       "      <td>2</td>\n",
       "      <td>4</td>\n",
       "      <td>0</td>\n",
       "      <td>18</td>\n",
       "      <td>3</td>\n",
       "      <td>2</td>\n",
       "      <td>1</td>\n",
       "      <td>1700.0</td>\n",
       "      <td>1600.000000</td>\n",
       "    </tr>\n",
       "  </tbody>\n",
       "</table>\n",
       "<p>5 rows × 23 columns</p>\n",
       "</div>"
      ],
      "text/plain": [
       "   backers_count category_name main_category_name  state  usd_goal_real  \\\n",
       "0             30       Fashion            Fashion      0         1000.0   \n",
       "1              3        Shorts       Film & Video      0        80000.0   \n",
       "2              3  Illustration                Art      1           20.0   \n",
       "3             25      Software         Technology      1           99.0   \n",
       "4             10       Fashion            Fashion      0         1900.0   \n",
       "\n",
       "   name_len  name_exclaim  name_question  name_words  name_is_upper  ...  \\\n",
       "0      59.0             0              0          11            0.0  ...   \n",
       "1      30.0             0              0           4            1.0  ...   \n",
       "2      19.0             0              0           3            0.0  ...   \n",
       "3      28.0             0              0           4            0.0  ...   \n",
       "4      10.0             0              0           1            0.0  ...   \n",
       "\n",
       "   change_flag  launched_quarter  launched_month  weekday  launched_week  \\\n",
       "0            1                 2               4        1             17   \n",
       "1            1                 2               4        3             17   \n",
       "2            1                 2               4        4             17   \n",
       "3            1                 2               4        5             17   \n",
       "4            1                 2               4        0             18   \n",
       "\n",
       "   participants_qtr  participants_mth  participants_wk  median_goal_year  \\\n",
       "0                 3                 2                1            3595.0   \n",
       "1                 6                 2                1            4750.0   \n",
       "2                 4                 1                1             165.0   \n",
       "3                 8                 2                1            3000.0   \n",
       "4                 3                 2                1            1700.0   \n",
       "\n",
       "   mean_goal_year  \n",
       "0     5011.470588  \n",
       "1     9675.250000  \n",
       "2      437.500000  \n",
       "3     4358.076923  \n",
       "4     1600.000000  \n",
       "\n",
       "[5 rows x 23 columns]"
      ]
     },
     "execution_count": 329,
     "metadata": {},
     "output_type": "execute_result"
    }
   ],
   "source": [
    "#creating a backup copy of the dataset\n",
    "kick_projects_copy= kickstarter_campaigns_v1.copy()\n",
    "kick_projects_copy[:5]"
   ]
  },
  {
   "cell_type": "code",
   "execution_count": 330,
   "metadata": {},
   "outputs": [
    {
     "name": "stdout",
     "output_type": "stream",
     "text": [
      "{'Fashion': 0, 'Shorts': 1, 'Illustration': 2, 'Software': 3, 'Journalism': 4, 'Photography': 5, 'Puzzles': 6, 'Film_and_Video': 7, 'Graphic_Design': 8, 'Rock': 9, 'Fiction': 10, 'Publishing': 11, 'Theater': 12, 'Documentary': 13, 'Sculpture': 14, 'Nonfiction': 15, 'Electronic_Music': 16, 'Painting': 17, 'Indie_Rock': 18, 'Public_Art': 19, 'Crafts': 20, 'Art': 21, 'Jazz': 22, 'Music': 23, 'Comics': 24, 'Narrative_Film': 25, \"Children'S_Books\": 26, 'Tabletop_Games': 27, 'Video_Games': 28, 'Digital_Art': 29, 'Food': 30, 'Conceptual_Art': 31, 'Animation': 32, 'Pop': 33, 'Hip_Hop': 34, 'Country_and_Folk': 35, 'Periodicals': 36, 'Webseries': 37, 'Mobile_Games': 38, 'Product_Design': 39, 'Performance_Art': 40, 'Art_Books': 41, 'World_Music': 42, 'Knitting': 43, 'Technology': 44, 'Classical_Music': 45, 'Graphic_Novels': 46, 'Radio_and_Podcasts': 47, 'Poetry': 48, 'Design': 49, 'Hardware': 50, 'Webcomics': 51, 'Dance': 52, 'Translations': 53, 'Crochet': 54, 'Games': 55, 'Photo': 56, 'Live_Games': 57, 'Mixed_Media': 58, 'Space_Exploration': 59, 'Photobooks': 60, 'Musical': 61, 'Audio': 62, 'Community_Gardens': 63, 'RandB': 64, 'Fabrication_Tools': 65, 'Textiles': 66, 'Architecture': 67, 'Immersive': 68, 'Literary_Journals': 69, 'Spaces': 70, 'Video': 71, 'Apps': 72, 'Literary_Spaces': 73, 'Diy_Electronics': 74, 'Academic': 75, 'Experimental': 76, 'Movie_Theaters': 77, 'Anthologies': 78, 'Plays': 79, 'Video_Art': 80, 'Comic_Books': 81, 'Letterpress': 82, 'Couture': 83, 'Robots': 84, 'Festivals': 85, 'Installations': 86, 'Sound': 87, 'Typography': 88, 'Stationery': 89, 'Camera_Equipment': 90, 'Flight': 91, 'Horror': 92, 'Residencies': 93, 'Workshops': 94, 'Chiptune': 95, 'Civic_Design': 96, 'Weaving': 97, 'Young_Adult': 98, 'Web': 99, 'Makerspaces': 100, 'Glass': 101, 'Quilts': 102, 'Pottery': 103, 'Romance': 104, 'Ceramics': 105, 'Embroidery': 106, 'Gaming_Hardware': 107, 'Candles': 108, 'Diy': 109, 'Printing': 110, 'Gadgets': 111, 'Zines': 112, 'Kids': 113, 'Footwear': 114, 'Pet_Fashion': 115, 'Events': 116, 'Thrillers': 117, 'Woodworking': 118, 'Animals': 119, 'Vegan': 120, 'Ready_To_Wear': 121, 'Accessories': 122, 'Punk': 123, 'Metal': 124, 'Bacon': 125, 'Family': 126, 'Food_Trucks': 127, 'Fantasy': 128, 'Places': 129, 'Science_Fiction': 130, 'Drama': 131, 'Latin': 132, 'Calendars': 133, 'Television': 134, 'Apparel': 135, 'Comedy': 136, 'Faith': 137, 'Restaurants': 138, 'Nature': 139, 'Music_Videos': 140, 'Cookbooks': 141, '3D_Printing': 142, 'Drinks': 143, 'People': 144, 'Childrenswear': 145, \"Farmer'S_Markets\": 146, 'Jewelry': 147, 'Fine_Art': 148, 'Blues': 149, 'Wearables': 150, 'Interactive_Design': 151, 'Small_Batch': 152, 'Farms': 153, 'Action': 154, 'Performances': 155, 'Playing_Cards': 156, 'Taxidermy': 157, 'Print': 158, 'Social_Practice': 159}\n",
      "{'Fashion': 0, 'Film & Video': 1, 'Art': 2, 'Technology': 3, 'Journalism': 4, 'Photography': 5, 'Games': 6, 'Design': 7, 'Music': 8, 'Publishing': 9, 'Theater': 10, 'Crafts': 11, 'Comics': 12, 'Food': 13, 'Dance': 14}\n"
     ]
    }
   ],
   "source": [
    "for c in kickstarter_campaigns_v1.columns:\n",
    "    #this gives us the list of columns and the respective data types\n",
    "    col_type = kickstarter_campaigns_v1[c].dtype\n",
    "    #looking through all categorical columns in the list above\n",
    "    if col_type == 'object' :\n",
    "        a=kickstarter_campaigns_v1[c].unique()\n",
    "        keys= range(a.shape[0])\n",
    "        #initiating a dictionary\n",
    "        diction={}\n",
    "        for idx,val in enumerate(a):\n",
    "        #looping through to create the dictionary with mappings\n",
    "            diction[idx] = a[idx]\n",
    "        #the above step maps integers to the values in the column\n",
    "        # hence inverting the key-value pairs\n",
    "        diction = {v: k for k, v in diction.items()}\n",
    "        print(diction)\n",
    "        # creating a dictionary for mapping the values to integers\n",
    "        kick_projects_copy[c] = [diction[item] for item in kick_projects_copy[c]] \n",
    "        # converting data type to 'category'\n",
    "        kick_projects_copy[c] = kick_projects_copy[c].astype('category')"
   ]
  },
  {
   "cell_type": "code",
   "execution_count": 331,
   "metadata": {},
   "outputs": [
    {
     "name": "stdout",
     "output_type": "stream",
     "text": [
      "['backers_count', 'category_name', 'main_category_name', 'state', 'usd_goal_real', 'name_len', 'name_exclaim', 'name_question', 'name_words', 'name_is_upper', 'name_is_lower', 'duration', 'duration_st_dead', 'change_flag', 'launched_quarter', 'launched_month', 'weekday', 'launched_week', 'participants_qtr', 'participants_mth', 'participants_wk', 'median_goal_year', 'mean_goal_year']\n"
     ]
    }
   ],
   "source": [
    "print(list(kickstarter_campaigns_v1))"
   ]
  },
  {
   "cell_type": "code",
   "execution_count": 332,
   "metadata": {},
   "outputs": [],
   "source": [
    "goal_arr=kickstarter_campaigns_v1['usd_goal_real']"
   ]
  },
  {
   "cell_type": "code",
   "execution_count": 333,
   "metadata": {},
   "outputs": [
    {
     "name": "stdout",
     "output_type": "stream",
     "text": [
      "Min: 0.01\n",
      "Mean: 36844.19752310885\n",
      "Median: 5000.0\n",
      "Mode: 0    5000.0\n",
      "dtype: float64\n",
      "Max: 100000000.0\n"
     ]
    }
   ],
   "source": [
    "print('Min:',kickstarter_campaigns_v1['usd_goal_real'].min())\n",
    "print('Mean:',kickstarter_campaigns_v1['usd_goal_real'].mean())\n",
    "print('Median:',kickstarter_campaigns_v1['usd_goal_real'].median())\n",
    "print('Mode:',kickstarter_campaigns_v1['usd_goal_real'].mode())\n",
    "print('Max:',kickstarter_campaigns_v1['usd_goal_real'].max())"
   ]
  },
  {
   "cell_type": "code",
   "execution_count": 334,
   "metadata": {},
   "outputs": [
    {
     "name": "stdout",
     "output_type": "stream",
     "text": [
      "5th percentile: 400.0\n",
      "10th percentile: 600.0\n",
      "25th percentile: 2000.0\n",
      "50th percentile: 5000.0\n",
      "75th percentile: 15000.0\n",
      "90th percentile: 36000.0\n",
      "95th percentile: 65000.0\n",
      "99th percentile: 250000.0\n"
     ]
    }
   ],
   "source": [
    "################# PERCENTILES  ##################################\n",
    "print('5th percentile:',np.percentile(goal_arr, 5))\n",
    "print('10th percentile:',np.percentile(goal_arr, 10))\n",
    "print('25th percentile:',np.percentile(goal_arr, 25))\n",
    "print('50th percentile:',np.percentile(goal_arr, 50))\n",
    "print('75th percentile:',np.percentile(goal_arr, 75))\n",
    "print('90th percentile:',np.percentile(goal_arr, 90))\n",
    "print('95th percentile:',np.percentile(goal_arr, 95))\n",
    "print('99th percentile:',np.percentile(goal_arr, 99))"
   ]
  },
  {
   "cell_type": "code",
   "execution_count": 335,
   "metadata": {},
   "outputs": [
    {
     "name": "stdout",
     "output_type": "stream",
     "text": [
      "['backers_count', 'category_name', 'main_category_name', 'state', 'usd_goal_real', 'name_len', 'name_exclaim', 'name_question', 'name_words', 'name_is_upper', 'name_is_lower', 'duration', 'duration_st_dead', 'change_flag', 'launched_quarter', 'launched_month', 'weekday', 'launched_week', 'participants_qtr', 'participants_mth', 'participants_wk', 'median_goal_year', 'mean_goal_year']\n",
      "(291555, 23)\n"
     ]
    }
   ],
   "source": [
    "print(list(kickstarter_campaigns_v2))\n",
    "print(kickstarter_campaigns_v1.shape)"
   ]
  },
  {
   "cell_type": "code",
   "execution_count": 336,
   "metadata": {},
   "outputs": [],
   "source": [
    "#Getting rid of the outliers\n",
    "kickstarter_campaigns_v2 = kickstarter_campaigns_v1[(kickstarter_campaigns_v1['usd_goal_real']>600) & (kickstarter_campaigns_v1['usd_goal_real']<100000000.0)]"
   ]
  },
  {
   "cell_type": "code",
   "execution_count": 337,
   "metadata": {},
   "outputs": [
    {
     "data": {
      "text/plain": [
       "main_category_name  state\n",
       "Art                 0        10230\n",
       "                    1         8897\n",
       "Comics              0         3451\n",
       "                    1         5787\n",
       "Crafts              0         3903\n",
       "                    1         1153\n",
       "Dance               0          982\n",
       "                    1         2153\n",
       "Design              0         8425\n",
       "                    1         9121\n",
       "Fashion             0        10845\n",
       "                    1         4470\n",
       "Film & Video        0        26178\n",
       "                    1        19952\n",
       "Food                0        13199\n",
       "                    1         5657\n",
       "Games               0         9568\n",
       "                    1        11719\n",
       "Journalism          0         2373\n",
       "                    1          784\n",
       "Music               0        17788\n",
       "                    1        22278\n",
       "Photography         0         4523\n",
       "                    1         2344\n",
       "Publishing          0        17234\n",
       "                    1        10550\n",
       "Technology          0        15193\n",
       "                    1         5409\n",
       "Theater             0         2972\n",
       "                    1         5054\n",
       "dtype: int64"
      ]
     },
     "execution_count": 337,
     "metadata": {},
     "output_type": "execute_result"
    }
   ],
   "source": [
    "kickstarter_campaigns_v2.groupby(['main_category_name','state']).size()"
   ]
  },
  {
   "cell_type": "code",
   "execution_count": 338,
   "metadata": {},
   "outputs": [],
   "source": [
    "kickstarter_campaigns_v2.to_csv(r'C:/Sapna/Graham/Data Mining/Project/Kickstarter/Datasets/test/Processed data/Feature_engineered_data_notenc_v1.csv', index = False)"
   ]
  },
  {
   "cell_type": "code",
   "execution_count": 339,
   "metadata": {},
   "outputs": [
    {
     "name": "stdout",
     "output_type": "stream",
     "text": [
      "['backers_count', 'category_name', 'main_category_name', 'state', 'usd_goal_real', 'name_len', 'name_exclaim', 'name_question', 'name_words', 'name_is_upper', 'name_is_lower', 'duration', 'duration_st_dead', 'change_flag', 'launched_quarter', 'launched_month', 'weekday', 'launched_week', 'participants_qtr', 'participants_mth', 'participants_wk', 'median_goal_year', 'mean_goal_year']\n"
     ]
    }
   ],
   "source": [
    "print(list(kickstarter_campaigns_v2))"
   ]
  },
  {
   "cell_type": "code",
   "execution_count": 340,
   "metadata": {},
   "outputs": [],
   "source": [
    "kickstarter_campaigns_v3 = kickstarter_campaigns_v1[kickstarter_campaigns_v1['usd_goal_real']>=100000000] "
   ]
  },
  {
   "cell_type": "code",
   "execution_count": 341,
   "metadata": {},
   "outputs": [
    {
     "data": {
      "text/plain": [
       "main_category_name  state\n",
       "Art                 0        2\n",
       "Comics              0        1\n",
       "Fashion             0        1\n",
       "Film & Video        0        7\n",
       "Games               0        2\n",
       "Journalism          0        1\n",
       "Publishing          0        1\n",
       "Technology          0        4\n",
       "dtype: int64"
      ]
     },
     "execution_count": 341,
     "metadata": {},
     "output_type": "execute_result"
    }
   ],
   "source": [
    "kickstarter_campaigns_v3.groupby(['main_category_name','state']).size()"
   ]
  },
  {
   "cell_type": "code",
   "execution_count": 342,
   "metadata": {},
   "outputs": [
    {
     "name": "stdout",
     "output_type": "stream",
     "text": [
      "(291555, 23)\n",
      "(262192, 23)\n"
     ]
    }
   ],
   "source": [
    "print(kickstarter_campaigns_v1.shape)\n",
    "print(kickstarter_campaigns_v2.shape)"
   ]
  },
  {
   "cell_type": "code",
   "execution_count": 345,
   "metadata": {},
   "outputs": [],
   "source": [
    "# One-Hot encoding to convert categorical columns to numeric\n",
    "#print('start one-hot encoding')\n",
    "\n",
    "#kick_projects_ip = pd.get_dummies(kickstarter_campaigns_v1, prefix = ['category','main_cat'],\n",
    "                             #columns = ['category_name','main_category_name'])\n",
    "    \n",
    "#this will have created 1-0 flag columns (like a sparse matrix)    \n",
    "#print('ADS dummy columns made')"
   ]
  },
  {
   "cell_type": "code",
   "execution_count": null,
   "metadata": {},
   "outputs": [],
   "source": [
    "#creating 2 arrays: features and response\n",
    "#features will have all independent variables\n",
    "features=list(kick_projects_ip)\n",
    "features.remove('state')\n",
    "#response has the target variable\n",
    "response= ['state']"
   ]
  },
  {
   "cell_type": "code",
   "execution_count": null,
   "metadata": {},
   "outputs": [],
   "source": [
    "#creating a backup copy of the input dataset\n",
    "kick_projects_ip_copy= kick_projects_ip.copy()"
   ]
  },
  {
   "cell_type": "code",
   "execution_count": 148,
   "metadata": {},
   "outputs": [
    {
     "data": {
      "text/html": [
       "<div>\n",
       "<style scoped>\n",
       "    .dataframe tbody tr th:only-of-type {\n",
       "        vertical-align: middle;\n",
       "    }\n",
       "\n",
       "    .dataframe tbody tr th {\n",
       "        vertical-align: top;\n",
       "    }\n",
       "\n",
       "    .dataframe thead th {\n",
       "        text-align: right;\n",
       "    }\n",
       "</style>\n",
       "<table border=\"1\" class=\"dataframe\">\n",
       "  <thead>\n",
       "    <tr style=\"text-align: right;\">\n",
       "      <th></th>\n",
       "      <th>state</th>\n",
       "      <th>name_len</th>\n",
       "      <th>name_exclaim</th>\n",
       "      <th>name_question</th>\n",
       "      <th>name_words</th>\n",
       "      <th>name_is_upper</th>\n",
       "      <th>name_is_lower</th>\n",
       "      <th>duration</th>\n",
       "      <th>launched_month</th>\n",
       "      <th>weekday</th>\n",
       "      <th>...</th>\n",
       "      <th>main_cat_Fashion</th>\n",
       "      <th>main_cat_Film &amp; Video</th>\n",
       "      <th>main_cat_Food</th>\n",
       "      <th>main_cat_Games</th>\n",
       "      <th>main_cat_Journalism</th>\n",
       "      <th>main_cat_Music</th>\n",
       "      <th>main_cat_Photography</th>\n",
       "      <th>main_cat_Publishing</th>\n",
       "      <th>main_cat_Technology</th>\n",
       "      <th>main_cat_Theater</th>\n",
       "    </tr>\n",
       "  </thead>\n",
       "  <tbody>\n",
       "    <tr>\n",
       "      <th>0</th>\n",
       "      <td>0</td>\n",
       "      <td>59.0</td>\n",
       "      <td>0</td>\n",
       "      <td>0</td>\n",
       "      <td>11</td>\n",
       "      <td>0.0</td>\n",
       "      <td>0.0</td>\n",
       "      <td>40</td>\n",
       "      <td>4</td>\n",
       "      <td>1</td>\n",
       "      <td>...</td>\n",
       "      <td>1</td>\n",
       "      <td>0</td>\n",
       "      <td>0</td>\n",
       "      <td>0</td>\n",
       "      <td>0</td>\n",
       "      <td>0</td>\n",
       "      <td>0</td>\n",
       "      <td>0</td>\n",
       "      <td>0</td>\n",
       "      <td>0</td>\n",
       "    </tr>\n",
       "    <tr>\n",
       "      <th>1</th>\n",
       "      <td>0</td>\n",
       "      <td>30.0</td>\n",
       "      <td>0</td>\n",
       "      <td>0</td>\n",
       "      <td>4</td>\n",
       "      <td>1.0</td>\n",
       "      <td>0.0</td>\n",
       "      <td>88</td>\n",
       "      <td>4</td>\n",
       "      <td>3</td>\n",
       "      <td>...</td>\n",
       "      <td>0</td>\n",
       "      <td>1</td>\n",
       "      <td>0</td>\n",
       "      <td>0</td>\n",
       "      <td>0</td>\n",
       "      <td>0</td>\n",
       "      <td>0</td>\n",
       "      <td>0</td>\n",
       "      <td>0</td>\n",
       "      <td>0</td>\n",
       "    </tr>\n",
       "    <tr>\n",
       "      <th>2</th>\n",
       "      <td>1</td>\n",
       "      <td>19.0</td>\n",
       "      <td>0</td>\n",
       "      <td>0</td>\n",
       "      <td>3</td>\n",
       "      <td>0.0</td>\n",
       "      <td>1.0</td>\n",
       "      <td>9</td>\n",
       "      <td>4</td>\n",
       "      <td>4</td>\n",
       "      <td>...</td>\n",
       "      <td>0</td>\n",
       "      <td>0</td>\n",
       "      <td>0</td>\n",
       "      <td>0</td>\n",
       "      <td>0</td>\n",
       "      <td>0</td>\n",
       "      <td>0</td>\n",
       "      <td>0</td>\n",
       "      <td>0</td>\n",
       "      <td>0</td>\n",
       "    </tr>\n",
       "    <tr>\n",
       "      <th>3</th>\n",
       "      <td>1</td>\n",
       "      <td>28.0</td>\n",
       "      <td>0</td>\n",
       "      <td>0</td>\n",
       "      <td>4</td>\n",
       "      <td>0.0</td>\n",
       "      <td>0.0</td>\n",
       "      <td>80</td>\n",
       "      <td>4</td>\n",
       "      <td>5</td>\n",
       "      <td>...</td>\n",
       "      <td>0</td>\n",
       "      <td>0</td>\n",
       "      <td>0</td>\n",
       "      <td>0</td>\n",
       "      <td>0</td>\n",
       "      <td>0</td>\n",
       "      <td>0</td>\n",
       "      <td>0</td>\n",
       "      <td>1</td>\n",
       "      <td>0</td>\n",
       "    </tr>\n",
       "    <tr>\n",
       "      <th>4</th>\n",
       "      <td>0</td>\n",
       "      <td>10.0</td>\n",
       "      <td>0</td>\n",
       "      <td>0</td>\n",
       "      <td>1</td>\n",
       "      <td>0.0</td>\n",
       "      <td>0.0</td>\n",
       "      <td>29</td>\n",
       "      <td>4</td>\n",
       "      <td>0</td>\n",
       "      <td>...</td>\n",
       "      <td>1</td>\n",
       "      <td>0</td>\n",
       "      <td>0</td>\n",
       "      <td>0</td>\n",
       "      <td>0</td>\n",
       "      <td>0</td>\n",
       "      <td>0</td>\n",
       "      <td>0</td>\n",
       "      <td>0</td>\n",
       "      <td>0</td>\n",
       "    </tr>\n",
       "  </tbody>\n",
       "</table>\n",
       "<p>5 rows × 186 columns</p>\n",
       "</div>"
      ],
      "text/plain": [
       "   state  name_len  name_exclaim  name_question  name_words  name_is_upper  \\\n",
       "0      0      59.0             0              0          11            0.0   \n",
       "1      0      30.0             0              0           4            1.0   \n",
       "2      1      19.0             0              0           3            0.0   \n",
       "3      1      28.0             0              0           4            0.0   \n",
       "4      0      10.0             0              0           1            0.0   \n",
       "\n",
       "   name_is_lower  duration  launched_month  weekday  ...  main_cat_Fashion  \\\n",
       "0            0.0        40               4        1  ...                 1   \n",
       "1            0.0        88               4        3  ...                 0   \n",
       "2            1.0         9               4        4  ...                 0   \n",
       "3            0.0        80               4        5  ...                 0   \n",
       "4            0.0        29               4        0  ...                 1   \n",
       "\n",
       "   main_cat_Film & Video  main_cat_Food  main_cat_Games  main_cat_Journalism  \\\n",
       "0                      0              0               0                    0   \n",
       "1                      1              0               0                    0   \n",
       "2                      0              0               0                    0   \n",
       "3                      0              0               0                    0   \n",
       "4                      0              0               0                    0   \n",
       "\n",
       "   main_cat_Music  main_cat_Photography  main_cat_Publishing  \\\n",
       "0               0                     0                    0   \n",
       "1               0                     0                    0   \n",
       "2               0                     0                    0   \n",
       "3               0                     0                    0   \n",
       "4               0                     0                    0   \n",
       "\n",
       "   main_cat_Technology  main_cat_Theater  \n",
       "0                    0                 0  \n",
       "1                    0                 0  \n",
       "2                    0                 0  \n",
       "3                    1                 0  \n",
       "4                    0                 0  \n",
       "\n",
       "[5 rows x 186 columns]"
      ]
     },
     "execution_count": 148,
     "metadata": {},
     "output_type": "execute_result"
    }
   ],
   "source": [
    "kick_projects_ip[features].shape\n",
    "kick_projects_ip.head()\n",
    "#kick_projects_ip.info()"
   ]
  },
  {
   "cell_type": "code",
   "execution_count": 149,
   "metadata": {},
   "outputs": [
    {
     "name": "stdout",
     "output_type": "stream",
     "text": [
      "['state', 'name_len', 'name_exclaim', 'name_question', 'name_words', 'name_is_upper', 'name_is_lower', 'duration', 'launched_month', 'weekday', 'participants_wk', 'category_3D_Printing', 'category_Academic', 'category_Accessories', 'category_Action', 'category_Animals', 'category_Animation', 'category_Anthologies', 'category_Apparel', 'category_Apps', 'category_Architecture', 'category_Art', 'category_Art_Books', 'category_Audio', 'category_Bacon', 'category_Blues', 'category_Calendars', 'category_Camera_Equipment', 'category_Candles', 'category_Ceramics', \"category_Children'S_Books\", 'category_Childrenswear', 'category_Chiptune', 'category_Civic_Design', 'category_Classical_Music', 'category_Comedy', 'category_Comic_Books', 'category_Comics', 'category_Community_Gardens', 'category_Conceptual_Art', 'category_Cookbooks', 'category_Country_and_Folk', 'category_Couture', 'category_Crafts', 'category_Crochet', 'category_Dance', 'category_Design', 'category_Digital_Art', 'category_Diy', 'category_Diy_Electronics', 'category_Documentary', 'category_Drama', 'category_Drinks', 'category_Electronic_Music', 'category_Embroidery', 'category_Events', 'category_Experimental', 'category_Fabrication_Tools', 'category_Faith', 'category_Family', 'category_Fantasy', \"category_Farmer'S_Markets\", 'category_Farms', 'category_Fashion', 'category_Festivals', 'category_Fiction', 'category_Film_and_Video', 'category_Fine_Art', 'category_Flight', 'category_Food', 'category_Food_Trucks', 'category_Footwear', 'category_Gadgets', 'category_Games', 'category_Gaming_Hardware', 'category_Glass', 'category_Graphic_Design', 'category_Graphic_Novels', 'category_Hardware', 'category_Hip_Hop', 'category_Horror', 'category_Illustration', 'category_Immersive', 'category_Indie_Rock', 'category_Installations', 'category_Interactive_Design', 'category_Jazz', 'category_Jewelry', 'category_Journalism', 'category_Kids', 'category_Knitting', 'category_Latin', 'category_Letterpress', 'category_Literary_Journals', 'category_Literary_Spaces', 'category_Live_Games', 'category_Makerspaces', 'category_Metal', 'category_Mixed_Media', 'category_Mobile_Games', 'category_Movie_Theaters', 'category_Music', 'category_Music_Videos', 'category_Musical', 'category_Narrative_Film', 'category_Nature', 'category_Nonfiction', 'category_Painting', 'category_People', 'category_Performance_Art', 'category_Performances', 'category_Periodicals', 'category_Pet_Fashion', 'category_Photo', 'category_Photobooks', 'category_Photography', 'category_Places', 'category_Playing_Cards', 'category_Plays', 'category_Poetry', 'category_Pop', 'category_Pottery', 'category_Print', 'category_Printing', 'category_Product_Design', 'category_Public_Art', 'category_Publishing', 'category_Punk', 'category_Puzzles', 'category_Quilts', 'category_Radio_and_Podcasts', 'category_RandB', 'category_Ready_To_Wear', 'category_Residencies', 'category_Restaurants', 'category_Robots', 'category_Rock', 'category_Romance', 'category_Science_Fiction', 'category_Sculpture', 'category_Shorts', 'category_Small_Batch', 'category_Social_Practice', 'category_Software', 'category_Sound', 'category_Space_Exploration', 'category_Spaces', 'category_Stationery', 'category_Tabletop_Games', 'category_Taxidermy', 'category_Technology', 'category_Television', 'category_Textiles', 'category_Theater', 'category_Thrillers', 'category_Translations', 'category_Typography', 'category_Vegan', 'category_Video', 'category_Video_Art', 'category_Video_Games', 'category_Wearables', 'category_Weaving', 'category_Web', 'category_Webcomics', 'category_Webseries', 'category_Woodworking', 'category_Workshops', 'category_World_Music', 'category_Young_Adult', 'category_Zines', 'main_cat_Art', 'main_cat_Comics', 'main_cat_Crafts', 'main_cat_Dance', 'main_cat_Design', 'main_cat_Fashion', 'main_cat_Film & Video', 'main_cat_Food', 'main_cat_Games', 'main_cat_Journalism', 'main_cat_Music', 'main_cat_Photography', 'main_cat_Publishing', 'main_cat_Technology', 'main_cat_Theater']\n"
     ]
    }
   ],
   "source": [
    "print(list(kick_projects_ip_copy))"
   ]
  },
  {
   "cell_type": "code",
   "execution_count": 150,
   "metadata": {},
   "outputs": [],
   "source": [
    "# Dropping 'category_Taxidermy' as it is the least frequently occuring category\n",
    "drop_columns= ['category_Taxidermy','main_cat_Dance']\n",
    "#dropping columns above\n",
    "kick_projects_ip_copy.drop(drop_columns, axis=1, inplace=True)"
   ]
  },
  {
   "cell_type": "code",
   "execution_count": 151,
   "metadata": {},
   "outputs": [],
   "source": [
    "kick_projects_ip_copy.to_csv(r'C:/Sapna/Graham/Data Mining/Project/Kickstarter/Datasets/test/Processed data/Feature_engineered_data.csv', index = False)"
   ]
  },
  {
   "cell_type": "code",
   "execution_count": 152,
   "metadata": {},
   "outputs": [
    {
     "data": {
      "text/html": [
       "<div>\n",
       "<style scoped>\n",
       "    .dataframe tbody tr th:only-of-type {\n",
       "        vertical-align: middle;\n",
       "    }\n",
       "\n",
       "    .dataframe tbody tr th {\n",
       "        vertical-align: top;\n",
       "    }\n",
       "\n",
       "    .dataframe thead th {\n",
       "        text-align: right;\n",
       "    }\n",
       "</style>\n",
       "<table border=\"1\" class=\"dataframe\">\n",
       "  <thead>\n",
       "    <tr style=\"text-align: right;\">\n",
       "      <th></th>\n",
       "      <th>state</th>\n",
       "      <th>name_len</th>\n",
       "      <th>name_exclaim</th>\n",
       "      <th>name_question</th>\n",
       "      <th>name_words</th>\n",
       "      <th>name_is_upper</th>\n",
       "      <th>name_is_lower</th>\n",
       "      <th>duration</th>\n",
       "      <th>launched_month</th>\n",
       "      <th>weekday</th>\n",
       "      <th>...</th>\n",
       "      <th>main_cat_Fashion</th>\n",
       "      <th>main_cat_Film &amp; Video</th>\n",
       "      <th>main_cat_Food</th>\n",
       "      <th>main_cat_Games</th>\n",
       "      <th>main_cat_Journalism</th>\n",
       "      <th>main_cat_Music</th>\n",
       "      <th>main_cat_Photography</th>\n",
       "      <th>main_cat_Publishing</th>\n",
       "      <th>main_cat_Technology</th>\n",
       "      <th>main_cat_Theater</th>\n",
       "    </tr>\n",
       "  </thead>\n",
       "  <tbody>\n",
       "  </tbody>\n",
       "</table>\n",
       "<p>0 rows × 184 columns</p>\n",
       "</div>"
      ],
      "text/plain": [
       "Empty DataFrame\n",
       "Columns: [state, name_len, name_exclaim, name_question, name_words, name_is_upper, name_is_lower, duration, launched_month, weekday, participants_wk, category_3D_Printing, category_Academic, category_Accessories, category_Action, category_Animals, category_Animation, category_Anthologies, category_Apparel, category_Apps, category_Architecture, category_Art, category_Art_Books, category_Audio, category_Bacon, category_Blues, category_Calendars, category_Camera_Equipment, category_Candles, category_Ceramics, category_Children'S_Books, category_Childrenswear, category_Chiptune, category_Civic_Design, category_Classical_Music, category_Comedy, category_Comic_Books, category_Comics, category_Community_Gardens, category_Conceptual_Art, category_Cookbooks, category_Country_and_Folk, category_Couture, category_Crafts, category_Crochet, category_Dance, category_Design, category_Digital_Art, category_Diy, category_Diy_Electronics, category_Documentary, category_Drama, category_Drinks, category_Electronic_Music, category_Embroidery, category_Events, category_Experimental, category_Fabrication_Tools, category_Faith, category_Family, category_Fantasy, category_Farmer'S_Markets, category_Farms, category_Fashion, category_Festivals, category_Fiction, category_Film_and_Video, category_Fine_Art, category_Flight, category_Food, category_Food_Trucks, category_Footwear, category_Gadgets, category_Games, category_Gaming_Hardware, category_Glass, category_Graphic_Design, category_Graphic_Novels, category_Hardware, category_Hip_Hop, category_Horror, category_Illustration, category_Immersive, category_Indie_Rock, category_Installations, category_Interactive_Design, category_Jazz, category_Jewelry, category_Journalism, category_Kids, category_Knitting, category_Latin, category_Letterpress, category_Literary_Journals, category_Literary_Spaces, category_Live_Games, category_Makerspaces, category_Metal, category_Mixed_Media, category_Mobile_Games, ...]\n",
       "Index: []\n",
       "\n",
       "[0 rows x 184 columns]"
      ]
     },
     "execution_count": 152,
     "metadata": {},
     "output_type": "execute_result"
    }
   ],
   "source": [
    "#Testing\n",
    "outliers =kick_projects_ip_copy[kick_projects_ip_copy.duration>100]\n",
    "outliers"
   ]
  },
  {
   "cell_type": "code",
   "execution_count": 153,
   "metadata": {},
   "outputs": [
    {
     "data": {
      "text/plain": [
       "0    54.17\n",
       "1    45.83\n",
       "Name: state, dtype: float64"
      ]
     },
     "execution_count": 153,
     "metadata": {},
     "output_type": "execute_result"
    }
   ],
   "source": [
    "percent_success = round(kick_projects_ip_copy[\"state\"].value_counts()/len(kick_projects_ip_copy[\"state\"])* 100,2)\n",
    "percent_success"
   ]
  },
  {
   "cell_type": "code",
   "execution_count": 154,
   "metadata": {},
   "outputs": [
    {
     "name": "stdout",
     "output_type": "stream",
     "text": [
      "<class 'pandas.core.frame.DataFrame'>\n",
      "Int64Index: 291555 entries, 0 to 291590\n",
      "Columns: 184 entries, state to main_cat_Theater\n",
      "dtypes: float64(3), int32(2), int64(6), uint8(173)\n",
      "memory usage: 72.6 MB\n"
     ]
    },
    {
     "data": {
      "text/html": [
       "<div>\n",
       "<style scoped>\n",
       "    .dataframe tbody tr th:only-of-type {\n",
       "        vertical-align: middle;\n",
       "    }\n",
       "\n",
       "    .dataframe tbody tr th {\n",
       "        vertical-align: top;\n",
       "    }\n",
       "\n",
       "    .dataframe thead th {\n",
       "        text-align: right;\n",
       "    }\n",
       "</style>\n",
       "<table border=\"1\" class=\"dataframe\">\n",
       "  <thead>\n",
       "    <tr style=\"text-align: right;\">\n",
       "      <th></th>\n",
       "      <th>state</th>\n",
       "      <th>name_len</th>\n",
       "      <th>name_exclaim</th>\n",
       "      <th>name_question</th>\n",
       "      <th>name_words</th>\n",
       "      <th>name_is_upper</th>\n",
       "      <th>name_is_lower</th>\n",
       "      <th>duration</th>\n",
       "      <th>launched_month</th>\n",
       "      <th>weekday</th>\n",
       "      <th>...</th>\n",
       "      <th>main_cat_Fashion</th>\n",
       "      <th>main_cat_Film &amp; Video</th>\n",
       "      <th>main_cat_Food</th>\n",
       "      <th>main_cat_Games</th>\n",
       "      <th>main_cat_Journalism</th>\n",
       "      <th>main_cat_Music</th>\n",
       "      <th>main_cat_Photography</th>\n",
       "      <th>main_cat_Publishing</th>\n",
       "      <th>main_cat_Technology</th>\n",
       "      <th>main_cat_Theater</th>\n",
       "    </tr>\n",
       "  </thead>\n",
       "  <tbody>\n",
       "    <tr>\n",
       "      <th>count</th>\n",
       "      <td>291555.000000</td>\n",
       "      <td>291555.000000</td>\n",
       "      <td>291555.000000</td>\n",
       "      <td>291555.000000</td>\n",
       "      <td>291555.000000</td>\n",
       "      <td>291555.000000</td>\n",
       "      <td>291555.000000</td>\n",
       "      <td>291555.000000</td>\n",
       "      <td>291555.000000</td>\n",
       "      <td>291555.000000</td>\n",
       "      <td>...</td>\n",
       "      <td>291555.000000</td>\n",
       "      <td>291555.000000</td>\n",
       "      <td>291555.000000</td>\n",
       "      <td>291555.000000</td>\n",
       "      <td>291555.000000</td>\n",
       "      <td>291555.000000</td>\n",
       "      <td>291555.000000</td>\n",
       "      <td>291555.000000</td>\n",
       "      <td>291555.000000</td>\n",
       "      <td>291555.000000</td>\n",
       "    </tr>\n",
       "    <tr>\n",
       "      <th>mean</th>\n",
       "      <td>0.458332</td>\n",
       "      <td>34.671023</td>\n",
       "      <td>0.083929</td>\n",
       "      <td>0.004037</td>\n",
       "      <td>5.724930</td>\n",
       "      <td>0.037262</td>\n",
       "      <td>0.009473</td>\n",
       "      <td>33.991597</td>\n",
       "      <td>6.362309</td>\n",
       "      <td>2.383122</td>\n",
       "      <td>...</td>\n",
       "      <td>0.060534</td>\n",
       "      <td>0.169656</td>\n",
       "      <td>0.070275</td>\n",
       "      <td>0.081353</td>\n",
       "      <td>0.012269</td>\n",
       "      <td>0.149835</td>\n",
       "      <td>0.026767</td>\n",
       "      <td>0.105736</td>\n",
       "      <td>0.073420</td>\n",
       "      <td>0.030125</td>\n",
       "    </tr>\n",
       "    <tr>\n",
       "      <th>std</th>\n",
       "      <td>0.498262</td>\n",
       "      <td>15.907596</td>\n",
       "      <td>0.277282</td>\n",
       "      <td>0.063409</td>\n",
       "      <td>2.759459</td>\n",
       "      <td>0.189404</td>\n",
       "      <td>0.096869</td>\n",
       "      <td>12.962874</td>\n",
       "      <td>3.315117</td>\n",
       "      <td>1.764481</td>\n",
       "      <td>...</td>\n",
       "      <td>0.238474</td>\n",
       "      <td>0.375331</td>\n",
       "      <td>0.255610</td>\n",
       "      <td>0.273378</td>\n",
       "      <td>0.110083</td>\n",
       "      <td>0.356910</td>\n",
       "      <td>0.161402</td>\n",
       "      <td>0.307501</td>\n",
       "      <td>0.260825</td>\n",
       "      <td>0.170931</td>\n",
       "    </tr>\n",
       "    <tr>\n",
       "      <th>min</th>\n",
       "      <td>0.000000</td>\n",
       "      <td>1.000000</td>\n",
       "      <td>0.000000</td>\n",
       "      <td>0.000000</td>\n",
       "      <td>1.000000</td>\n",
       "      <td>0.000000</td>\n",
       "      <td>0.000000</td>\n",
       "      <td>1.000000</td>\n",
       "      <td>1.000000</td>\n",
       "      <td>0.000000</td>\n",
       "      <td>...</td>\n",
       "      <td>0.000000</td>\n",
       "      <td>0.000000</td>\n",
       "      <td>0.000000</td>\n",
       "      <td>0.000000</td>\n",
       "      <td>0.000000</td>\n",
       "      <td>0.000000</td>\n",
       "      <td>0.000000</td>\n",
       "      <td>0.000000</td>\n",
       "      <td>0.000000</td>\n",
       "      <td>0.000000</td>\n",
       "    </tr>\n",
       "    <tr>\n",
       "      <th>25%</th>\n",
       "      <td>0.000000</td>\n",
       "      <td>21.000000</td>\n",
       "      <td>0.000000</td>\n",
       "      <td>0.000000</td>\n",
       "      <td>4.000000</td>\n",
       "      <td>0.000000</td>\n",
       "      <td>0.000000</td>\n",
       "      <td>30.000000</td>\n",
       "      <td>4.000000</td>\n",
       "      <td>1.000000</td>\n",
       "      <td>...</td>\n",
       "      <td>0.000000</td>\n",
       "      <td>0.000000</td>\n",
       "      <td>0.000000</td>\n",
       "      <td>0.000000</td>\n",
       "      <td>0.000000</td>\n",
       "      <td>0.000000</td>\n",
       "      <td>0.000000</td>\n",
       "      <td>0.000000</td>\n",
       "      <td>0.000000</td>\n",
       "      <td>0.000000</td>\n",
       "    </tr>\n",
       "    <tr>\n",
       "      <th>50%</th>\n",
       "      <td>0.000000</td>\n",
       "      <td>34.000000</td>\n",
       "      <td>0.000000</td>\n",
       "      <td>0.000000</td>\n",
       "      <td>6.000000</td>\n",
       "      <td>0.000000</td>\n",
       "      <td>0.000000</td>\n",
       "      <td>30.000000</td>\n",
       "      <td>6.000000</td>\n",
       "      <td>2.000000</td>\n",
       "      <td>...</td>\n",
       "      <td>0.000000</td>\n",
       "      <td>0.000000</td>\n",
       "      <td>0.000000</td>\n",
       "      <td>0.000000</td>\n",
       "      <td>0.000000</td>\n",
       "      <td>0.000000</td>\n",
       "      <td>0.000000</td>\n",
       "      <td>0.000000</td>\n",
       "      <td>0.000000</td>\n",
       "      <td>0.000000</td>\n",
       "    </tr>\n",
       "    <tr>\n",
       "      <th>75%</th>\n",
       "      <td>1.000000</td>\n",
       "      <td>48.000000</td>\n",
       "      <td>0.000000</td>\n",
       "      <td>0.000000</td>\n",
       "      <td>8.000000</td>\n",
       "      <td>0.000000</td>\n",
       "      <td>0.000000</td>\n",
       "      <td>37.000000</td>\n",
       "      <td>9.000000</td>\n",
       "      <td>4.000000</td>\n",
       "      <td>...</td>\n",
       "      <td>0.000000</td>\n",
       "      <td>0.000000</td>\n",
       "      <td>0.000000</td>\n",
       "      <td>0.000000</td>\n",
       "      <td>0.000000</td>\n",
       "      <td>0.000000</td>\n",
       "      <td>0.000000</td>\n",
       "      <td>0.000000</td>\n",
       "      <td>0.000000</td>\n",
       "      <td>0.000000</td>\n",
       "    </tr>\n",
       "    <tr>\n",
       "      <th>max</th>\n",
       "      <td>1.000000</td>\n",
       "      <td>205.000000</td>\n",
       "      <td>1.000000</td>\n",
       "      <td>1.000000</td>\n",
       "      <td>41.000000</td>\n",
       "      <td>1.000000</td>\n",
       "      <td>1.000000</td>\n",
       "      <td>98.000000</td>\n",
       "      <td>12.000000</td>\n",
       "      <td>6.000000</td>\n",
       "      <td>...</td>\n",
       "      <td>1.000000</td>\n",
       "      <td>1.000000</td>\n",
       "      <td>1.000000</td>\n",
       "      <td>1.000000</td>\n",
       "      <td>1.000000</td>\n",
       "      <td>1.000000</td>\n",
       "      <td>1.000000</td>\n",
       "      <td>1.000000</td>\n",
       "      <td>1.000000</td>\n",
       "      <td>1.000000</td>\n",
       "    </tr>\n",
       "  </tbody>\n",
       "</table>\n",
       "<p>8 rows × 184 columns</p>\n",
       "</div>"
      ],
      "text/plain": [
       "               state       name_len   name_exclaim  name_question  \\\n",
       "count  291555.000000  291555.000000  291555.000000  291555.000000   \n",
       "mean        0.458332      34.671023       0.083929       0.004037   \n",
       "std         0.498262      15.907596       0.277282       0.063409   \n",
       "min         0.000000       1.000000       0.000000       0.000000   \n",
       "25%         0.000000      21.000000       0.000000       0.000000   \n",
       "50%         0.000000      34.000000       0.000000       0.000000   \n",
       "75%         1.000000      48.000000       0.000000       0.000000   \n",
       "max         1.000000     205.000000       1.000000       1.000000   \n",
       "\n",
       "          name_words  name_is_upper  name_is_lower       duration  \\\n",
       "count  291555.000000  291555.000000  291555.000000  291555.000000   \n",
       "mean        5.724930       0.037262       0.009473      33.991597   \n",
       "std         2.759459       0.189404       0.096869      12.962874   \n",
       "min         1.000000       0.000000       0.000000       1.000000   \n",
       "25%         4.000000       0.000000       0.000000      30.000000   \n",
       "50%         6.000000       0.000000       0.000000      30.000000   \n",
       "75%         8.000000       0.000000       0.000000      37.000000   \n",
       "max        41.000000       1.000000       1.000000      98.000000   \n",
       "\n",
       "       launched_month        weekday  ...  main_cat_Fashion  \\\n",
       "count   291555.000000  291555.000000  ...     291555.000000   \n",
       "mean         6.362309       2.383122  ...          0.060534   \n",
       "std          3.315117       1.764481  ...          0.238474   \n",
       "min          1.000000       0.000000  ...          0.000000   \n",
       "25%          4.000000       1.000000  ...          0.000000   \n",
       "50%          6.000000       2.000000  ...          0.000000   \n",
       "75%          9.000000       4.000000  ...          0.000000   \n",
       "max         12.000000       6.000000  ...          1.000000   \n",
       "\n",
       "       main_cat_Film & Video  main_cat_Food  main_cat_Games  \\\n",
       "count          291555.000000  291555.000000   291555.000000   \n",
       "mean                0.169656       0.070275        0.081353   \n",
       "std                 0.375331       0.255610        0.273378   \n",
       "min                 0.000000       0.000000        0.000000   \n",
       "25%                 0.000000       0.000000        0.000000   \n",
       "50%                 0.000000       0.000000        0.000000   \n",
       "75%                 0.000000       0.000000        0.000000   \n",
       "max                 1.000000       1.000000        1.000000   \n",
       "\n",
       "       main_cat_Journalism  main_cat_Music  main_cat_Photography  \\\n",
       "count        291555.000000   291555.000000         291555.000000   \n",
       "mean              0.012269        0.149835              0.026767   \n",
       "std               0.110083        0.356910              0.161402   \n",
       "min               0.000000        0.000000              0.000000   \n",
       "25%               0.000000        0.000000              0.000000   \n",
       "50%               0.000000        0.000000              0.000000   \n",
       "75%               0.000000        0.000000              0.000000   \n",
       "max               1.000000        1.000000              1.000000   \n",
       "\n",
       "       main_cat_Publishing  main_cat_Technology  main_cat_Theater  \n",
       "count        291555.000000        291555.000000     291555.000000  \n",
       "mean              0.105736             0.073420          0.030125  \n",
       "std               0.307501             0.260825          0.170931  \n",
       "min               0.000000             0.000000          0.000000  \n",
       "25%               0.000000             0.000000          0.000000  \n",
       "50%               0.000000             0.000000          0.000000  \n",
       "75%               0.000000             0.000000          0.000000  \n",
       "max               1.000000             1.000000          1.000000  \n",
       "\n",
       "[8 rows x 184 columns]"
      ]
     },
     "execution_count": 154,
     "metadata": {},
     "output_type": "execute_result"
    }
   ],
   "source": [
    "kick_projects_ip_copy.shape\n",
    "kick_projects_ip_copy.info()\n",
    "kick_projects_ip_copy.size\n",
    "kick_projects_ip_copy.describe()"
   ]
  },
  {
   "cell_type": "code",
   "execution_count": null,
   "metadata": {},
   "outputs": [],
   "source": [
    "kick_projects_ip_copy.groupby(['duration']).size()"
   ]
  },
  {
   "cell_type": "code",
   "execution_count": 160,
   "metadata": {},
   "outputs": [
    {
     "data": {
      "text/plain": [
       "<seaborn.axisgrid.FacetGrid at 0x221392f1668>"
      ]
     },
     "execution_count": 160,
     "metadata": {},
     "output_type": "execute_result"
    },
    {
     "data": {
      "image/png": "[encoded data removed]",
      "text/plain": [
       "<Figure size 360x360 with 1 Axes>"
      ]
     },
     "metadata": {},
     "output_type": "display_data"
    }
   ],
   "source": [
    "sns.lmplot('duration','state',data=kick_projects_ip_copy)"
   ]
  },
  {
   "cell_type": "code",
   "execution_count": 161,
   "metadata": {},
   "outputs": [
    {
     "data": {
      "text/plain": [
       "<seaborn.axisgrid.FacetGrid at 0x2213934c128>"
      ]
     },
     "execution_count": 161,
     "metadata": {},
     "output_type": "execute_result"
    },
    {
     "data": {
      "image/png": "[encoded data removed]",
      "text/plain": [
       "<Figure size 360x360 with 1 Axes>"
      ]
     },
     "metadata": {},
     "output_type": "display_data"
    },
    {
     "data": {
      "image/png": "[encoded data removed]",
      "text/plain": [
       "<Figure size 360x360 with 1 Axes>"
      ]
     },
     "metadata": {},
     "output_type": "display_data"
    },
    {
     "data": {
      "image/png": "[encoded data removed]",
      "text/plain": [
       "<Figure size 360x360 with 1 Axes>"
      ]
     },
     "metadata": {},
     "output_type": "display_data"
    },
    {
     "data": {
      "image/png": "[encoded data removed]",
      "text/plain": [
       "<Figure size 360x360 with 1 Axes>"
      ]
     },
     "metadata": {},
     "output_type": "display_data"
    },
    {
     "data": {
      "image/png": "[encoded data removed]",
      "text/plain": [
       "<Figure size 360x360 with 1 Axes>"
      ]
     },
     "metadata": {},
     "output_type": "display_data"
    },
    {
     "data": {
      "image/png": "[encoded data removed]",
      "text/plain": [
       "<Figure size 360x360 with 1 Axes>"
      ]
     },
     "metadata": {},
     "output_type": "display_data"
    }
   ],
   "source": [
    "sns.lmplot('name_len','state',data=kick_projects_ip_copy)\n",
    "sns.lmplot('name_exclaim','state',data=kick_projects_ip_copy)\n",
    "sns.lmplot('name_question','state',data=kick_projects_ip_copy)\n",
    "sns.lmplot('name_words','state',data=kick_projects_ip_copy)\n",
    "sns.lmplot('name_is_upper','state',data=kick_projects_ip_copy)\n",
    "sns.lmplot('name_is_lower','state',data=kick_projects_ip_copy)"
   ]
  }
 ],
 "metadata": {
  "kernelspec": {
   "display_name": "Python 3",
   "language": "python",
   "name": "python3"
  },
  "language_info": {
   "codemirror_mode": {
    "name": "ipython",
    "version": 3
   },
   "file_extension": ".py",
   "mimetype": "text/x-python",
   "name": "python",
   "nbconvert_exporter": "python",
   "pygments_lexer": "ipython3",
   "version": "3.6.4"
  }
 },
 "nbformat": 4,
 "nbformat_minor": 2
}
