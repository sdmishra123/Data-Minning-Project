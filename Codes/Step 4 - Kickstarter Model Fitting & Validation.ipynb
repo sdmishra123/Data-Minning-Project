{
 "cells": [
  {
   "cell_type": "markdown",
   "metadata": {},
   "source": [
    "<b> STEP 1: Importing the Featured Engineered Data (ABT)<br/>\n",
    "<b> STEP 2: Fitting the Models and checking their Precission (ABT)<br/>\n",
    "<b> STEP 3: Predicting the results on the live Campaigns using the AdapBoosting Model<br/>  \n",
    "<pre>*1.Logistic Regression*<br/>\n",
    "*2.Random Forest & Random Forest Grid Search*<br/>\n",
    "*3.SVM*<br/>\n",
    "*4.Ensemble Model (KNN + Logistic+ Decission Trees) - Simple Averaging*<br/>\n",
    "*5.AdaBoosting *<br/>\n",
    "*6.XGBoosting *<br/>\n",
    "*7.Ensemble Model(Logistic Regression + Random Forest Grid + AdaBoosting + XGBoosting)*<br/>\n",
    "*8.Ensemble Model using Stacking function- (LGBM+Logistic Regression+XGBClassifier)*<br/>\n",
    "\n"
   ]
  },
  {
   "cell_type": "code",
   "execution_count": 1,
   "metadata": {},
   "outputs": [],
   "source": [
    "import numpy as np\n",
    "import pandas as pd\n",
    "from pandas import ExcelWriter\n",
    "from pandas import ExcelFile\n",
    "import os\n",
    "from datetime import datetime\n",
    "import time\n",
    "from sklearn.model_selection import train_test_split\n",
    "from sklearn.linear_model import LogisticRegression\n",
    "from sklearn import preprocessing\n",
    "from sklearn.ensemble import RandomForestClassifier\n",
    "from sklearn.metrics import accuracy_score\n",
    "from sklearn.metrics import confusion_matrix\n",
    "from sklearn.metrics import roc_auc_score\n",
    "from sklearn.metrics import classification_report\n",
    "from sklearn import preprocessing\n",
    "import string\n",
    "from sklearn.model_selection import train_test_split\n",
    "import random\n",
    "from sklearn.ensemble import RandomForestClassifier\n",
    "from sklearn.linear_model import LogisticRegression\n",
    "import math\n",
    "import lightgbm as lgb\n",
    "from sklearn import tree\n",
    "from sklearn import neighbors\n",
    "import math\n",
    "from sklearn import metrics\n",
    "import matplotlib.pyplot as plt \n",
    "import seaborn as sns\n",
    "from xgboost import XGBClassifier\n",
    "from sklearn import model_selection\n",
    "from datetime import datetime\n",
    "from sklearn.model_selection import cross_val_predict\n",
    "from sklearn.model_selection import GridSearchCV\n",
    "from sklearn.linear_model import LinearRegression\n",
    "from sklearn.model_selection import cross_val_score"
   ]
  },
  {
   "cell_type": "code",
   "execution_count": 2,
   "metadata": {},
   "outputs": [],
   "source": [
    "kickstarter_data_v1 = pd.read_csv('C:/Sapna/Graham/Data Mining/Project/Kickstarter/Datasets/test/Processed data/Feature_engineered_data_notenc_v1.csv',engine='python')"
   ]
  },
  {
   "cell_type": "code",
   "execution_count": 3,
   "metadata": {},
   "outputs": [
    {
     "name": "stdout",
     "output_type": "stream",
     "text": [
      "<class 'pandas.core.frame.DataFrame'>\n",
      "RangeIndex: 262192 entries, 0 to 262191\n",
      "Data columns (total 23 columns):\n",
      "backers_count         262192 non-null int64\n",
      "category_name         262192 non-null object\n",
      "main_category_name    262192 non-null object\n",
      "state                 262192 non-null int64\n",
      "usd_goal_real         262192 non-null float64\n",
      "name_len              262192 non-null float64\n",
      "name_exclaim          262192 non-null int64\n",
      "name_question         262192 non-null int64\n",
      "name_words            262192 non-null int64\n",
      "name_is_upper         262192 non-null float64\n",
      "name_is_lower         262192 non-null float64\n",
      "duration              262192 non-null int64\n",
      "duration_st_dead      262192 non-null int64\n",
      "change_flag           262192 non-null int64\n",
      "launched_quarter      262192 non-null int64\n",
      "launched_month        262192 non-null int64\n",
      "weekday               262192 non-null int64\n",
      "launched_week         262192 non-null int64\n",
      "participants_qtr      262192 non-null int64\n",
      "participants_mth      262192 non-null int64\n",
      "participants_wk       262192 non-null int64\n",
      "median_goal_year      262192 non-null float64\n",
      "mean_goal_year        262192 non-null float64\n",
      "dtypes: float64(6), int64(15), object(2)\n",
      "memory usage: 46.0+ MB\n"
     ]
    }
   ],
   "source": [
    "kickstarter_data_v1.size\n",
    "kickstarter_data_v1.shape\n",
    "kickstarter_data_v1.info()"
   ]
  },
  {
   "cell_type": "code",
   "execution_count": 4,
   "metadata": {},
   "outputs": [
    {
     "name": "stdout",
     "output_type": "stream",
     "text": [
      "['backers_count', 'category_name', 'main_category_name', 'state', 'usd_goal_real', 'name_len', 'name_exclaim', 'name_question', 'name_words', 'name_is_upper', 'name_is_lower', 'duration', 'duration_st_dead', 'change_flag', 'launched_quarter', 'launched_month', 'weekday', 'launched_week', 'participants_qtr', 'participants_mth', 'participants_wk', 'median_goal_year', 'mean_goal_year']\n"
     ]
    }
   ],
   "source": [
    "print(list(kickstarter_data_v1))"
   ]
  },
  {
   "cell_type": "code",
   "execution_count": 5,
   "metadata": {},
   "outputs": [],
   "source": [
    "kickstarter_data = kickstarter_data_v1"
   ]
  },
  {
   "cell_type": "code",
   "execution_count": 6,
   "metadata": {},
   "outputs": [
    {
     "data": {
      "text/plain": [
       "name_words\n",
       "1     10553\n",
       "2     22317\n",
       "3     32207\n",
       "4     32952\n",
       "5     31142\n",
       "6     29607\n",
       "7     28762\n",
       "8     26469\n",
       "9     21717\n",
       "10    14641\n",
       "11     7257\n",
       "12     2874\n",
       "13      960\n",
       "14      357\n",
       "15      188\n",
       "16       98\n",
       "17       40\n",
       "18       20\n",
       "19        8\n",
       "20        6\n",
       "21        4\n",
       "22        2\n",
       "23        1\n",
       "25        1\n",
       "27        1\n",
       "28        4\n",
       "29        1\n",
       "32        1\n",
       "33        1\n",
       "41        1\n",
       "dtype: int64"
      ]
     },
     "execution_count": 6,
     "metadata": {},
     "output_type": "execute_result"
    }
   ],
   "source": [
    "#print(kickstarter_data.shape)\n",
    "#print(kickstarter_data_v1.shape)\n",
    "kickstarter_data.groupby(['main_category_name']).size()\n",
    "kickstarter_data.groupby(['name_words']).size()"
   ]
  },
  {
   "cell_type": "code",
   "execution_count": 7,
   "metadata": {},
   "outputs": [],
   "source": [
    "kickstarter_data = kickstarter_data_v1[(kickstarter_data_v1['name_words']<19)]"
   ]
  },
  {
   "cell_type": "code",
   "execution_count": 8,
   "metadata": {},
   "outputs": [
    {
     "data": {
      "text/plain": [
       "(262161, 23)"
      ]
     },
     "execution_count": 8,
     "metadata": {},
     "output_type": "execute_result"
    }
   ],
   "source": [
    "kickstarter_data.shape"
   ]
  },
  {
   "cell_type": "code",
   "execution_count": 9,
   "metadata": {},
   "outputs": [
    {
     "data": {
      "text/plain": [
       "weekday\n",
       "0    44138\n",
       "1    54683\n",
       "2    46409\n",
       "3    41486\n",
       "4    40123\n",
       "5    21019\n",
       "6    14303\n",
       "dtype: int64"
      ]
     },
     "execution_count": 9,
     "metadata": {},
     "output_type": "execute_result"
    }
   ],
   "source": [
    "kickstarter_data.groupby(['weekday']).size()"
   ]
  },
  {
   "cell_type": "code",
   "execution_count": 10,
   "metadata": {},
   "outputs": [
    {
     "data": {
      "text/plain": [
       "launched_quarter\n",
       "1    64961\n",
       "2    69473\n",
       "3    68476\n",
       "4    59251\n",
       "dtype: int64"
      ]
     },
     "execution_count": 10,
     "metadata": {},
     "output_type": "execute_result"
    }
   ],
   "source": [
    "kickstarter_data.groupby(['launched_quarter']).size()"
   ]
  },
  {
   "cell_type": "code",
   "execution_count": 11,
   "metadata": {},
   "outputs": [
    {
     "data": {
      "text/plain": [
       "name_words\n",
       "1     10553\n",
       "2     22317\n",
       "3     32207\n",
       "4     32952\n",
       "5     31142\n",
       "6     29607\n",
       "7     28762\n",
       "8     26469\n",
       "9     21717\n",
       "10    14641\n",
       "11     7257\n",
       "12     2874\n",
       "13      960\n",
       "14      357\n",
       "15      188\n",
       "16       98\n",
       "17       40\n",
       "18       20\n",
       "dtype: int64"
      ]
     },
     "execution_count": 11,
     "metadata": {},
     "output_type": "execute_result"
    }
   ],
   "source": [
    "kickstarter_data.groupby(['name_words']).size()"
   ]
  },
  {
   "cell_type": "code",
   "execution_count": 12,
   "metadata": {},
   "outputs": [
    {
     "name": "stderr",
     "output_type": "stream",
     "text": [
      "C:\\Users\\dhavy\\Anaconda3\\lib\\site-packages\\pandas\\core\\frame.py:4117: SettingWithCopyWarning: \n",
      "A value is trying to be set on a copy of a slice from a DataFrame\n",
      "\n",
      "See the caveats in the documentation: http://pandas.pydata.org/pandas-docs/stable/user_guide/indexing.html#returning-a-view-versus-a-copy\n",
      "  errors=errors,\n"
     ]
    }
   ],
   "source": [
    "\n",
    "drop_columns= ['category_name','duration_st_dead','change_flag','launched_month','launched_week','median_goal_year',\n",
    "              'mean_goal_year','participants_mth','participants_wk']\n",
    "#dropping columns above\n",
    "kickstarter_data.drop(drop_columns, axis=1, inplace=True)"
   ]
  },
  {
   "cell_type": "code",
   "execution_count": 13,
   "metadata": {},
   "outputs": [
    {
     "name": "stdout",
     "output_type": "stream",
     "text": [
      "['backers_count', 'main_category_name', 'state', 'usd_goal_real', 'name_len', 'name_exclaim', 'name_question', 'name_words', 'name_is_upper', 'name_is_lower', 'duration', 'launched_quarter', 'weekday', 'participants_qtr']\n"
     ]
    }
   ],
   "source": [
    "print(list(kickstarter_data))"
   ]
  },
  {
   "cell_type": "code",
   "execution_count": 14,
   "metadata": {},
   "outputs": [
    {
     "name": "stdout",
     "output_type": "stream",
     "text": [
      "Min: 602.0\n",
      "Mean: 33686.09939521897\n",
      "Median: 6000.0\n",
      "Mode: 0    5000.0\n",
      "dtype: float64\n",
      "Max: 99000000.0\n"
     ]
    }
   ],
   "source": [
    "print('Min:',kickstarter_data['usd_goal_real'].min())\n",
    "print('Mean:',kickstarter_data['usd_goal_real'].mean())\n",
    "print('Median:',kickstarter_data['usd_goal_real'].median())\n",
    "print('Mode:',kickstarter_data['usd_goal_real'].mode())\n",
    "print('Max:',kickstarter_data['usd_goal_real'].max())"
   ]
  },
  {
   "cell_type": "code",
   "execution_count": 15,
   "metadata": {},
   "outputs": [
    {
     "name": "stdout",
     "output_type": "stream",
     "text": [
      "5th percentile: 1000.0\n",
      "10th percentile: 1300.0\n",
      "25th percentile: 2900.0\n",
      "50th percentile: 6000.0\n",
      "75th percentile: 15000.0\n",
      "90th percentile: 40000.0\n",
      "95th percentile: 75000.0\n",
      "99th percentile: 300000.0\n"
     ]
    }
   ],
   "source": [
    "################# PERCENTILES  ##################################\n",
    "goal_arr=kickstarter_data['usd_goal_real']\n",
    "print('5th percentile:',np.percentile(goal_arr, 5))\n",
    "print('10th percentile:',np.percentile(goal_arr, 10))\n",
    "print('25th percentile:',np.percentile(goal_arr, 25))\n",
    "print('50th percentile:',np.percentile(goal_arr, 50))\n",
    "print('75th percentile:',np.percentile(goal_arr, 75))\n",
    "print('90th percentile:',np.percentile(goal_arr, 90))\n",
    "print('95th percentile:',np.percentile(goal_arr, 95))\n",
    "print('99th percentile:',np.percentile(goal_arr, 99))"
   ]
  },
  {
   "cell_type": "code",
   "execution_count": 16,
   "metadata": {},
   "outputs": [
    {
     "name": "stdout",
     "output_type": "stream",
     "text": [
      "start one-hot encoding\n",
      "ADS dummy columns made\n"
     ]
    }
   ],
   "source": [
    "# One-Hot encoding to convert categorical columns to numeric\n",
    "print('start one-hot encoding')\n",
    "\n",
    "kickstarter_data = pd.get_dummies(kickstarter_data, prefix = ['cat','weekday','quart'],\n",
    "                             columns = ['main_category_name','weekday','launched_quarter'])\n",
    "    \n",
    "#this will have created 1-0 flag columns (like a sparse matrix)    \n",
    "print('ADS dummy columns made')"
   ]
  },
  {
   "cell_type": "code",
   "execution_count": 17,
   "metadata": {},
   "outputs": [
    {
     "name": "stdout",
     "output_type": "stream",
     "text": [
      "['backers_count', 'state', 'usd_goal_real', 'name_len', 'name_exclaim', 'name_question', 'name_words', 'name_is_upper', 'name_is_lower', 'duration', 'participants_qtr', 'cat_Art', 'cat_Comics', 'cat_Crafts', 'cat_Dance', 'cat_Design', 'cat_Fashion', 'cat_Film & Video', 'cat_Food', 'cat_Games', 'cat_Journalism', 'cat_Music', 'cat_Photography', 'cat_Publishing', 'cat_Technology', 'cat_Theater', 'weekday_0', 'weekday_1', 'weekday_2', 'weekday_3', 'weekday_4', 'weekday_5', 'weekday_6', 'quart_1', 'quart_2', 'quart_3', 'quart_4']\n"
     ]
    }
   ],
   "source": [
    "print(list(kickstarter_data))"
   ]
  },
  {
   "cell_type": "code",
   "execution_count": 18,
   "metadata": {},
   "outputs": [],
   "source": [
    "# Dropping one dummy variable for each of the variables \n",
    "drop_columns= ['cat_Film & Video','weekday_6','quart_4']\n",
    "#dropping columns above\n",
    "kickstarter_data.drop(drop_columns, axis=1, inplace=True)"
   ]
  },
  {
   "cell_type": "code",
   "execution_count": 19,
   "metadata": {},
   "outputs": [],
   "source": [
    "#kickstarter_data.to_csv(r'C:/Sapna/Graham/Data Mining/Project/Kickstarter/Datasets/test/Processed data/Feature_engineered_data_dumenc_r.csv', index = False)"
   ]
  },
  {
   "cell_type": "code",
   "execution_count": 20,
   "metadata": {},
   "outputs": [],
   "source": [
    "#creating 2 arrays: features and response\n",
    "#features will have all independent variables\n",
    "features=list(kickstarter_data)\n",
    "features.remove('state')\n",
    "#response has the target variable\n",
    "response= ['state']"
   ]
  },
  {
   "cell_type": "code",
   "execution_count": 21,
   "metadata": {},
   "outputs": [
    {
     "name": "stdout",
     "output_type": "stream",
     "text": [
      "['backers_count', 'state', 'usd_goal_real', 'name_len', 'name_exclaim', 'name_question', 'name_words', 'name_is_upper', 'name_is_lower', 'duration', 'participants_qtr', 'cat_Art', 'cat_Comics', 'cat_Crafts', 'cat_Dance', 'cat_Design', 'cat_Fashion', 'cat_Food', 'cat_Games', 'cat_Journalism', 'cat_Music', 'cat_Photography', 'cat_Publishing', 'cat_Technology', 'cat_Theater', 'weekday_0', 'weekday_1', 'weekday_2', 'weekday_3', 'weekday_4', 'weekday_5', 'quart_1', 'quart_2', 'quart_3']\n"
     ]
    }
   ],
   "source": [
    "kickstarter_data[features].shape\n",
    "#kickstarter_data.head()\n",
    "#kick_projects_ip.info()\n",
    "print(list(kickstarter_data))"
   ]
  },
  {
   "cell_type": "code",
   "execution_count": 22,
   "metadata": {},
   "outputs": [
    {
     "data": {
      "text/plain": [
       "(262161, 34)"
      ]
     },
     "execution_count": 22,
     "metadata": {},
     "output_type": "execute_result"
    },
    {
     "data": {
      "image/png": "[encoded data removed]",
      "text/plain": [
       "<Figure size 432x288 with 2 Axes>"
      ]
     },
     "metadata": {},
     "output_type": "display_data"
    }
   ],
   "source": [
    "import seaborn as sb\n",
    "sb.heatmap(kickstarter_data.corr())\n",
    "kickstarter_data.shape"
   ]
  },
  {
   "cell_type": "markdown",
   "metadata": {},
   "source": [
    "Split Train Test Data"
   ]
  },
  {
   "cell_type": "code",
   "execution_count": 23,
   "metadata": {},
   "outputs": [],
   "source": [
    "train_ind, test_ind, train_dep, test_dep = train_test_split(kickstarter_data[features], kickstarter_data[response], test_size=0.30, random_state=2351)"
   ]
  },
  {
   "cell_type": "code",
   "execution_count": 24,
   "metadata": {},
   "outputs": [
    {
     "name": "stdout",
     "output_type": "stream",
     "text": [
      "(183512, 33)\n",
      "(183512, 1)\n",
      "(78649, 33)\n",
      "(78649, 1)\n"
     ]
    }
   ],
   "source": [
    "print (train_ind.shape)\n",
    "print(train_dep.shape)\n",
    "print (test_ind.shape)\n",
    "print(test_dep.shape)"
   ]
  },
  {
   "cell_type": "code",
   "execution_count": 25,
   "metadata": {},
   "outputs": [
    {
     "data": {
      "text/plain": [
       "[33]"
      ]
     },
     "execution_count": 25,
     "metadata": {},
     "output_type": "execute_result"
    }
   ],
   "source": [
    "features_count = [test_ind.shape[1]]\n",
    "features_count"
   ]
  },
  {
   "cell_type": "code",
   "execution_count": 26,
   "metadata": {},
   "outputs": [],
   "source": [
    "from sklearn.preprocessing import StandardScaler\n",
    "scale = StandardScaler()\n",
    "X_train_scale = scale.fit_transform(train_ind) \n",
    "X_test_scale = scale.transform(test_ind)"
   ]
  },
  {
   "cell_type": "markdown",
   "metadata": {},
   "source": [
    "\n",
    "Model Building"
   ]
  },
  {
   "cell_type": "markdown",
   "metadata": {},
   "source": [
    "Logistic Regression"
   ]
  },
  {
   "cell_type": "code",
   "execution_count": 27,
   "metadata": {},
   "outputs": [],
   "source": [
    "mymodel= LogisticRegression()"
   ]
  },
  {
   "cell_type": "code",
   "execution_count": 28,
   "metadata": {},
   "outputs": [
    {
     "name": "stderr",
     "output_type": "stream",
     "text": [
      "C:\\Users\\dhavy\\Anaconda3\\lib\\site-packages\\sklearn\\utils\\validation.py:744: DataConversionWarning: A column-vector y was passed when a 1d array was expected. Please change the shape of y to (n_samples, ), for example using ravel().\n",
      "  y = column_or_1d(y, warn=True)\n",
      "C:\\Users\\dhavy\\Anaconda3\\lib\\site-packages\\sklearn\\linear_model\\_logistic.py:939: ConvergenceWarning: lbfgs failed to converge (status=1):\n",
      "STOP: TOTAL NO. of ITERATIONS REACHED LIMIT.\n",
      "\n",
      "Increase the number of iterations (max_iter) or scale the data as shown in:\n",
      "    https://scikit-learn.org/stable/modules/preprocessing.html.\n",
      "Please also refer to the documentation for alternative solver options:\n",
      "    https://scikit-learn.org/stable/modules/linear_model.html#logistic-regression\n",
      "  extra_warning_msg=_LOGISTIC_SOLVER_CONVERGENCE_MSG)\n"
     ]
    },
    {
     "data": {
      "text/plain": [
       "LogisticRegression(C=1.0, class_weight=None, dual=False, fit_intercept=True,\n",
       "                   intercept_scaling=1, l1_ratio=None, max_iter=100,\n",
       "                   multi_class='auto', n_jobs=None, penalty='l2',\n",
       "                   random_state=None, solver='lbfgs', tol=0.0001, verbose=0,\n",
       "                   warm_start=False)"
      ]
     },
     "execution_count": 28,
     "metadata": {},
     "output_type": "execute_result"
    }
   ],
   "source": [
    "mymodel.fit(train_ind[features], train_dep[response])"
   ]
  },
  {
   "cell_type": "code",
   "execution_count": 29,
   "metadata": {},
   "outputs": [
    {
     "name": "stdout",
     "output_type": "stream",
     "text": [
      "Train Accuracy ::  91.73460046209512\n",
      "Test Accuracy  ::  91.62481404722247\n"
     ]
    }
   ],
   "source": [
    "# Train and Test Accuracy\n",
    "print (\"Train Accuracy :: \", (accuracy_score(train_dep[response], mymodel.predict(train_ind[features])))*100)\n",
    "print (\"Test Accuracy  :: \", (accuracy_score(test_dep[response], mymodel.predict(test_ind[features])))*100)\n",
    "#print (\"Complete Accuracy  :: \", accuracy_score(kick_projects_ip[response], trained_model_RF.predict(kick_projects_ip_scaled_ftrs)))\n",
    "#print (\" Confusion matrix of complete data is\", confusion_matrix(kick_projects_ip[response],kick_projects_ip[\"Pred_state_RF\"]))"
   ]
  },
  {
   "cell_type": "code",
   "execution_count": 30,
   "metadata": {},
   "outputs": [
    {
     "name": "stdout",
     "output_type": "stream",
     "text": [
      "(78649, 33)\n",
      "(183512, 33)\n"
     ]
    }
   ],
   "source": [
    "print(test_ind.shape)\n",
    "print(train_ind.shape)"
   ]
  },
  {
   "cell_type": "code",
   "execution_count": 31,
   "metadata": {},
   "outputs": [],
   "source": [
    "predict_prob_test = mymodel.predict_proba(test_ind[features])\n",
    "predict_actual_test = mymodel.predict(test_ind[features])\n",
    "\n",
    "predict_prob_train = mymodel.predict_proba(train_ind[features])\n",
    "predict_actual_train = mymodel.predict(train_ind[features])"
   ]
  },
  {
   "cell_type": "code",
   "execution_count": 32,
   "metadata": {},
   "outputs": [],
   "source": [
    "predict_actual_test_lr=predict_actual_test"
   ]
  },
  {
   "cell_type": "code",
   "execution_count": 33,
   "metadata": {
    "scrolled": true
   },
   "outputs": [
    {
     "name": "stdout",
     "output_type": "stream",
     "text": [
      "[[6.59332944e-01 3.40667056e-01]\n",
      " [4.69819202e-01 5.30180798e-01]\n",
      " [1.79275555e-06 9.99998207e-01]\n",
      " ...\n",
      " [9.99623228e-01 3.76772387e-04]\n",
      " [4.14910918e-02 9.58508908e-01]\n",
      " [7.41334589e-01 2.58665411e-01]]\n",
      "[[8.83530338e-01 1.16469662e-01]\n",
      " [1.49673284e-06 9.99998503e-01]\n",
      " [4.52351190e-01 5.47648810e-01]\n",
      " ...\n",
      " [7.76516207e-01 2.23483793e-01]\n",
      " [3.54886737e-02 9.64511326e-01]\n",
      " [9.99573324e-01 4.26676452e-04]]\n"
     ]
    }
   ],
   "source": [
    "print(predict_prob_test)\n",
    "print(predict_prob_train)"
   ]
  },
  {
   "cell_type": "markdown",
   "metadata": {},
   "source": [
    "Logistic Regression - Results considered for the presentation"
   ]
  },
  {
   "cell_type": "code",
   "execution_count": 34,
   "metadata": {},
   "outputs": [],
   "source": [
    "conf_matrix = metrics.confusion_matrix(y_pred=predict_actual_test,y_true=test_dep) \n",
    "score = mymodel.score(test_ind[features],test_dep[response])"
   ]
  },
  {
   "cell_type": "code",
   "execution_count": 35,
   "metadata": {
    "scrolled": true
   },
   "outputs": [
    {
     "data": {
      "text/plain": [
       "Text(0.5, 1, 'Accuracy Score: 0.9162481404722247')"
      ]
     },
     "execution_count": 35,
     "metadata": {},
     "output_type": "execute_result"
    },
    {
     "data": {
      "image/png": "[encoded data removed]",
      "text/plain": [
       "<Figure size 648x648 with 2 Axes>"
      ]
     },
     "metadata": {},
     "output_type": "display_data"
    }
   ],
   "source": [
    "plt.figure(figsize=(9,9)) \n",
    "sns.heatmap(conf_matrix, annot=True, fmt=\".3f\", linewidths=.5, square = True, cmap=None)\n",
    "plt.ylabel('Actual label') \n",
    "plt.xlabel('Predicted label') \n",
    "all_sample_title = 'Accuracy Score: {0}'.format(score) \n",
    "plt.title(all_sample_title, size = 15)"
   ]
  },
  {
   "cell_type": "code",
   "execution_count": 36,
   "metadata": {},
   "outputs": [
    {
     "name": "stdout",
     "output_type": "stream",
     "text": [
      "Train data Precision: 93.39994184970793\n",
      "Train data Recall: 87.41558023897285\n",
      "Test data Precision: 93.34970774779256\n",
      "Test data Recall: 87.09714849302352\n"
     ]
    }
   ],
   "source": [
    "from sklearn.metrics import precision_score, recall_score \n",
    "#Test on the train set\n",
    "print(\"Train data Precision:\",precision_score(train_dep,predict_actual_train)*100)\n",
    "print(\"Train data Recall:\",recall_score(train_dep,predict_actual_train)*100)\n",
    "\n",
    "print(\"Test data Precision:\",precision_score(test_dep,predict_actual_test_lr)*100)\n",
    "print(\"Test data Recall:\",recall_score(test_dep,predict_actual_test_lr)*100)"
   ]
  },
  {
   "cell_type": "code",
   "execution_count": 37,
   "metadata": {},
   "outputs": [
    {
     "name": "stdout",
     "output_type": "stream",
     "text": [
      "              precision    recall  f1-score   support\n",
      "\n",
      "           0       0.90      0.95      0.93     44176\n",
      "           1       0.93      0.87      0.90     34473\n",
      "\n",
      "    accuracy                           0.92     78649\n",
      "   macro avg       0.92      0.91      0.91     78649\n",
      "weighted avg       0.92      0.92      0.92     78649\n",
      "\n"
     ]
    }
   ],
   "source": [
    "print(metrics.classification_report(y_pred=predict_actual_test_lr,y_true=test_dep))"
   ]
  },
  {
   "cell_type": "code",
   "execution_count": 38,
   "metadata": {},
   "outputs": [
    {
     "name": "stdout",
     "output_type": "stream",
     "text": [
      "Train F-1 score: 90.30873032099775\n",
      "Test F-1 score: 90.11510122004292\n"
     ]
    }
   ],
   "source": [
    "from sklearn.metrics import f1_score\n",
    "print(\"Train F-1 score:\",f1_score(train_dep, predict_actual_train)*100)\n",
    "print(\"Test F-1 score:\",f1_score(test_dep, predict_actual_test_lr)*100)"
   ]
  },
  {
   "cell_type": "code",
   "execution_count": 39,
   "metadata": {},
   "outputs": [],
   "source": [
    "from sklearn.metrics import roc_auc_score\n",
    "#roc_auc_score_train_lr=roc_auc_score(test_dep, predict_actual_train)"
   ]
  },
  {
   "cell_type": "code",
   "execution_count": 40,
   "metadata": {},
   "outputs": [
    {
     "data": {
      "image/png": "[encoded data removed]",
      "text/plain": [
       "<Figure size 432x288 with 1 Axes>"
      ]
     },
     "metadata": {},
     "output_type": "display_data"
    }
   ],
   "source": [
    "from sklearn.metrics import roc_curve\n",
    "fpr, tpr, thresholds = roc_curve(test_dep, predict_actual_test_lr) \n",
    "def plot_roc_curve(fpr, tpr, label=None):    \n",
    "    plt.plot(fpr, tpr, linewidth=2, label=label)    \n",
    "    plt.plot([0, 1], [0, 1], 'k--')    \n",
    "    plt.axis([0, 1, 0, 1])    \n",
    "    plt.xlabel('False Positive Rate')    \n",
    "    plt.ylabel('True Positive Rate')\n",
    "plot_roc_curve(fpr, tpr) \n",
    "plt.show()"
   ]
  },
  {
   "cell_type": "code",
   "execution_count": 41,
   "metadata": {},
   "outputs": [
    {
     "name": "stderr",
     "output_type": "stream",
     "text": [
      "C:\\Users\\dhavy\\Anaconda3\\lib\\site-packages\\sklearn\\linear_model\\_logistic.py:939: ConvergenceWarning: lbfgs failed to converge (status=1):\n",
      "STOP: TOTAL NO. of ITERATIONS REACHED LIMIT.\n",
      "\n",
      "Increase the number of iterations (max_iter) or scale the data as shown in:\n",
      "    https://scikit-learn.org/stable/modules/preprocessing.html.\n",
      "Please also refer to the documentation for alternative solver options:\n",
      "    https://scikit-learn.org/stable/modules/linear_model.html#logistic-regression\n",
      "  extra_warning_msg=_LOGISTIC_SOLVER_CONVERGENCE_MSG)\n",
      "C:\\Users\\dhavy\\Anaconda3\\lib\\site-packages\\sklearn\\linear_model\\_logistic.py:939: ConvergenceWarning: lbfgs failed to converge (status=1):\n",
      "STOP: TOTAL NO. of ITERATIONS REACHED LIMIT.\n",
      "\n",
      "Increase the number of iterations (max_iter) or scale the data as shown in:\n",
      "    https://scikit-learn.org/stable/modules/preprocessing.html.\n",
      "Please also refer to the documentation for alternative solver options:\n",
      "    https://scikit-learn.org/stable/modules/linear_model.html#logistic-regression\n",
      "  extra_warning_msg=_LOGISTIC_SOLVER_CONVERGENCE_MSG)\n",
      "C:\\Users\\dhavy\\Anaconda3\\lib\\site-packages\\sklearn\\linear_model\\_logistic.py:939: ConvergenceWarning: lbfgs failed to converge (status=1):\n",
      "STOP: TOTAL NO. of ITERATIONS REACHED LIMIT.\n",
      "\n",
      "Increase the number of iterations (max_iter) or scale the data as shown in:\n",
      "    https://scikit-learn.org/stable/modules/preprocessing.html.\n",
      "Please also refer to the documentation for alternative solver options:\n",
      "    https://scikit-learn.org/stable/modules/linear_model.html#logistic-regression\n",
      "  extra_warning_msg=_LOGISTIC_SOLVER_CONVERGENCE_MSG)\n",
      "C:\\Users\\dhavy\\Anaconda3\\lib\\site-packages\\sklearn\\linear_model\\_logistic.py:939: ConvergenceWarning: lbfgs failed to converge (status=1):\n",
      "STOP: TOTAL NO. of ITERATIONS REACHED LIMIT.\n",
      "\n",
      "Increase the number of iterations (max_iter) or scale the data as shown in:\n",
      "    https://scikit-learn.org/stable/modules/preprocessing.html.\n",
      "Please also refer to the documentation for alternative solver options:\n",
      "    https://scikit-learn.org/stable/modules/linear_model.html#logistic-regression\n",
      "  extra_warning_msg=_LOGISTIC_SOLVER_CONVERGENCE_MSG)\n",
      "C:\\Users\\dhavy\\Anaconda3\\lib\\site-packages\\sklearn\\linear_model\\_logistic.py:939: ConvergenceWarning: lbfgs failed to converge (status=1):\n",
      "STOP: TOTAL NO. of ITERATIONS REACHED LIMIT.\n",
      "\n",
      "Increase the number of iterations (max_iter) or scale the data as shown in:\n",
      "    https://scikit-learn.org/stable/modules/preprocessing.html.\n",
      "Please also refer to the documentation for alternative solver options:\n",
      "    https://scikit-learn.org/stable/modules/linear_model.html#logistic-regression\n",
      "  extra_warning_msg=_LOGISTIC_SOLVER_CONVERGENCE_MSG)\n",
      "C:\\Users\\dhavy\\Anaconda3\\lib\\site-packages\\sklearn\\linear_model\\_logistic.py:939: ConvergenceWarning: lbfgs failed to converge (status=1):\n",
      "STOP: TOTAL NO. of ITERATIONS REACHED LIMIT.\n",
      "\n",
      "Increase the number of iterations (max_iter) or scale the data as shown in:\n",
      "    https://scikit-learn.org/stable/modules/preprocessing.html.\n",
      "Please also refer to the documentation for alternative solver options:\n",
      "    https://scikit-learn.org/stable/modules/linear_model.html#logistic-regression\n",
      "  extra_warning_msg=_LOGISTIC_SOLVER_CONVERGENCE_MSG)\n",
      "C:\\Users\\dhavy\\Anaconda3\\lib\\site-packages\\sklearn\\linear_model\\_logistic.py:939: ConvergenceWarning: lbfgs failed to converge (status=1):\n",
      "STOP: TOTAL NO. of ITERATIONS REACHED LIMIT.\n",
      "\n",
      "Increase the number of iterations (max_iter) or scale the data as shown in:\n",
      "    https://scikit-learn.org/stable/modules/preprocessing.html.\n",
      "Please also refer to the documentation for alternative solver options:\n",
      "    https://scikit-learn.org/stable/modules/linear_model.html#logistic-regression\n",
      "  extra_warning_msg=_LOGISTIC_SOLVER_CONVERGENCE_MSG)\n",
      "C:\\Users\\dhavy\\Anaconda3\\lib\\site-packages\\sklearn\\linear_model\\_logistic.py:939: ConvergenceWarning: lbfgs failed to converge (status=1):\n",
      "STOP: TOTAL NO. of ITERATIONS REACHED LIMIT.\n",
      "\n",
      "Increase the number of iterations (max_iter) or scale the data as shown in:\n",
      "    https://scikit-learn.org/stable/modules/preprocessing.html.\n",
      "Please also refer to the documentation for alternative solver options:\n",
      "    https://scikit-learn.org/stable/modules/linear_model.html#logistic-regression\n",
      "  extra_warning_msg=_LOGISTIC_SOLVER_CONVERGENCE_MSG)\n"
     ]
    }
   ],
   "source": [
    "y_scores_train = cross_val_predict(mymodel, train_ind, train_dep.values.ravel(), cv=5, method=\"predict_proba\")\n",
    "y_scores_test  = cross_val_predict(mymodel, test_ind, test_dep.values.ravel(), cv=5, method=\"predict_proba\")"
   ]
  },
  {
   "cell_type": "code",
   "execution_count": 42,
   "metadata": {},
   "outputs": [],
   "source": [
    "y_scores_train_v1 = y_scores_train[:, 1] "
   ]
  },
  {
   "cell_type": "code",
   "execution_count": 43,
   "metadata": {},
   "outputs": [],
   "source": [
    "y_scores_test_v1  = y_scores_test[:, 1] "
   ]
  },
  {
   "cell_type": "code",
   "execution_count": 44,
   "metadata": {},
   "outputs": [],
   "source": [
    "from sklearn.metrics import precision_recall_curve\n",
    "precisions_tr, recalls_tr, thresholds_tr = precision_recall_curve(train_dep, y_scores_train_v1)"
   ]
  },
  {
   "cell_type": "code",
   "execution_count": 45,
   "metadata": {},
   "outputs": [
    {
     "data": {
      "text/plain": [
       "array([5.55230965e-29, 5.76374507e-29, 5.77088092e-29, ...,\n",
       "       1.00000000e+00, 1.00000000e+00, 1.00000000e+00])"
      ]
     },
     "execution_count": 45,
     "metadata": {},
     "output_type": "execute_result"
    }
   ],
   "source": [
    "thresholds_tr"
   ]
  },
  {
   "cell_type": "code",
   "execution_count": 46,
   "metadata": {},
   "outputs": [
    {
     "data": {
      "image/png": "[encoded data removed]",
      "text/plain": [
       "<Figure size 432x288 with 1 Axes>"
      ]
     },
     "metadata": {},
     "output_type": "display_data"
    }
   ],
   "source": [
    "def plot_precision_recall_vs_threshold(precisions_tr, recalls_tr, thresholds_tr):    \n",
    "    plt.plot(thresholds_tr, precisions_tr[:-1], \"b--\", label=\"Precision\")    \n",
    "    plt.plot(thresholds_tr, recalls_tr[:-1], \"g-\", label=\"Recall\")    \n",
    "    plt.xlabel(\"Threshold\")    \n",
    "    plt.legend(loc=\"upper left\")    \n",
    "    plt.ylim([0, 1])\n",
    "plot_precision_recall_vs_threshold(precisions_tr, recalls_tr, thresholds_tr) \n",
    "plt.show()"
   ]
  },
  {
   "cell_type": "code",
   "execution_count": 47,
   "metadata": {},
   "outputs": [],
   "source": [
    "y_train_pred_90 = (y_scores_train_v1 > 0.6) "
   ]
  },
  {
   "cell_type": "code",
   "execution_count": 48,
   "metadata": {},
   "outputs": [],
   "source": [
    "precision_score_train_lr=precision_score(train_dep, y_train_pred_90) "
   ]
  },
  {
   "cell_type": "code",
   "execution_count": 49,
   "metadata": {},
   "outputs": [],
   "source": [
    "recall_score_train_lr=recall_score(train_dep, y_train_pred_90)"
   ]
  },
  {
   "cell_type": "code",
   "execution_count": 50,
   "metadata": {},
   "outputs": [],
   "source": [
    "from sklearn.metrics import precision_recall_curve\n",
    "precisions_te, recalls_te, thresholds_te = precision_recall_curve(test_dep, y_scores_test_v1)"
   ]
  },
  {
   "cell_type": "code",
   "execution_count": 51,
   "metadata": {},
   "outputs": [
    {
     "data": {
      "image/png": "[encoded data removed]",
      "text/plain": [
       "<Figure size 432x288 with 1 Axes>"
      ]
     },
     "metadata": {},
     "output_type": "display_data"
    }
   ],
   "source": [
    "def plot_precision_recall_vs_threshold(precisions_te, recalls_te, thresholds_te):    \n",
    "    plt.plot(thresholds_te, precisions_te[:-1], \"b--\", label=\"Precision\")    \n",
    "    plt.plot(thresholds_te, recalls_te[:-1], \"g-\", label=\"Recall\")    \n",
    "    plt.xlabel(\"Threshold\")    \n",
    "    plt.legend(loc=\"upper left\")    \n",
    "    plt.ylim([0, 1])\n",
    "plot_precision_recall_vs_threshold(precisions_te, recalls_te, thresholds_te) \n",
    "plt.show()"
   ]
  },
  {
   "cell_type": "code",
   "execution_count": 52,
   "metadata": {},
   "outputs": [],
   "source": [
    "y_test_pred_90 = (y_scores_test_v1 > 0.6) "
   ]
  },
  {
   "cell_type": "code",
   "execution_count": 53,
   "metadata": {},
   "outputs": [],
   "source": [
    "precision_score_test_lr=precision_score(test_dep, y_test_pred_90) "
   ]
  },
  {
   "cell_type": "code",
   "execution_count": 54,
   "metadata": {},
   "outputs": [],
   "source": [
    "recall_score_test_lr=recall_score(test_dep, y_test_pred_90)"
   ]
  },
  {
   "cell_type": "code",
   "execution_count": 55,
   "metadata": {},
   "outputs": [],
   "source": [
    "from sklearn.metrics import roc_curve\n",
    "fpr, tpr, thresholds = roc_curve(train_dep, y_scores_train_v1) "
   ]
  },
  {
   "cell_type": "code",
   "execution_count": 56,
   "metadata": {},
   "outputs": [
    {
     "data": {
      "image/png": "[encoded data removed]",
      "text/plain": [
       "<Figure size 432x288 with 1 Axes>"
      ]
     },
     "metadata": {},
     "output_type": "display_data"
    }
   ],
   "source": [
    "def plot_roc_curve(fpr, tpr, label=None):    \n",
    "    plt.plot(fpr, tpr, linewidth=2, label=label)    \n",
    "    plt.plot([0, 1], [0, 1], 'k--')    \n",
    "    plt.axis([0, 1, 0, 1])    \n",
    "    plt.xlabel('False Positive Rate')    \n",
    "    plt.ylabel('True Positive Rate')\n",
    "plot_roc_curve(fpr, tpr) \n",
    "plt.show()"
   ]
  },
  {
   "cell_type": "code",
   "execution_count": 57,
   "metadata": {},
   "outputs": [],
   "source": [
    "from sklearn.metrics import roc_auc_score\n",
    "roc_auc_score_train_lr=roc_auc_score(train_dep, y_train_pred_90)\n",
    "roc_auc_score_test_lr=roc_auc_score(test_dep, y_test_pred_90)"
   ]
  },
  {
   "cell_type": "code",
   "execution_count": 58,
   "metadata": {},
   "outputs": [
    {
     "name": "stdout",
     "output_type": "stream",
     "text": [
      "Precission Train LR: 94.74148273419772\n",
      "Recall Train LR: 81.07389357543973\n",
      "Precission Test LR: 94.83257544439851\n",
      "Recall Test LR: 79.85379862501088\n",
      "ROC AUC Train LR: 88.7651820360007\n",
      "ROC AUC  LR: 88.22914487570718\n"
     ]
    }
   ],
   "source": [
    "print(\"Precission Train LR:\",precision_score_train_lr*100)\n",
    "print(\"Recall Train LR:\",recall_score_train_lr*100)\n",
    "print(\"Precission Test LR:\",precision_score_test_lr*100)\n",
    "print(\"Recall Test LR:\",recall_score_test_lr*100)\n",
    "print(\"ROC AUC Train LR:\",roc_auc_score_train_lr*100)\n",
    "print(\"ROC AUC  LR:\",roc_auc_score_test_lr*100)"
   ]
  },
  {
   "cell_type": "code",
   "execution_count": 59,
   "metadata": {},
   "outputs": [],
   "source": [
    "y_test_pred_lr =list(map(int,y_test_pred_90))"
   ]
  },
  {
   "cell_type": "code",
   "execution_count": 60,
   "metadata": {},
   "outputs": [],
   "source": [
    "test_dep_v1=list(test_dep)"
   ]
  },
  {
   "cell_type": "code",
   "execution_count": 61,
   "metadata": {},
   "outputs": [],
   "source": [
    "conf_matrix = metrics.confusion_matrix(y_pred=y_test_pred_lr,y_true=test_dep) \n",
    "score = mymodel.score(test_ind[features],test_dep[response])"
   ]
  },
  {
   "cell_type": "code",
   "execution_count": 62,
   "metadata": {},
   "outputs": [
    {
     "name": "stdout",
     "output_type": "stream",
     "text": [
      "              precision    recall  f1-score   support\n",
      "\n",
      "           0       0.86      0.97      0.91     44176\n",
      "           1       0.95      0.80      0.87     34473\n",
      "\n",
      "    accuracy                           0.89     78649\n",
      "   macro avg       0.90      0.88      0.89     78649\n",
      "weighted avg       0.90      0.89      0.89     78649\n",
      "\n"
     ]
    }
   ],
   "source": [
    "print(metrics.classification_report(y_pred=y_test_pred_lr,y_true=test_dep))"
   ]
  },
  {
   "cell_type": "code",
   "execution_count": 63,
   "metadata": {},
   "outputs": [
    {
     "data": {
      "text/plain": [
       "Text(0.5, 1, 'Accuracy Score: 0.9162481404722247')"
      ]
     },
     "execution_count": 63,
     "metadata": {},
     "output_type": "execute_result"
    },
    {
     "data": {
      "image/png": "[encoded data removed]",
      "text/plain": [
       "<Figure size 648x648 with 2 Axes>"
      ]
     },
     "metadata": {},
     "output_type": "display_data"
    }
   ],
   "source": [
    "plt.figure(figsize=(9,9)) \n",
    "sns.heatmap(conf_matrix, annot=True, fmt=\".3f\", linewidths=.5, square = True, cmap=None)\n",
    "plt.ylabel('Actual label') \n",
    "plt.xlabel('Predicted label') \n",
    "all_sample_title = 'Accuracy Score: {0}'.format(score) \n",
    "plt.title(all_sample_title, size = 15)"
   ]
  },
  {
   "cell_type": "markdown",
   "metadata": {},
   "source": [
    "RANDOM FOREST"
   ]
  },
  {
   "cell_type": "markdown",
   "metadata": {},
   "source": [
    "Random Forest makes a good choice to compensate for this overfitting. \n",
    "Random Forest is a supervised learning algorithm that is an ensemble of Decision Trees, often trained with the “bagging” method. \n",
    "In simple words, the bagging method combines learning models to improve the overall performance. \n",
    "The Random forest algorithm builds multiple decision trees \n",
    "and merges them together to get a more accurate and stable prediction.\n",
    "\n",
    "Random Forest gets its name from the fact that it lends an additional randomness to the model, while growing the trees.\n",
    "The algorithm searches for the best feature among a random subset of features, instead of using the most important feature directly to split a node. \n",
    "This results in random splits leading to a better model and also prevents overfitting.\n",
    "\n",
    "It is important to note that the RF algorithm uses only a random subset of the features for splitting a node. \n",
    "The randomness of the trees can be additionally increased using random thresholds for each feature instead of searching \n",
    "for the most optimal thresholds."
   ]
  },
  {
   "cell_type": "code",
   "execution_count": 64,
   "metadata": {
    "scrolled": true
   },
   "outputs": [],
   "source": [
    "clf = RandomForestClassifier(n_estimators=500,random_state=2351)"
   ]
  },
  {
   "cell_type": "code",
   "execution_count": 65,
   "metadata": {
    "scrolled": true
   },
   "outputs": [
    {
     "name": "stderr",
     "output_type": "stream",
     "text": [
      "C:\\Users\\dhavy\\Anaconda3\\lib\\site-packages\\ipykernel_launcher.py:1: DataConversionWarning: A column-vector y was passed when a 1d array was expected. Please change the shape of y to (n_samples,), for example using ravel().\n",
      "  \"\"\"Entry point for launching an IPython kernel.\n"
     ]
    },
    {
     "data": {
      "text/plain": [
       "RandomForestClassifier(bootstrap=True, ccp_alpha=0.0, class_weight=None,\n",
       "                       criterion='gini', max_depth=None, max_features='auto',\n",
       "                       max_leaf_nodes=None, max_samples=None,\n",
       "                       min_impurity_decrease=0.0, min_impurity_split=None,\n",
       "                       min_samples_leaf=1, min_samples_split=2,\n",
       "                       min_weight_fraction_leaf=0.0, n_estimators=500,\n",
       "                       n_jobs=None, oob_score=False, random_state=2351,\n",
       "                       verbose=0, warm_start=False)"
      ]
     },
     "execution_count": 65,
     "metadata": {},
     "output_type": "execute_result"
    }
   ],
   "source": [
    "clf.fit(train_ind[features], train_dep[response])"
   ]
  },
  {
   "cell_type": "code",
   "execution_count": 66,
   "metadata": {},
   "outputs": [
    {
     "name": "stdout",
     "output_type": "stream",
     "text": [
      "Train Accuracy ::  100.0\n",
      "Test Accuracy  ::  93.39343157573524\n"
     ]
    }
   ],
   "source": [
    "# Train and Test Accuracy\n",
    "print (\"Train Accuracy :: \", (accuracy_score(train_dep[response], clf.predict(train_ind[features])))*100)\n",
    "print (\"Test Accuracy  :: \", (accuracy_score(test_dep[response], clf.predict(test_ind[features])))*100)\n",
    "#print (\"Complete Accuracy  :: \", accuracy_score(kick_projects_ip[response], trained_model_RF.predict(kick_projects_ip_scaled_ftrs)))\n",
    "#print (\" Confusion matrix of complete data is\", confusion_matrix(kick_projects_ip[response],kick_projects_ip[\"Pred_state_RF\"]))"
   ]
  },
  {
   "cell_type": "code",
   "execution_count": 67,
   "metadata": {},
   "outputs": [
    {
     "name": "stdout",
     "output_type": "stream",
     "text": [
      "(78649, 33)\n",
      "(183512, 33)\n"
     ]
    }
   ],
   "source": [
    "print(test_ind.shape)\n",
    "print(train_ind.shape)"
   ]
  },
  {
   "cell_type": "code",
   "execution_count": 68,
   "metadata": {},
   "outputs": [],
   "source": [
    "predict_prob_test = clf.predict_proba(test_ind[features])\n",
    "predict_actual_test = clf.predict(test_ind[features])"
   ]
  },
  {
   "cell_type": "code",
   "execution_count": 69,
   "metadata": {},
   "outputs": [],
   "source": [
    "predict_actual_test_rf=predict_actual_test"
   ]
  },
  {
   "cell_type": "code",
   "execution_count": 70,
   "metadata": {},
   "outputs": [],
   "source": [
    "rf_pred_train =clf.predict(train_ind[features])"
   ]
  },
  {
   "cell_type": "code",
   "execution_count": 71,
   "metadata": {},
   "outputs": [
    {
     "name": "stdout",
     "output_type": "stream",
     "text": [
      "              precision    recall  f1-score   support\n",
      "\n",
      "           0       1.00      1.00      1.00    102666\n",
      "           1       1.00      1.00      1.00     80846\n",
      "\n",
      "    accuracy                           1.00    183512\n",
      "   macro avg       1.00      1.00      1.00    183512\n",
      "weighted avg       1.00      1.00      1.00    183512\n",
      "\n"
     ]
    }
   ],
   "source": [
    "from sklearn import metrics\n",
    "print(metrics.classification_report(y_pred=rf_pred_train,y_true=train_dep[response]))"
   ]
  },
  {
   "cell_type": "code",
   "execution_count": 72,
   "metadata": {},
   "outputs": [],
   "source": [
    "rf_predictions = clf.predict(test_ind[features])"
   ]
  },
  {
   "cell_type": "code",
   "execution_count": 73,
   "metadata": {},
   "outputs": [
    {
     "name": "stdout",
     "output_type": "stream",
     "text": [
      "              precision    recall  f1-score   support\n",
      "\n",
      "           0       0.95      0.93      0.94     44176\n",
      "           1       0.91      0.94      0.93     34473\n",
      "\n",
      "    accuracy                           0.93     78649\n",
      "   macro avg       0.93      0.93      0.93     78649\n",
      "weighted avg       0.93      0.93      0.93     78649\n",
      "\n"
     ]
    }
   ],
   "source": [
    "print(metrics.classification_report(y_pred=rf_predictions,y_true=test_dep[response]))"
   ]
  },
  {
   "cell_type": "code",
   "execution_count": 74,
   "metadata": {},
   "outputs": [],
   "source": [
    "score = clf.score(test_ind[features],test_dep[response]) "
   ]
  },
  {
   "cell_type": "code",
   "execution_count": 75,
   "metadata": {},
   "outputs": [
    {
     "name": "stdout",
     "output_type": "stream",
     "text": [
      "0.9339343157573523\n"
     ]
    }
   ],
   "source": [
    "print(score)"
   ]
  },
  {
   "cell_type": "code",
   "execution_count": 76,
   "metadata": {},
   "outputs": [],
   "source": [
    "conf_matrix = metrics.confusion_matrix(y_pred=predict_actual_test,y_true=test_dep) \n",
    "score = clf.score(test_ind[features],test_dep[response])"
   ]
  },
  {
   "cell_type": "code",
   "execution_count": 77,
   "metadata": {
    "scrolled": true
   },
   "outputs": [
    {
     "data": {
      "text/plain": [
       "Text(0.5, 1, 'Accuracy Score: 0.9339343157573523')"
      ]
     },
     "execution_count": 77,
     "metadata": {},
     "output_type": "execute_result"
    },
    {
     "data": {
      "image/png": "[encoded data removed]",
      "text/plain": [
       "<Figure size 648x648 with 2 Axes>"
      ]
     },
     "metadata": {},
     "output_type": "display_data"
    }
   ],
   "source": [
    "plt.figure(figsize=(9,9)) \n",
    "sns.heatmap(conf_matrix, annot=True, fmt=\".3f\", linewidths=.5, square = True, cmap=None)\n",
    "plt.ylabel('Actual label') \n",
    "plt.xlabel('Predicted label') \n",
    "all_sample_title = 'Accuracy Score: {0}'.format(score) \n",
    "plt.title(all_sample_title, size = 15)"
   ]
  },
  {
   "cell_type": "code",
   "execution_count": 78,
   "metadata": {},
   "outputs": [
    {
     "name": "stdout",
     "output_type": "stream",
     "text": [
      "('backers_count', 0.6685193487125223)\n",
      "('usd_goal_real', 0.1029689706113366)\n",
      "('name_len', 0.038447956306768824)\n",
      "('name_exclaim', 0.003433393361070154)\n",
      "('name_question', 0.0004101396547957092)\n",
      "('name_words', 0.025445730961415128)\n",
      "('name_is_upper', 0.0019443640081613408)\n",
      "('name_is_lower', 0.0007235745751150025)\n",
      "('duration', 0.03553942900748622)\n",
      "('participants_qtr', 0.045374697126848024)\n",
      "('cat_Art', 0.001980396445014214)\n",
      "('cat_Comics', 0.002831392348283546)\n",
      "('cat_Crafts', 0.001572463637500926)\n",
      "('cat_Dance', 0.0012815157454075681)\n",
      "('cat_Design', 0.0030893519455177276)\n",
      "('cat_Fashion', 0.0032647135532542625)\n",
      "('cat_Food', 0.003152632476031038)\n",
      "('cat_Games', 0.004929776599562101)\n",
      "('cat_Journalism', 0.0006874158412986865)\n",
      "('cat_Music', 0.004874538743696833)\n",
      "('cat_Photography', 0.001254124213678858)\n",
      "('cat_Publishing', 0.002747974297452029)\n",
      "('cat_Technology', 0.005162671977768859)\n",
      "('cat_Theater', 0.002412068433067924)\n",
      "('weekday_0', 0.0040099380244916225)\n",
      "('weekday_1', 0.004280794627432381)\n",
      "('weekday_2', 0.0041583913728833275)\n",
      "('weekday_3', 0.00391010091661539)\n",
      "('weekday_4', 0.003775230858149171)\n",
      "('weekday_5', 0.0028274613016705122)\n",
      "('quart_1', 0.00483308261800844)\n",
      "('quart_2', 0.005173747690124302)\n",
      "('quart_3', 0.004982612007570884)\n"
     ]
    }
   ],
   "source": [
    "## Feature importances\n",
    "ftr_imp_rf=zip(features,clf.feature_importances_)\n",
    "for values in ftr_imp_rf:\n",
    "    print(values)"
   ]
  },
  {
   "cell_type": "code",
   "execution_count": 79,
   "metadata": {},
   "outputs": [],
   "source": [
    "feature_imp_RF=pd.DataFrame(list(zip(features,clf.feature_importances_)))\n",
    "column_names_RF= ['features','RF_imp']\n",
    "feature_imp_RF.columns= column_names_RF"
   ]
  },
  {
   "cell_type": "code",
   "execution_count": 80,
   "metadata": {},
   "outputs": [
    {
     "data": {
      "text/html": [
       "<div>\n",
       "<style scoped>\n",
       "    .dataframe tbody tr th:only-of-type {\n",
       "        vertical-align: middle;\n",
       "    }\n",
       "\n",
       "    .dataframe tbody tr th {\n",
       "        vertical-align: top;\n",
       "    }\n",
       "\n",
       "    .dataframe thead th {\n",
       "        text-align: right;\n",
       "    }\n",
       "</style>\n",
       "<table border=\"1\" class=\"dataframe\">\n",
       "  <thead>\n",
       "    <tr style=\"text-align: right;\">\n",
       "      <th></th>\n",
       "      <th>features</th>\n",
       "      <th>RF_imp</th>\n",
       "    </tr>\n",
       "  </thead>\n",
       "  <tbody>\n",
       "    <tr>\n",
       "      <th>0</th>\n",
       "      <td>backers_count</td>\n",
       "      <td>0.668519</td>\n",
       "    </tr>\n",
       "    <tr>\n",
       "      <th>1</th>\n",
       "      <td>usd_goal_real</td>\n",
       "      <td>0.102969</td>\n",
       "    </tr>\n",
       "    <tr>\n",
       "      <th>9</th>\n",
       "      <td>participants_qtr</td>\n",
       "      <td>0.045375</td>\n",
       "    </tr>\n",
       "    <tr>\n",
       "      <th>2</th>\n",
       "      <td>name_len</td>\n",
       "      <td>0.038448</td>\n",
       "    </tr>\n",
       "    <tr>\n",
       "      <th>8</th>\n",
       "      <td>duration</td>\n",
       "      <td>0.035539</td>\n",
       "    </tr>\n",
       "    <tr>\n",
       "      <th>5</th>\n",
       "      <td>name_words</td>\n",
       "      <td>0.025446</td>\n",
       "    </tr>\n",
       "    <tr>\n",
       "      <th>31</th>\n",
       "      <td>quart_2</td>\n",
       "      <td>0.005174</td>\n",
       "    </tr>\n",
       "    <tr>\n",
       "      <th>22</th>\n",
       "      <td>cat_Technology</td>\n",
       "      <td>0.005163</td>\n",
       "    </tr>\n",
       "    <tr>\n",
       "      <th>32</th>\n",
       "      <td>quart_3</td>\n",
       "      <td>0.004983</td>\n",
       "    </tr>\n",
       "    <tr>\n",
       "      <th>17</th>\n",
       "      <td>cat_Games</td>\n",
       "      <td>0.004930</td>\n",
       "    </tr>\n",
       "    <tr>\n",
       "      <th>19</th>\n",
       "      <td>cat_Music</td>\n",
       "      <td>0.004875</td>\n",
       "    </tr>\n",
       "    <tr>\n",
       "      <th>30</th>\n",
       "      <td>quart_1</td>\n",
       "      <td>0.004833</td>\n",
       "    </tr>\n",
       "    <tr>\n",
       "      <th>25</th>\n",
       "      <td>weekday_1</td>\n",
       "      <td>0.004281</td>\n",
       "    </tr>\n",
       "    <tr>\n",
       "      <th>26</th>\n",
       "      <td>weekday_2</td>\n",
       "      <td>0.004158</td>\n",
       "    </tr>\n",
       "    <tr>\n",
       "      <th>24</th>\n",
       "      <td>weekday_0</td>\n",
       "      <td>0.004010</td>\n",
       "    </tr>\n",
       "  </tbody>\n",
       "</table>\n",
       "</div>"
      ],
      "text/plain": [
       "            features    RF_imp\n",
       "0      backers_count  0.668519\n",
       "1      usd_goal_real  0.102969\n",
       "9   participants_qtr  0.045375\n",
       "2           name_len  0.038448\n",
       "8           duration  0.035539\n",
       "5         name_words  0.025446\n",
       "31           quart_2  0.005174\n",
       "22    cat_Technology  0.005163\n",
       "32           quart_3  0.004983\n",
       "17         cat_Games  0.004930\n",
       "19         cat_Music  0.004875\n",
       "30           quart_1  0.004833\n",
       "25         weekday_1  0.004281\n",
       "26         weekday_2  0.004158\n",
       "24         weekday_0  0.004010"
      ]
     },
     "execution_count": 80,
     "metadata": {},
     "output_type": "execute_result"
    }
   ],
   "source": [
    "feature_imp_RF= feature_imp_RF.sort_values('RF_imp',ascending=False)\n",
    "feature_imp_RF[:15]"
   ]
  },
  {
   "cell_type": "code",
   "execution_count": 81,
   "metadata": {
    "scrolled": true
   },
   "outputs": [
    {
     "name": "stderr",
     "output_type": "stream",
     "text": [
      "No handles with labels found to put in legend.\n"
     ]
    },
    {
     "data": {
      "image/png": "[encoded data removed]",
      "text/plain": [
       "<Figure size 432x288 with 1 Axes>"
      ]
     },
     "metadata": {},
     "output_type": "display_data"
    }
   ],
   "source": [
    "import matplotlib.pyplot as plt\n",
    "import seaborn as sns\n",
    "%matplotlib inline\n",
    "# Creating a bar plot\n",
    "sns.barplot(x=feature_imp_RF['features'][:5], y=feature_imp_RF['RF_imp'][:5])\n",
    "# Add labels to your graph\n",
    "plt.xlabel('Feature Importance Score')\n",
    "plt.ylabel('Features')\n",
    "plt.title(\"Visualizing Important Features\")\n",
    "plt.legend()\n",
    "plt.show()"
   ]
  },
  {
   "cell_type": "code",
   "execution_count": 82,
   "metadata": {},
   "outputs": [
    {
     "name": "stdout",
     "output_type": "stream",
     "text": [
      "Train data Precision: 100.0\n",
      "Train data Recall: 100.0\n",
      "Test data Precision: 91.16679321690711\n",
      "Test data Recall: 94.0388129840745\n"
     ]
    }
   ],
   "source": [
    "from sklearn.metrics import precision_score, recall_score \n",
    "#Test on the train set\n",
    "print(\"Train data Precision:\",precision_score(train_dep,rf_pred_train)*100)\n",
    "print(\"Train data Recall:\",recall_score(train_dep,rf_pred_train)*100)\n",
    "\n",
    "print(\"Test data Precision:\",precision_score(test_dep,rf_predictions)*100)\n",
    "print(\"Test data Recall:\",recall_score(test_dep,rf_predictions)*100)"
   ]
  },
  {
   "cell_type": "code",
   "execution_count": 83,
   "metadata": {},
   "outputs": [
    {
     "name": "stdout",
     "output_type": "stream",
     "text": [
      "Train F-1 score: 100.0\n",
      "Test F-1 score: 92.58053461274847\n"
     ]
    }
   ],
   "source": [
    "from sklearn.metrics import f1_score\n",
    "print(\"Train F-1 score:\",f1_score(train_dep, rf_pred_train)*100)\n",
    "print(\"Test F-1 score:\",f1_score(test_dep, rf_predictions)*100)"
   ]
  },
  {
   "cell_type": "code",
   "execution_count": 84,
   "metadata": {},
   "outputs": [
    {
     "data": {
      "image/png": "[encoded data removed]",
      "text/plain": [
       "<Figure size 432x288 with 1 Axes>"
      ]
     },
     "metadata": {},
     "output_type": "display_data"
    }
   ],
   "source": [
    "from sklearn.metrics import roc_auc_score\n",
    "roc_auc_score_train_lr=roc_auc_score(test_dep, rf_predictions)\n",
    "\n",
    "from sklearn.metrics import roc_curve\n",
    "fpr, tpr, thresholds = roc_curve(test_dep, rf_predictions) \n",
    "def plot_roc_curve(fpr, tpr, label=None):    \n",
    "    plt.plot(fpr, tpr, linewidth=2, label=label)    \n",
    "    plt.plot([0, 1], [0, 1], 'k--')    \n",
    "    plt.axis([0, 1, 0, 1])    \n",
    "    plt.xlabel('False Positive Rate')    \n",
    "    plt.ylabel('True Positive Rate')\n",
    "plot_roc_curve(fpr, tpr) \n",
    "plt.show()"
   ]
  },
  {
   "cell_type": "code",
   "execution_count": 85,
   "metadata": {},
   "outputs": [
    {
     "name": "stdout",
     "output_type": "stream",
     "text": [
      "0.9339343157573523\n"
     ]
    }
   ],
   "source": [
    "score = clf.score(test_ind[features],test_dep[response])\n",
    "print(score)"
   ]
  },
  {
   "cell_type": "code",
   "execution_count": 86,
   "metadata": {},
   "outputs": [],
   "source": [
    "y_scores_train = cross_val_predict(clf, train_ind, train_dep.values.ravel(), cv=5, method=\"predict_proba\")\n",
    "y_scores_test  = cross_val_predict(clf, test_ind, test_dep.values.ravel(), cv=5, method=\"predict_proba\")"
   ]
  },
  {
   "cell_type": "code",
   "execution_count": 87,
   "metadata": {},
   "outputs": [],
   "source": [
    "y_scores_train_v1 = y_scores_train[:, 1] "
   ]
  },
  {
   "cell_type": "code",
   "execution_count": 88,
   "metadata": {},
   "outputs": [],
   "source": [
    "y_scores_test_v1  = y_scores_test[:, 1] "
   ]
  },
  {
   "cell_type": "code",
   "execution_count": 89,
   "metadata": {},
   "outputs": [
    {
     "data": {
      "image/png": "[encoded data removed]",
      "text/plain": [
       "<Figure size 432x288 with 1 Axes>"
      ]
     },
     "metadata": {},
     "output_type": "display_data"
    }
   ],
   "source": [
    "from sklearn.metrics import precision_recall_curve\n",
    "precisions_tr, recalls_tr, thresholds_tr = precision_recall_curve(train_dep, y_scores_train_v1)\n",
    "\n",
    "thresholds_tr\n",
    "\n",
    "def plot_precision_recall_vs_threshold(precisions_tr, recalls_tr, thresholds_tr):    \n",
    "    plt.plot(thresholds_tr, precisions_tr[:-1], \"b--\", label=\"Precision\")    \n",
    "    plt.plot(thresholds_tr, recalls_tr[:-1], \"g-\", label=\"Recall\")    \n",
    "    plt.xlabel(\"Threshold\")    \n",
    "    plt.legend(loc=\"upper left\")    \n",
    "    plt.ylim([0, 1])\n",
    "plot_precision_recall_vs_threshold(precisions_tr, recalls_tr, thresholds_tr) \n",
    "plt.show()"
   ]
  },
  {
   "cell_type": "code",
   "execution_count": 90,
   "metadata": {},
   "outputs": [],
   "source": [
    "y_train_pred_90 = (y_scores_train_v1 > 0.6) \n",
    "precision_score_train_rf=precision_score(train_dep, y_train_pred_90)\n",
    "recall_score_train_rf=recall_score(train_dep, y_train_pred_90)"
   ]
  },
  {
   "cell_type": "code",
   "execution_count": 91,
   "metadata": {},
   "outputs": [
    {
     "data": {
      "image/png": "[encoded data removed]",
      "text/plain": [
       "<Figure size 432x288 with 1 Axes>"
      ]
     },
     "metadata": {},
     "output_type": "display_data"
    }
   ],
   "source": [
    "from sklearn.metrics import precision_recall_curve\n",
    "precisions_te, recalls_te, thresholds_te = precision_recall_curve(test_dep, y_scores_test_v1)\n",
    "\n",
    "def plot_precision_recall_vs_threshold(precisions_te, recalls_te, thresholds_te):    \n",
    "    plt.plot(thresholds_te, precisions_te[:-1], \"b--\", label=\"Precision\")    \n",
    "    plt.plot(thresholds_te, recalls_te[:-1], \"g-\", label=\"Recall\")    \n",
    "    plt.xlabel(\"Threshold\")    \n",
    "    plt.legend(loc=\"upper left\")    \n",
    "    plt.ylim([0, 1])\n",
    "plot_precision_recall_vs_threshold(precisions_te, recalls_te, thresholds_te) \n",
    "plt.show()"
   ]
  },
  {
   "cell_type": "code",
   "execution_count": 92,
   "metadata": {},
   "outputs": [],
   "source": [
    "y_test_pred_90 = (y_scores_test_v1 > 0.6) \n",
    "precision_score_test_rf=precision_score(test_dep, y_test_pred_90)\n",
    "recall_score_test_rf=recall_score(test_dep, y_test_pred_90)"
   ]
  },
  {
   "cell_type": "code",
   "execution_count": 93,
   "metadata": {},
   "outputs": [
    {
     "data": {
      "image/png": "[encoded data removed]",
      "text/plain": [
       "<Figure size 432x288 with 1 Axes>"
      ]
     },
     "metadata": {},
     "output_type": "display_data"
    }
   ],
   "source": [
    "from sklearn.metrics import roc_curve\n",
    "fpr, tpr, thresholds = roc_curve(train_dep, y_scores_train_v1) \n",
    "\n",
    "def plot_roc_curve(fpr, tpr, label=None):    \n",
    "    plt.plot(fpr, tpr, linewidth=2, label=label)    \n",
    "    plt.plot([0, 1], [0, 1], 'k--')    \n",
    "    plt.axis([0, 1, 0, 1])    \n",
    "    plt.xlabel('False Positive Rate')    \n",
    "    plt.ylabel('True Positive Rate')\n",
    "plot_roc_curve(fpr, tpr) \n",
    "plt.show()"
   ]
  },
  {
   "cell_type": "code",
   "execution_count": 94,
   "metadata": {},
   "outputs": [],
   "source": [
    "from sklearn.metrics import roc_auc_score\n",
    "roc_auc_score_train_rf=roc_auc_score(train_dep, y_scores_train_v1)\n",
    "roc_auc_score_test_rf=roc_auc_score(test_dep, y_scores_test_v1)"
   ]
  },
  {
   "cell_type": "code",
   "execution_count": 95,
   "metadata": {},
   "outputs": [
    {
     "name": "stdout",
     "output_type": "stream",
     "text": [
      "Precission Train RF: 93.1083052467428\n",
      "Recall Train RF: 91.57657769091854\n",
      "Precission Test RF: 92.88224696535633\n",
      "Recall Test RF: 91.2279175006527\n",
      "ROC AUC Train RF: 98.17595734229414\n",
      "ROC AUC RF: 98.08873953478418\n"
     ]
    }
   ],
   "source": [
    "print(\"Precission Train RF:\",precision_score_train_rf*100)\n",
    "print(\"Recall Train RF:\",recall_score_train_rf*100)\n",
    "print(\"Precission Test RF:\",precision_score_test_rf*100)\n",
    "print(\"Recall Test RF:\",recall_score_test_rf*100)\n",
    "print(\"ROC AUC Train RF:\",roc_auc_score_train_rf*100)\n",
    "print(\"ROC AUC RF:\",roc_auc_score_test_rf*100)"
   ]
  },
  {
   "cell_type": "code",
   "execution_count": 96,
   "metadata": {},
   "outputs": [],
   "source": [
    "y_test_pred_rf =list(map(int,y_test_pred_90))"
   ]
  },
  {
   "cell_type": "code",
   "execution_count": 97,
   "metadata": {},
   "outputs": [],
   "source": [
    "conf_matrix = metrics.confusion_matrix(y_pred=y_test_pred_rf,y_true=test_dep) \n",
    "score = mymodel.score(test_ind[features],test_dep[response])"
   ]
  },
  {
   "cell_type": "code",
   "execution_count": 98,
   "metadata": {},
   "outputs": [
    {
     "name": "stdout",
     "output_type": "stream",
     "text": [
      "              precision    recall  f1-score   support\n",
      "\n",
      "           0       0.93      0.95      0.94     44176\n",
      "           1       0.93      0.91      0.92     34473\n",
      "\n",
      "    accuracy                           0.93     78649\n",
      "   macro avg       0.93      0.93      0.93     78649\n",
      "weighted avg       0.93      0.93      0.93     78649\n",
      "\n"
     ]
    }
   ],
   "source": [
    "print(metrics.classification_report(y_pred=y_test_pred_rf,y_true=test_dep))"
   ]
  },
  {
   "cell_type": "code",
   "execution_count": 99,
   "metadata": {},
   "outputs": [
    {
     "data": {
      "text/plain": [
       "Text(0.5, 1, 'Accuracy Score: 0.9162481404722247')"
      ]
     },
     "execution_count": 99,
     "metadata": {},
     "output_type": "execute_result"
    },
    {
     "data": {
      "image/png": "[encoded data removed]",
      "text/plain": [
       "<Figure size 648x648 with 2 Axes>"
      ]
     },
     "metadata": {},
     "output_type": "display_data"
    }
   ],
   "source": [
    "plt.figure(figsize=(9,9)) \n",
    "sns.heatmap(conf_matrix, annot=True, fmt=\".3f\", linewidths=.5, square = True, cmap=None)\n",
    "plt.ylabel('Actual label') \n",
    "plt.xlabel('Predicted label') \n",
    "all_sample_title = 'Accuracy Score: {0}'.format(score) \n",
    "plt.title(all_sample_title, size = 15)"
   ]
  },
  {
   "cell_type": "code",
   "execution_count": 100,
   "metadata": {},
   "outputs": [],
   "source": [
    "from sklearn.model_selection import GridSearchCV"
   ]
  },
  {
   "cell_type": "code",
   "execution_count": 101,
   "metadata": {},
   "outputs": [],
   "source": [
    "rnd_frst_obj = RandomForestClassifier()"
   ]
  },
  {
   "cell_type": "code",
   "execution_count": 102,
   "metadata": {},
   "outputs": [],
   "source": [
    "## Creating The Parameter List\n",
    "param_grid = {'n_estimators':[50,100,150,200,250,350],\n",
    "             'min_samples_split':[0.01,0.05,0.1],\n",
    "             'random_state':[2351]}"
   ]
  },
  {
   "cell_type": "code",
   "execution_count": 103,
   "metadata": {},
   "outputs": [],
   "source": [
    "rf_grid = GridSearchCV(rnd_frst_obj,param_grid,cv =5,scoring=\"roc_auc\",refit=True,n_jobs=-1,verbose=5)"
   ]
  },
  {
   "cell_type": "code",
   "execution_count": 104,
   "metadata": {},
   "outputs": [
    {
     "name": "stdout",
     "output_type": "stream",
     "text": [
      "Fitting 5 folds for each of 18 candidates, totalling 90 fits\n"
     ]
    },
    {
     "name": "stderr",
     "output_type": "stream",
     "text": [
      "[Parallel(n_jobs=-1)]: Using backend LokyBackend with 8 concurrent workers.\n",
      "[Parallel(n_jobs=-1)]: Done   2 tasks      | elapsed:   30.3s\n",
      "[Parallel(n_jobs=-1)]: Done  56 tasks      | elapsed:  9.6min\n",
      "[Parallel(n_jobs=-1)]: Done  90 out of  90 | elapsed: 13.7min finished\n",
      "C:\\Users\\dhavy\\Anaconda3\\lib\\site-packages\\sklearn\\model_selection\\_search.py:741: DataConversionWarning: A column-vector y was passed when a 1d array was expected. Please change the shape of y to (n_samples,), for example using ravel().\n",
      "  self.best_estimator_.fit(X, y, **fit_params)\n"
     ]
    },
    {
     "data": {
      "text/plain": [
       "GridSearchCV(cv=5, error_score=nan,\n",
       "             estimator=RandomForestClassifier(bootstrap=True, ccp_alpha=0.0,\n",
       "                                              class_weight=None,\n",
       "                                              criterion='gini', max_depth=None,\n",
       "                                              max_features='auto',\n",
       "                                              max_leaf_nodes=None,\n",
       "                                              max_samples=None,\n",
       "                                              min_impurity_decrease=0.0,\n",
       "                                              min_impurity_split=None,\n",
       "                                              min_samples_leaf=1,\n",
       "                                              min_samples_split=2,\n",
       "                                              min_weight_fraction_leaf=0.0,\n",
       "                                              n_estimators=100, n_jobs=None,\n",
       "                                              oob_score=False,\n",
       "                                              random_state=None, verbose=0,\n",
       "                                              warm_start=False),\n",
       "             iid='deprecated', n_jobs=-1,\n",
       "             param_grid={'min_samples_split': [0.01, 0.05, 0.1],\n",
       "                         'n_estimators': [50, 100, 150, 200, 250, 350],\n",
       "                         'random_state': [2351]},\n",
       "             pre_dispatch='2*n_jobs', refit=True, return_train_score=False,\n",
       "             scoring='roc_auc', verbose=5)"
      ]
     },
     "execution_count": 104,
     "metadata": {},
     "output_type": "execute_result"
    }
   ],
   "source": [
    "rf_grid.fit(train_ind[features],train_dep[response])"
   ]
  },
  {
   "cell_type": "code",
   "execution_count": 105,
   "metadata": {},
   "outputs": [
    {
     "data": {
      "text/plain": [
       "{'min_samples_split': 0.01, 'n_estimators': 350, 'random_state': 2351}"
      ]
     },
     "execution_count": 105,
     "metadata": {},
     "output_type": "execute_result"
    }
   ],
   "source": [
    "rf_grid.best_params_"
   ]
  },
  {
   "cell_type": "code",
   "execution_count": 106,
   "metadata": {},
   "outputs": [],
   "source": [
    "grid_model = rf_grid.best_estimator_"
   ]
  },
  {
   "cell_type": "code",
   "execution_count": 107,
   "metadata": {},
   "outputs": [
    {
     "data": {
      "text/plain": [
       "{'min_samples_split': 0.01, 'n_estimators': 350, 'random_state': 2351}"
      ]
     },
     "execution_count": 107,
     "metadata": {},
     "output_type": "execute_result"
    }
   ],
   "source": [
    "rf_grid.best_params_"
   ]
  },
  {
   "cell_type": "code",
   "execution_count": 108,
   "metadata": {},
   "outputs": [],
   "source": [
    "grid_predict_prob = grid_model.predict_proba(test_ind[features])\n",
    "grid_predict = grid_model.predict(test_ind[features])"
   ]
  },
  {
   "cell_type": "code",
   "execution_count": 109,
   "metadata": {},
   "outputs": [],
   "source": [
    "conf_matrix = metrics.confusion_matrix(y_pred=grid_predict,y_true=test_dep[response])\n",
    "score = grid_model.score(test_ind[features],test_dep[response])"
   ]
  },
  {
   "cell_type": "code",
   "execution_count": 110,
   "metadata": {},
   "outputs": [
    {
     "data": {
      "text/plain": [
       "Text(0.5, 1, 'Accuracy Score: 0.9173161769380411')"
      ]
     },
     "execution_count": 110,
     "metadata": {},
     "output_type": "execute_result"
    },
    {
     "data": {
      "image/png": "[encoded data removed]",
      "text/plain": [
       "<Figure size 648x648 with 2 Axes>"
      ]
     },
     "metadata": {},
     "output_type": "display_data"
    }
   ],
   "source": [
    "plt.figure(figsize=(9,9))\n",
    "sns.heatmap(conf_matrix, annot=True, fmt=\".3f\", linewidths=.5, square = True, cmap = 'Blues_r')\n",
    "plt.ylabel('Actual label')\n",
    "plt.xlabel('Predicted label')\n",
    "all_sample_title = 'Accuracy Score: {0}'.format(score)\n",
    "plt.title(all_sample_title, size = 15)"
   ]
  },
  {
   "cell_type": "code",
   "execution_count": 111,
   "metadata": {},
   "outputs": [
    {
     "name": "stdout",
     "output_type": "stream",
     "text": [
      "              precision    recall  f1-score   support\n",
      "\n",
      "           0       0.95      0.90      0.92     44176\n",
      "           1       0.88      0.94      0.91     34473\n",
      "\n",
      "    accuracy                           0.92     78649\n",
      "   macro avg       0.92      0.92      0.92     78649\n",
      "weighted avg       0.92      0.92      0.92     78649\n",
      "\n"
     ]
    }
   ],
   "source": [
    "print(format(metrics.classification_report(y_pred=grid_predict,y_true=test_dep[response])))"
   ]
  },
  {
   "cell_type": "code",
   "execution_count": 112,
   "metadata": {},
   "outputs": [
    {
     "data": {
      "text/plain": [
       "0.9724590386564911"
      ]
     },
     "execution_count": 112,
     "metadata": {},
     "output_type": "execute_result"
    }
   ],
   "source": [
    "metrics.roc_auc_score(test_dep,grid_predict_prob[:,1])"
   ]
  },
  {
   "cell_type": "code",
   "execution_count": 113,
   "metadata": {},
   "outputs": [
    {
     "data": {
      "text/plain": [
       "{'min_samples_split': 0.01, 'n_estimators': 350, 'random_state': 2351}"
      ]
     },
     "execution_count": 113,
     "metadata": {},
     "output_type": "execute_result"
    }
   ],
   "source": [
    "rf_grid.best_params_"
   ]
  },
  {
   "cell_type": "code",
   "execution_count": 114,
   "metadata": {},
   "outputs": [],
   "source": [
    "feature_importances = pd.DataFrame(grid_model.feature_importances_,\n",
    "                                   index = test_ind.columns,\n",
    "                                    columns=['importance']).sort_values('importance',\n",
    "                                                                        ascending=False)"
   ]
  },
  {
   "cell_type": "code",
   "execution_count": 115,
   "metadata": {},
   "outputs": [
    {
     "data": {
      "text/html": [
       "<div>\n",
       "<style scoped>\n",
       "    .dataframe tbody tr th:only-of-type {\n",
       "        vertical-align: middle;\n",
       "    }\n",
       "\n",
       "    .dataframe tbody tr th {\n",
       "        vertical-align: top;\n",
       "    }\n",
       "\n",
       "    .dataframe thead th {\n",
       "        text-align: right;\n",
       "    }\n",
       "</style>\n",
       "<table border=\"1\" class=\"dataframe\">\n",
       "  <thead>\n",
       "    <tr style=\"text-align: right;\">\n",
       "      <th></th>\n",
       "      <th>importance</th>\n",
       "    </tr>\n",
       "  </thead>\n",
       "  <tbody>\n",
       "    <tr>\n",
       "      <th>backers_count</th>\n",
       "      <td>0.851176</td>\n",
       "    </tr>\n",
       "    <tr>\n",
       "      <th>usd_goal_real</th>\n",
       "      <td>0.069128</td>\n",
       "    </tr>\n",
       "    <tr>\n",
       "      <th>duration</th>\n",
       "      <td>0.017992</td>\n",
       "    </tr>\n",
       "    <tr>\n",
       "      <th>name_words</th>\n",
       "      <td>0.008396</td>\n",
       "    </tr>\n",
       "    <tr>\n",
       "      <th>cat_Technology</th>\n",
       "      <td>0.007390</td>\n",
       "    </tr>\n",
       "    <tr>\n",
       "      <th>name_len</th>\n",
       "      <td>0.006910</td>\n",
       "    </tr>\n",
       "    <tr>\n",
       "      <th>cat_Music</th>\n",
       "      <td>0.006657</td>\n",
       "    </tr>\n",
       "    <tr>\n",
       "      <th>participants_qtr</th>\n",
       "      <td>0.005444</td>\n",
       "    </tr>\n",
       "    <tr>\n",
       "      <th>cat_Games</th>\n",
       "      <td>0.004017</td>\n",
       "    </tr>\n",
       "    <tr>\n",
       "      <th>cat_Fashion</th>\n",
       "      <td>0.003989</td>\n",
       "    </tr>\n",
       "    <tr>\n",
       "      <th>cat_Food</th>\n",
       "      <td>0.003482</td>\n",
       "    </tr>\n",
       "    <tr>\n",
       "      <th>cat_Theater</th>\n",
       "      <td>0.002835</td>\n",
       "    </tr>\n",
       "    <tr>\n",
       "      <th>cat_Comics</th>\n",
       "      <td>0.002462</td>\n",
       "    </tr>\n",
       "    <tr>\n",
       "      <th>cat_Design</th>\n",
       "      <td>0.001804</td>\n",
       "    </tr>\n",
       "    <tr>\n",
       "      <th>cat_Crafts</th>\n",
       "      <td>0.001659</td>\n",
       "    </tr>\n",
       "    <tr>\n",
       "      <th>cat_Publishing</th>\n",
       "      <td>0.001568</td>\n",
       "    </tr>\n",
       "    <tr>\n",
       "      <th>cat_Dance</th>\n",
       "      <td>0.001295</td>\n",
       "    </tr>\n",
       "    <tr>\n",
       "      <th>weekday_1</th>\n",
       "      <td>0.000978</td>\n",
       "    </tr>\n",
       "    <tr>\n",
       "      <th>name_exclaim</th>\n",
       "      <td>0.000548</td>\n",
       "    </tr>\n",
       "    <tr>\n",
       "      <th>cat_Journalism</th>\n",
       "      <td>0.000398</td>\n",
       "    </tr>\n",
       "    <tr>\n",
       "      <th>cat_Art</th>\n",
       "      <td>0.000393</td>\n",
       "    </tr>\n",
       "    <tr>\n",
       "      <th>cat_Photography</th>\n",
       "      <td>0.000386</td>\n",
       "    </tr>\n",
       "    <tr>\n",
       "      <th>weekday_5</th>\n",
       "      <td>0.000271</td>\n",
       "    </tr>\n",
       "    <tr>\n",
       "      <th>weekday_4</th>\n",
       "      <td>0.000253</td>\n",
       "    </tr>\n",
       "    <tr>\n",
       "      <th>quart_3</th>\n",
       "      <td>0.000120</td>\n",
       "    </tr>\n",
       "    <tr>\n",
       "      <th>name_is_upper</th>\n",
       "      <td>0.000111</td>\n",
       "    </tr>\n",
       "    <tr>\n",
       "      <th>name_is_lower</th>\n",
       "      <td>0.000089</td>\n",
       "    </tr>\n",
       "    <tr>\n",
       "      <th>quart_1</th>\n",
       "      <td>0.000060</td>\n",
       "    </tr>\n",
       "    <tr>\n",
       "      <th>quart_2</th>\n",
       "      <td>0.000043</td>\n",
       "    </tr>\n",
       "    <tr>\n",
       "      <th>weekday_0</th>\n",
       "      <td>0.000040</td>\n",
       "    </tr>\n",
       "    <tr>\n",
       "      <th>weekday_2</th>\n",
       "      <td>0.000037</td>\n",
       "    </tr>\n",
       "    <tr>\n",
       "      <th>name_question</th>\n",
       "      <td>0.000036</td>\n",
       "    </tr>\n",
       "    <tr>\n",
       "      <th>weekday_3</th>\n",
       "      <td>0.000034</td>\n",
       "    </tr>\n",
       "  </tbody>\n",
       "</table>\n",
       "</div>"
      ],
      "text/plain": [
       "                  importance\n",
       "backers_count       0.851176\n",
       "usd_goal_real       0.069128\n",
       "duration            0.017992\n",
       "name_words          0.008396\n",
       "cat_Technology      0.007390\n",
       "name_len            0.006910\n",
       "cat_Music           0.006657\n",
       "participants_qtr    0.005444\n",
       "cat_Games           0.004017\n",
       "cat_Fashion         0.003989\n",
       "cat_Food            0.003482\n",
       "cat_Theater         0.002835\n",
       "cat_Comics          0.002462\n",
       "cat_Design          0.001804\n",
       "cat_Crafts          0.001659\n",
       "cat_Publishing      0.001568\n",
       "cat_Dance           0.001295\n",
       "weekday_1           0.000978\n",
       "name_exclaim        0.000548\n",
       "cat_Journalism      0.000398\n",
       "cat_Art             0.000393\n",
       "cat_Photography     0.000386\n",
       "weekday_5           0.000271\n",
       "weekday_4           0.000253\n",
       "quart_3             0.000120\n",
       "name_is_upper       0.000111\n",
       "name_is_lower       0.000089\n",
       "quart_1             0.000060\n",
       "quart_2             0.000043\n",
       "weekday_0           0.000040\n",
       "weekday_2           0.000037\n",
       "name_question       0.000036\n",
       "weekday_3           0.000034"
      ]
     },
     "execution_count": 115,
     "metadata": {},
     "output_type": "execute_result"
    }
   ],
   "source": [
    "feature_importances"
   ]
  },
  {
   "cell_type": "code",
   "execution_count": 116,
   "metadata": {},
   "outputs": [
    {
     "data": {
      "text/plain": [
       "<matplotlib.axes._subplots.AxesSubplot at 0x20ea3dc0b00>"
      ]
     },
     "execution_count": 116,
     "metadata": {},
     "output_type": "execute_result"
    },
    {
     "data": {
      "image/png": "[encoded data removed]",
      "text/plain": [
       "<Figure size 432x288 with 1 Axes>"
      ]
     },
     "metadata": {},
     "output_type": "display_data"
    }
   ],
   "source": [
    "feature_importances.plot()"
   ]
  },
  {
   "cell_type": "code",
   "execution_count": 208,
   "metadata": {},
   "outputs": [],
   "source": [
    "#{'min_samples_split': 0.01, 'n_estimators': 350, 'random_state': 2351}\n",
    "clf_grid = RandomForestClassifier(min_samples_split= 0.01, n_estimators=350, random_state= 2351)"
   ]
  },
  {
   "cell_type": "code",
   "execution_count": 209,
   "metadata": {},
   "outputs": [
    {
     "name": "stderr",
     "output_type": "stream",
     "text": [
      "C:\\Users\\dhavy\\Anaconda3\\lib\\site-packages\\ipykernel_launcher.py:1: DataConversionWarning: A column-vector y was passed when a 1d array was expected. Please change the shape of y to (n_samples,), for example using ravel().\n",
      "  \"\"\"Entry point for launching an IPython kernel.\n"
     ]
    },
    {
     "data": {
      "text/plain": [
       "RandomForestClassifier(bootstrap=True, ccp_alpha=0.0, class_weight=None,\n",
       "                       criterion='gini', max_depth=None, max_features='auto',\n",
       "                       max_leaf_nodes=None, max_samples=None,\n",
       "                       min_impurity_decrease=0.0, min_impurity_split=None,\n",
       "                       min_samples_leaf=1, min_samples_split=0.01,\n",
       "                       min_weight_fraction_leaf=0.0, n_estimators=350,\n",
       "                       n_jobs=None, oob_score=False, random_state=2351,\n",
       "                       verbose=0, warm_start=False)"
      ]
     },
     "execution_count": 209,
     "metadata": {},
     "output_type": "execute_result"
    }
   ],
   "source": [
    "clf_grid.fit(train_ind[features],train_dep[response])"
   ]
  },
  {
   "cell_type": "code",
   "execution_count": 119,
   "metadata": {},
   "outputs": [],
   "source": [
    "rf_pred_train=clf_grid.predict(train_ind[features])"
   ]
  },
  {
   "cell_type": "code",
   "execution_count": 120,
   "metadata": {},
   "outputs": [],
   "source": [
    "rf_predictions=clf_grid.predict(test_ind[features])"
   ]
  },
  {
   "cell_type": "code",
   "execution_count": 121,
   "metadata": {},
   "outputs": [],
   "source": [
    "rf_predictions_rfg=rf_predictions"
   ]
  },
  {
   "cell_type": "markdown",
   "metadata": {},
   "source": [
    "Random Forest - Results considered for the presentation"
   ]
  },
  {
   "cell_type": "code",
   "execution_count": 122,
   "metadata": {},
   "outputs": [
    {
     "name": "stdout",
     "output_type": "stream",
     "text": [
      "Train data Precision: 88.51976794406377\n",
      "Train data Recall: 93.80055908764811\n",
      "Test data Precision: 88.26056029765813\n",
      "Test data Recall: 93.58338409769965\n"
     ]
    }
   ],
   "source": [
    "from sklearn.metrics import precision_score, recall_score \n",
    "#Test on the train set\n",
    "print(\"Train data Precision:\",precision_score(train_dep,rf_pred_train)*100)\n",
    "print(\"Train data Recall:\",recall_score(train_dep,rf_pred_train)*100)\n",
    "\n",
    "print(\"Test data Precision:\",precision_score(test_dep,rf_predictions)*100)\n",
    "print(\"Test data Recall:\",recall_score(test_dep,rf_predictions)*100)"
   ]
  },
  {
   "cell_type": "code",
   "execution_count": 123,
   "metadata": {},
   "outputs": [
    {
     "name": "stdout",
     "output_type": "stream",
     "text": [
      "Train F-1 score: 91.0836861544005\n",
      "Test F-1 score: 90.84406898979232\n"
     ]
    }
   ],
   "source": [
    "from sklearn.metrics import f1_score\n",
    "print(\"Train F-1 score:\",f1_score(train_dep, rf_pred_train)*100)\n",
    "print(\"Test F-1 score:\",f1_score(test_dep, rf_predictions)*100)"
   ]
  },
  {
   "cell_type": "code",
   "execution_count": 124,
   "metadata": {},
   "outputs": [
    {
     "data": {
      "image/png": "[encoded data removed]",
      "text/plain": [
       "<Figure size 432x288 with 1 Axes>"
      ]
     },
     "metadata": {},
     "output_type": "display_data"
    }
   ],
   "source": [
    "from sklearn.metrics import roc_auc_score\n",
    "roc_auc_score_train_lr=roc_auc_score(test_dep, rf_predictions)\n",
    "\n",
    "from sklearn.metrics import roc_curve\n",
    "fpr, tpr, thresholds = roc_curve(test_dep, rf_predictions) \n",
    "def plot_roc_curve(fpr, tpr, label=None):    \n",
    "    plt.plot(fpr, tpr, linewidth=2, label=label)    \n",
    "    plt.plot([0, 1], [0, 1], 'k--')    \n",
    "    plt.axis([0, 1, 0, 1])    \n",
    "    plt.xlabel('False Positive Rate')    \n",
    "    plt.ylabel('True Positive Rate')\n",
    "plot_roc_curve(fpr, tpr) \n",
    "plt.show()"
   ]
  },
  {
   "cell_type": "code",
   "execution_count": 125,
   "metadata": {},
   "outputs": [],
   "source": [
    "y_scores_train = cross_val_predict(clf_grid, train_ind, train_dep.values.ravel(), cv=5, method=\"predict_proba\")\n",
    "y_scores_test  = cross_val_predict(clf_grid, test_ind, test_dep.values.ravel(), cv=5, method=\"predict_proba\")"
   ]
  },
  {
   "cell_type": "code",
   "execution_count": 126,
   "metadata": {},
   "outputs": [],
   "source": [
    "y_scores_train_v1 = y_scores_train[:, 1] \n",
    "y_scores_test_v1  = y_scores_test[:, 1] "
   ]
  },
  {
   "cell_type": "code",
   "execution_count": 127,
   "metadata": {},
   "outputs": [
    {
     "data": {
      "text/plain": [
       "array([0.04390259, 0.04390309, 0.0439036 , ..., 0.94298508, 0.9441166 ,\n",
       "       0.95543972])"
      ]
     },
     "execution_count": 127,
     "metadata": {},
     "output_type": "execute_result"
    }
   ],
   "source": [
    "from sklearn.metrics import precision_recall_curve\n",
    "precisions_tr, recalls_tr, thresholds_tr = precision_recall_curve(train_dep, y_scores_train_v1)\n",
    "thresholds_tr"
   ]
  },
  {
   "cell_type": "code",
   "execution_count": 128,
   "metadata": {},
   "outputs": [
    {
     "data": {
      "image/png": "[encoded data removed]",
      "text/plain": [
       "<Figure size 432x288 with 1 Axes>"
      ]
     },
     "metadata": {},
     "output_type": "display_data"
    }
   ],
   "source": [
    "def plot_precision_recall_vs_threshold(precisions_tr, recalls_tr, thresholds_tr):    \n",
    "    plt.plot(thresholds_tr, precisions_tr[:-1], \"b--\", label=\"Precision\")    \n",
    "    plt.plot(thresholds_tr, recalls_tr[:-1], \"g-\", label=\"Recall\")    \n",
    "    plt.xlabel(\"Threshold\")    \n",
    "    plt.legend(loc=\"upper left\")    \n",
    "    plt.ylim([0, 1])\n",
    "plot_precision_recall_vs_threshold(precisions_tr, recalls_tr, thresholds_tr) \n",
    "plt.show()"
   ]
  },
  {
   "cell_type": "code",
   "execution_count": 129,
   "metadata": {},
   "outputs": [],
   "source": [
    "y_train_pred_90 = (y_scores_train_v1 > 0.6) \n",
    "precision_score_train_rfg=precision_score(train_dep, y_train_pred_90)\n",
    "recall_score_train_rfg=recall_score(train_dep, y_train_pred_90)"
   ]
  },
  {
   "cell_type": "code",
   "execution_count": 130,
   "metadata": {},
   "outputs": [
    {
     "data": {
      "image/png": "[encoded data removed]",
      "text/plain": [
       "<Figure size 432x288 with 1 Axes>"
      ]
     },
     "metadata": {},
     "output_type": "display_data"
    }
   ],
   "source": [
    "from sklearn.metrics import precision_recall_curve\n",
    "precisions_te, recalls_te, thresholds_te = precision_recall_curve(test_dep, y_scores_test_v1)\n",
    "\n",
    "def plot_precision_recall_vs_threshold(precisions_te, recalls_te, thresholds_te):    \n",
    "    plt.plot(thresholds_te, precisions_te[:-1], \"b--\", label=\"Precision\")    \n",
    "    plt.plot(thresholds_te, recalls_te[:-1], \"g-\", label=\"Recall\")    \n",
    "    plt.xlabel(\"Threshold\")    \n",
    "    plt.legend(loc=\"upper left\")    \n",
    "    plt.ylim([0, 1])\n",
    "plot_precision_recall_vs_threshold(precisions_te, recalls_te, thresholds_te) \n",
    "plt.show()"
   ]
  },
  {
   "cell_type": "code",
   "execution_count": 131,
   "metadata": {},
   "outputs": [],
   "source": [
    "y_test_pred_90 = (y_scores_test_v1 > 0.6) \n",
    "precision_score_test_rfg=precision_score(test_dep, y_test_pred_90)\n",
    "recall_score_test_rfg=recall_score(test_dep, y_test_pred_90)"
   ]
  },
  {
   "cell_type": "code",
   "execution_count": 132,
   "metadata": {
    "scrolled": true
   },
   "outputs": [
    {
     "data": {
      "image/png": "[encoded data removed]",
      "text/plain": [
       "<Figure size 432x288 with 1 Axes>"
      ]
     },
     "metadata": {},
     "output_type": "display_data"
    }
   ],
   "source": [
    "from sklearn.metrics import roc_curve\n",
    "fpr, tpr, thresholds = roc_curve(train_dep, y_scores_train_v1) \n",
    "\n",
    "def plot_roc_curve(fpr, tpr, label=None):    \n",
    "    plt.plot(fpr, tpr, linewidth=2, label=label)    \n",
    "    plt.plot([0, 1], [0, 1], 'k--')    \n",
    "    plt.axis([0, 1, 0, 1])    \n",
    "    plt.xlabel('False Positive Rate')    \n",
    "    plt.ylabel('True Positive Rate')\n",
    "plot_roc_curve(fpr, tpr) \n",
    "plt.show()"
   ]
  },
  {
   "cell_type": "code",
   "execution_count": 133,
   "metadata": {},
   "outputs": [],
   "source": [
    "from sklearn.metrics import roc_auc_score\n",
    "roc_auc_score_train_rfg=roc_auc_score(train_dep, y_scores_train_v1)\n",
    "roc_auc_score_test_rfg=roc_auc_score(test_dep, y_scores_test_v1)"
   ]
  },
  {
   "cell_type": "code",
   "execution_count": 134,
   "metadata": {},
   "outputs": [
    {
     "name": "stdout",
     "output_type": "stream",
     "text": [
      "Precission Train RFG: 91.41654165668687\n",
      "Recall Train RFG: 89.69893377532593\n",
      "Precission Test RFG: 91.55632088355799\n",
      "Recall Test RFG: 89.45551591100282\n",
      "ROC AUC Train RFG: 97.21771462910863\n",
      "ROC AUC RFG: 97.23675274613764\n"
     ]
    }
   ],
   "source": [
    "print(\"Precission Train RFG:\",precision_score_train_rfg*100)\n",
    "print(\"Recall Train RFG:\",recall_score_train_rfg*100)\n",
    "print(\"Precission Test RFG:\",precision_score_test_rfg*100)\n",
    "print(\"Recall Test RFG:\",recall_score_test_rfg*100)\n",
    "print(\"ROC AUC Train RFG:\",roc_auc_score_train_rfg*100)\n",
    "print(\"ROC AUC RFG:\",roc_auc_score_test_rfg*100)"
   ]
  },
  {
   "cell_type": "code",
   "execution_count": 135,
   "metadata": {},
   "outputs": [],
   "source": [
    "y_test_pred_rfg =list(map(int,y_test_pred_90))"
   ]
  },
  {
   "cell_type": "code",
   "execution_count": 136,
   "metadata": {},
   "outputs": [],
   "source": [
    "conf_matrix = metrics.confusion_matrix(y_pred=y_test_pred_rfg,y_true=test_dep) "
   ]
  },
  {
   "cell_type": "code",
   "execution_count": 137,
   "metadata": {},
   "outputs": [],
   "source": [
    "score = mymodel.score(test_ind[features],test_dep[response])"
   ]
  },
  {
   "cell_type": "code",
   "execution_count": 138,
   "metadata": {},
   "outputs": [
    {
     "name": "stdout",
     "output_type": "stream",
     "text": [
      "              precision    recall  f1-score   support\n",
      "\n",
      "           0       0.92      0.94      0.93     44176\n",
      "           1       0.92      0.89      0.90     34473\n",
      "\n",
      "    accuracy                           0.92     78649\n",
      "   macro avg       0.92      0.92      0.92     78649\n",
      "weighted avg       0.92      0.92      0.92     78649\n",
      "\n"
     ]
    }
   ],
   "source": [
    "print(metrics.classification_report(y_pred=y_test_pred_rfg,y_true=test_dep))"
   ]
  },
  {
   "cell_type": "code",
   "execution_count": 139,
   "metadata": {},
   "outputs": [
    {
     "data": {
      "text/plain": [
       "Text(0.5, 1, 'Accuracy Score: 0.9162481404722247')"
      ]
     },
     "execution_count": 139,
     "metadata": {},
     "output_type": "execute_result"
    },
    {
     "data": {
      "image/png": "[encoded data removed]",
      "text/plain": [
       "<Figure size 648x648 with 2 Axes>"
      ]
     },
     "metadata": {},
     "output_type": "display_data"
    }
   ],
   "source": [
    "plt.figure(figsize=(9,9)) \n",
    "sns.heatmap(conf_matrix, annot=True, fmt=\".3f\", linewidths=.5, square = True, cmap=None)\n",
    "plt.ylabel('Actual label') \n",
    "plt.xlabel('Predicted label') \n",
    "all_sample_title = 'Accuracy Score: {0}'.format(score) \n",
    "plt.title(all_sample_title, size = 15)"
   ]
  },
  {
   "cell_type": "code",
   "execution_count": 140,
   "metadata": {},
   "outputs": [],
   "source": [
    "from sklearn.preprocessing import StandardScaler\n",
    "scale = StandardScaler()\n",
    "X_train_scale = scale.fit_transform(train_ind) \n",
    "X_test_scale = scale.transform(test_ind)"
   ]
  },
  {
   "cell_type": "markdown",
   "metadata": {},
   "source": [
    "3.LinearSVM Classiﬁer - Base Model: "
   ]
  },
  {
   "cell_type": "code",
   "execution_count": 141,
   "metadata": {},
   "outputs": [],
   "source": [
    "from sklearn.svm import LinearSVC"
   ]
  },
  {
   "cell_type": "code",
   "execution_count": 142,
   "metadata": {},
   "outputs": [],
   "source": [
    "linear_svc = LinearSVC(loss=\"hinge\",random_state=2351)"
   ]
  },
  {
   "cell_type": "code",
   "execution_count": 143,
   "metadata": {},
   "outputs": [
    {
     "name": "stderr",
     "output_type": "stream",
     "text": [
      "C:\\Users\\dhavy\\Anaconda3\\lib\\site-packages\\sklearn\\utils\\validation.py:744: DataConversionWarning: A column-vector y was passed when a 1d array was expected. Please change the shape of y to (n_samples, ), for example using ravel().\n",
      "  y = column_or_1d(y, warn=True)\n",
      "C:\\Users\\dhavy\\Anaconda3\\lib\\site-packages\\sklearn\\svm\\_base.py:947: ConvergenceWarning: Liblinear failed to converge, increase the number of iterations.\n",
      "  \"the number of iterations.\", ConvergenceWarning)\n"
     ]
    },
    {
     "data": {
      "text/plain": [
       "LinearSVC(C=1.0, class_weight=None, dual=True, fit_intercept=True,\n",
       "          intercept_scaling=1, loss='hinge', max_iter=1000, multi_class='ovr',\n",
       "          penalty='l2', random_state=2351, tol=0.0001, verbose=0)"
      ]
     },
     "execution_count": 143,
     "metadata": {},
     "output_type": "execute_result"
    }
   ],
   "source": [
    "linear_svc.fit(X_train_scale,train_dep)"
   ]
  },
  {
   "cell_type": "code",
   "execution_count": 144,
   "metadata": {},
   "outputs": [
    {
     "data": {
      "text/plain": [
       "LinearSVC(C=1.0, class_weight=None, dual=True, fit_intercept=True,\n",
       "          intercept_scaling=1, loss='hinge', max_iter=1000, multi_class='ovr',\n",
       "          penalty='l2', random_state=2351, tol=0.0001, verbose=0)"
      ]
     },
     "execution_count": 144,
     "metadata": {},
     "output_type": "execute_result"
    }
   ],
   "source": [
    "LinearSVC(C=1.0, class_weight=None, dual=True, fit_intercept=True, intercept_scaling=1, loss='hinge', \n",
    "          max_iter=1000, multi_class='ovr', penalty='l2', random_state=2351, tol=0.0001, verbose=0)"
   ]
  },
  {
   "cell_type": "code",
   "execution_count": 145,
   "metadata": {},
   "outputs": [],
   "source": [
    "linearSVC_pred_train = linear_svc.predict(X_train_scale)"
   ]
  },
  {
   "cell_type": "code",
   "execution_count": 146,
   "metadata": {},
   "outputs": [
    {
     "name": "stdout",
     "output_type": "stream",
     "text": [
      "              precision    recall  f1-score   support\n",
      "\n",
      "           0       0.91      0.95      0.93    102666\n",
      "           1       0.93      0.88      0.90     80846\n",
      "\n",
      "    accuracy                           0.92    183512\n",
      "   macro avg       0.92      0.91      0.92    183512\n",
      "weighted avg       0.92      0.92      0.92    183512\n",
      "\n"
     ]
    }
   ],
   "source": [
    "print(metrics.classification_report(y_pred=linearSVC_pred_train,y_true=train_dep))"
   ]
  },
  {
   "cell_type": "code",
   "execution_count": 147,
   "metadata": {},
   "outputs": [],
   "source": [
    "linearSVC_prediction = linear_svc.predict(X_test_scale)"
   ]
  },
  {
   "cell_type": "code",
   "execution_count": 148,
   "metadata": {},
   "outputs": [
    {
     "name": "stdout",
     "output_type": "stream",
     "text": [
      "0.9161972815929001\n"
     ]
    }
   ],
   "source": [
    "score = linear_svc.score(X_test_scale,test_dep) \n",
    "print(score)"
   ]
  },
  {
   "cell_type": "code",
   "execution_count": 149,
   "metadata": {},
   "outputs": [],
   "source": [
    "conf_matrix = metrics.confusion_matrix(y_pred=linearSVC_prediction,y_true=test_dep)"
   ]
  },
  {
   "cell_type": "code",
   "execution_count": 150,
   "metadata": {
    "scrolled": true
   },
   "outputs": [
    {
     "data": {
      "text/plain": [
       "Text(0.5, 1, 'Accuracy Score: 0.9161972815929001')"
      ]
     },
     "execution_count": 150,
     "metadata": {},
     "output_type": "execute_result"
    },
    {
     "data": {
      "image/png": "[encoded data removed]",
      "text/plain": [
       "<Figure size 648x648 with 2 Axes>"
      ]
     },
     "metadata": {},
     "output_type": "display_data"
    }
   ],
   "source": [
    "plt.figure(figsize=(9,9)) \n",
    "sns.heatmap(conf_matrix, annot=True, fmt=\".3f\", linewidths=.5, square = True, cmap = None)\n",
    "plt.ylabel('Actual label') \n",
    "plt.xlabel('Predicted label') \n",
    "all_sample_title = 'Accuracy Score: {0}'.format(score) \n",
    "plt.title(all_sample_title, size = 15)"
   ]
  },
  {
   "cell_type": "markdown",
   "metadata": {},
   "source": [
    "4. Ensemble Classifiers"
   ]
  },
  {
   "cell_type": "markdown",
   "metadata": {},
   "source": [
    "Simple Ensemble: Average Probabailities"
   ]
  },
  {
   "cell_type": "code",
   "execution_count": 151,
   "metadata": {},
   "outputs": [],
   "source": [
    "#creating 4 models for ensembling: Decision Tree (using gini and entropy), knn and Logistic Regression\n",
    "model_dtc_g = tree.DecisionTreeClassifier()\n",
    "model_dtc_e = tree.DecisionTreeClassifier(criterion=\"entropy\")\n",
    "model_knn = neighbors.KNeighborsClassifier()\n",
    "model_lr= LogisticRegression(penalty='l1',solver='saga')"
   ]
  },
  {
   "cell_type": "code",
   "execution_count": 152,
   "metadata": {},
   "outputs": [
    {
     "name": "stderr",
     "output_type": "stream",
     "text": [
      "C:\\Users\\dhavy\\Anaconda3\\lib\\site-packages\\ipykernel_launcher.py:4: DataConversionWarning: A column-vector y was passed when a 1d array was expected. Please change the shape of y to (n_samples, ), for example using ravel().\n",
      "  after removing the cwd from sys.path.\n",
      "C:\\Users\\dhavy\\Anaconda3\\lib\\site-packages\\sklearn\\utils\\validation.py:744: DataConversionWarning: A column-vector y was passed when a 1d array was expected. Please change the shape of y to (n_samples, ), for example using ravel().\n",
      "  y = column_or_1d(y, warn=True)\n",
      "C:\\Users\\dhavy\\Anaconda3\\lib\\site-packages\\sklearn\\linear_model\\_sag.py:330: ConvergenceWarning: The max_iter was reached which means the coef_ did not converge\n",
      "  \"the coef_ did not converge\", ConvergenceWarning)\n"
     ]
    }
   ],
   "source": [
    "#fitting each of the model above\n",
    "model_dtc_g.fit(train_ind[features], train_dep[response])\n",
    "model_dtc_e.fit(train_ind[features], train_dep[response])\n",
    "model_knn.fit(train_ind[features], train_dep[response])\n",
    "model_lr.fit(train_ind[features], train_dep[response])\n",
    "\n",
    "#predicting the probabilities in test\n",
    "pred_dtc_g=model_dtc_g.predict_proba(test_ind[features])\n",
    "pred_dtc_e=model_dtc_e.predict_proba(test_ind[features])\n",
    "pred_knn=model_knn.predict_proba(test_ind[features])\n",
    "pred_lr=model_lr.predict_proba(test_ind[features])\n",
    "\n",
    "#averaging the 4 predictions above in test\n",
    "finalpred=(pred_dtc_g+pred_dtc_e+pred_knn+pred_lr)/4"
   ]
  },
  {
   "cell_type": "code",
   "execution_count": 153,
   "metadata": {},
   "outputs": [],
   "source": [
    "#creating the dataframe with predicted probabilities (for 0 and 1)\n",
    "pred_proba_avg=pd.DataFrame(finalpred)\n",
    "#the results have 2 probabilities: prob of the state being 0 and state being 1 in that order: hence the 2 columns\n",
    "col_names=['prob_0','prob_1']\n",
    "pred_proba_avg.columns=col_names"
   ]
  },
  {
   "cell_type": "code",
   "execution_count": 154,
   "metadata": {},
   "outputs": [],
   "source": [
    "# if the probability of 0> probability of 1: state is 0 and vice versa\n",
    "def final_state(c):\n",
    "    if c['prob_0'] > c['prob_1']:\n",
    "        return 0\n",
    "    else:\n",
    "        return 1\n",
    "#creating the final predicted state column using the averaging method    \n",
    "pred_proba_avg['final_state_avg'] = pred_proba_avg.apply(final_state, axis=1)"
   ]
  },
  {
   "cell_type": "code",
   "execution_count": 155,
   "metadata": {},
   "outputs": [],
   "source": [
    "#appending to base dataframe\n",
    "test_ind_v2=test_ind\n",
    "test_ind_v2 = test_ind_v2.reset_index(drop=True)\n",
    "pred_proba_avg = pred_proba_avg.reset_index(drop=True)\n",
    "test_ind_v2=pd.concat([test_ind_v2,pred_proba_avg],axis=1)"
   ]
  },
  {
   "cell_type": "markdown",
   "metadata": {},
   "source": [
    "Model Evaluation"
   ]
  },
  {
   "cell_type": "code",
   "execution_count": 156,
   "metadata": {},
   "outputs": [
    {
     "name": "stdout",
     "output_type": "stream",
     "text": [
      "Test Accuracy  ::  0.9210543045683989\n"
     ]
    }
   ],
   "source": [
    "print (\"Test Accuracy  :: \", accuracy_score(test_dep[response],test_ind_v2['final_state_avg']))"
   ]
  },
  {
   "cell_type": "code",
   "execution_count": 157,
   "metadata": {},
   "outputs": [
    {
     "name": "stdout",
     "output_type": "stream",
     "text": [
      "              precision    recall  f1-score   support\n",
      "\n",
      "           0       0.93      0.93      0.93     44176\n",
      "           1       0.91      0.91      0.91     34473\n",
      "\n",
      "    accuracy                           0.92     78649\n",
      "   macro avg       0.92      0.92      0.92     78649\n",
      "weighted avg       0.92      0.92      0.92     78649\n",
      "\n"
     ]
    },
    {
     "data": {
      "text/plain": [
       "Text(0.5, 1, 'Accuracy Score: 0.9161972815929001')"
      ]
     },
     "execution_count": 157,
     "metadata": {},
     "output_type": "execute_result"
    },
    {
     "data": {
      "image/png": "[encoded data removed]",
      "text/plain": [
       "<Figure size 648x648 with 2 Axes>"
      ]
     },
     "metadata": {},
     "output_type": "display_data"
    }
   ],
   "source": [
    "conf_matrix = metrics.confusion_matrix(y_pred=test_ind_v2['final_state_avg'],y_true=test_dep) \n",
    "\n",
    "print(metrics.classification_report(y_pred=test_ind_v2['final_state_avg'],y_true=test_dep))\n",
    "\n",
    "plt.figure(figsize=(9,9)) \n",
    "sns.heatmap(conf_matrix, annot=True, fmt=\".3f\", linewidths=.5, square = True, cmap=None)\n",
    "plt.ylabel('Actual label') \n",
    "plt.xlabel('Predicted label') \n",
    "all_sample_title = 'Accuracy Score: {0}'.format(score) \n",
    "plt.title(all_sample_title, size = 15)\n",
    "\n"
   ]
  },
  {
   "cell_type": "code",
   "execution_count": 158,
   "metadata": {},
   "outputs": [
    {
     "name": "stdout",
     "output_type": "stream",
     "text": [
      "Precission: 90.99559062427477\n",
      "Recall: 90.99295100513444\n"
     ]
    }
   ],
   "source": [
    "precision_score_test_en=precision_score(test_dep, test_ind_v2['final_state_avg'])\n",
    "recall_score_test_en=recall_score(test_dep, test_ind_v2['final_state_avg'])\n",
    "\n",
    "print(\"Precission:\",precision_score_test_en*100)\n",
    "print(\"Recall:\",recall_score_test_en*100)\n",
    "\n"
   ]
  },
  {
   "cell_type": "code",
   "execution_count": 159,
   "metadata": {},
   "outputs": [
    {
     "data": {
      "image/png": "[encoded data removed]",
      "text/plain": [
       "<Figure size 432x288 with 1 Axes>"
      ]
     },
     "metadata": {},
     "output_type": "display_data"
    }
   ],
   "source": [
    "from sklearn.metrics import roc_curve\n",
    "fpr, tpr, thresholds = roc_curve(test_dep, test_ind_v2['final_state_avg']) \n",
    "\n",
    "def plot_roc_curve(fpr, tpr, label=None):    \n",
    "    plt.plot(fpr, tpr, linewidth=2, label=label)    \n",
    "    plt.plot([0, 1], [0, 1], 'k--')    \n",
    "    plt.axis([0, 1, 0, 1])    \n",
    "    plt.xlabel('False Positive Rate')    \n",
    "    plt.ylabel('True Positive Rate')\n",
    "plot_roc_curve(fpr, tpr) \n",
    "plt.show()"
   ]
  },
  {
   "cell_type": "markdown",
   "metadata": {},
   "source": [
    "5.Adaptive Boosting"
   ]
  },
  {
   "cell_type": "code",
   "execution_count": 103,
   "metadata": {},
   "outputs": [],
   "source": [
    "from sklearn.ensemble import AdaBoostClassifier\n",
    "from sklearn.tree import DecisionTreeClassifier\n",
    "from sklearn.model_selection import KFold"
   ]
  },
  {
   "cell_type": "code",
   "execution_count": 104,
   "metadata": {},
   "outputs": [],
   "source": [
    "#crossvalidation=KFold(n_splits=10,shuffle=True,random_state=2351)\n",
    "#for depth in range (1,20):\n",
    "    #tree_classifier=tree.DecisionTreeClassifier(max_depth=depth,random_state=2351)\n",
    "    #if tree_classifier.fit(train_ind[features],train_dep[response]).tree_.max_depth<depth:\n",
    "       # break\n",
    "   # score=np.mean(cross_val_score(tree_classifier,train_ind[features],train_dep[response],\n",
    "                                  #scoring='accuracy', cv=crossvalidation,n_jobs=1))\n",
    "    #print(depth, score)\n",
    "    #depth = 8 0.929925825178436"
   ]
  },
  {
   "cell_type": "code",
   "execution_count": 105,
   "metadata": {},
   "outputs": [],
   "source": [
    "ada=AdaBoostClassifier()\n",
    "#search_grid={'n_estimators':[100,200,300],'learning_rate':[.001,0.01,.1]}\n",
    "#search=GridSearchCV(estimator=ada,param_grid=search_grid,scoring='accuracy',n_jobs=1,cv=crossvalidation)"
   ]
  },
  {
   "cell_type": "code",
   "execution_count": 106,
   "metadata": {},
   "outputs": [
    {
     "name": "stderr",
     "output_type": "stream",
     "text": [
      "C:\\Users\\dhavy\\Anaconda3\\lib\\site-packages\\sklearn\\utils\\validation.py:744: DataConversionWarning: A column-vector y was passed when a 1d array was expected. Please change the shape of y to (n_samples, ), for example using ravel().\n",
      "  y = column_or_1d(y, warn=True)\n"
     ]
    }
   ],
   "source": [
    "model_ada=ada.fit(train_ind[features], train_dep[response])"
   ]
  },
  {
   "cell_type": "code",
   "execution_count": 107,
   "metadata": {},
   "outputs": [
    {
     "name": "stdout",
     "output_type": "stream",
     "text": [
      "0.9306693840184838\n",
      "0.9310480743556816\n"
     ]
    }
   ],
   "source": [
    "print(model_ada.score(train_ind[features],train_dep[response]))\n",
    "print(model_ada.score(test_ind[features],test_dep[response]))"
   ]
  },
  {
   "cell_type": "code",
   "execution_count": 108,
   "metadata": {},
   "outputs": [],
   "source": [
    "#model_ada.best_params_"
   ]
  },
  {
   "cell_type": "code",
   "execution_count": 109,
   "metadata": {},
   "outputs": [],
   "source": [
    "#model_ada_v1 = AdaBoostClassifier(        \n",
    "   # DecisionTreeClassifier(max_depth=9), \n",
    "   # n_estimators=100,algorithm=\"SAMME.R\", learning_rate=0.1,random_state=2351) \n",
    "\n",
    "model_ada_v1 = AdaBoostClassifier(        \n",
    "    DecisionTreeClassifier(max_depth=10), \n",
    "    n_estimators=300,algorithm=\"SAMME.R\", learning_rate=0.1,random_state=2351) "
   ]
  },
  {
   "cell_type": "code",
   "execution_count": 110,
   "metadata": {},
   "outputs": [
    {
     "name": "stderr",
     "output_type": "stream",
     "text": [
      "C:\\Users\\dhavy\\Anaconda3\\lib\\site-packages\\sklearn\\utils\\validation.py:744: DataConversionWarning: A column-vector y was passed when a 1d array was expected. Please change the shape of y to (n_samples, ), for example using ravel().\n",
      "  y = column_or_1d(y, warn=True)\n"
     ]
    }
   ],
   "source": [
    "model_ada_v1=model_ada_v1.fit(train_ind[features],train_dep[response])"
   ]
  },
  {
   "cell_type": "code",
   "execution_count": 111,
   "metadata": {},
   "outputs": [],
   "source": [
    "#print(model_ada_v1.score(train_ind[features],train_dep[response]))\n",
    "#print(model_ada_v1.score(test_ind[features],test_dep[response]))"
   ]
  },
  {
   "cell_type": "code",
   "execution_count": 134,
   "metadata": {},
   "outputs": [],
   "source": [
    "ada_boost_prob_train = model_ada_v1.predict_proba(train_ind[features])\n",
    "ada_boost_prediction_train = model_ada_v1.predict(train_ind[features])"
   ]
  },
  {
   "cell_type": "code",
   "execution_count": 135,
   "metadata": {},
   "outputs": [],
   "source": [
    "ada_boost_prob = model_ada_v1.predict_proba(test_ind[features])"
   ]
  },
  {
   "cell_type": "code",
   "execution_count": 136,
   "metadata": {},
   "outputs": [],
   "source": [
    "ada_boost_prediction = model_ada_v1.predict(test_ind[features])"
   ]
  },
  {
   "cell_type": "code",
   "execution_count": 137,
   "metadata": {},
   "outputs": [
    {
     "name": "stdout",
     "output_type": "stream",
     "text": [
      "              precision    recall  f1-score   support\n",
      "\n",
      "           0       0.94      0.93      0.94     44176\n",
      "           1       0.91      0.93      0.92     34473\n",
      "\n",
      "    accuracy                           0.93     78649\n",
      "   macro avg       0.93      0.93      0.93     78649\n",
      "weighted avg       0.93      0.93      0.93     78649\n",
      "\n"
     ]
    }
   ],
   "source": [
    "print(classification_report(y_pred=ada_boost_prediction,y_true=test_dep[response]))"
   ]
  },
  {
   "cell_type": "code",
   "execution_count": 138,
   "metadata": {},
   "outputs": [
    {
     "name": "stdout",
     "output_type": "stream",
     "text": [
      "Test data Precision: 91.11471953964049\n",
      "Test data Recall: 92.77985669944594\n"
     ]
    }
   ],
   "source": [
    "from sklearn.metrics import precision_score, recall_score \n",
    "#Test on the train set\n",
    "#print(\"Train data Precision:\",precision_score(train_dep,ada_boost_prediction_train)*100)\n",
    "#print(\"Train data Recall:\",recall_score(train_dep,ada_boost_prediction_train)*100)\n",
    "\n",
    "print(\"Test data Precision:\",precision_score(test_dep,ada_boost_prediction)*100)\n",
    "print(\"Test data Recall:\",recall_score(test_dep,ada_boost_prediction)*100)"
   ]
  },
  {
   "cell_type": "code",
   "execution_count": 139,
   "metadata": {},
   "outputs": [],
   "source": [
    "#ada_boost_prediction_train.shape\n",
    "#ada_boost_prediction.shape"
   ]
  },
  {
   "cell_type": "code",
   "execution_count": 140,
   "metadata": {},
   "outputs": [
    {
     "name": "stdout",
     "output_type": "stream",
     "text": [
      "0.9286958511869191\n"
     ]
    }
   ],
   "source": [
    "score = model_ada_v1.score(test_ind[features],test_dep[response])\n",
    "print(score)"
   ]
  },
  {
   "cell_type": "code",
   "execution_count": 141,
   "metadata": {},
   "outputs": [],
   "source": [
    "#print(model_ada.score(test_ind[features],test_dep[response]))"
   ]
  },
  {
   "cell_type": "code",
   "execution_count": 142,
   "metadata": {},
   "outputs": [
    {
     "name": "stdout",
     "output_type": "stream",
     "text": [
      "0.9286958511869191\n"
     ]
    }
   ],
   "source": [
    "print(model_ada_v1.score(test_ind[features],test_dep[response]))"
   ]
  },
  {
   "cell_type": "code",
   "execution_count": 143,
   "metadata": {},
   "outputs": [],
   "source": [
    "conf_matrix = confusion_matrix(y_pred=ada_boost_prediction,y_true=test_dep[response])"
   ]
  },
  {
   "cell_type": "code",
   "execution_count": 144,
   "metadata": {},
   "outputs": [
    {
     "data": {
      "text/plain": [
       "Text(0.5, 1, 'Accuracy Score: 0.9286958511869191')"
      ]
     },
     "execution_count": 144,
     "metadata": {},
     "output_type": "execute_result"
    },
    {
     "data": {
      "image/png": "[encoded data removed]",
      "text/plain": [
       "<Figure size 360x360 with 2 Axes>"
      ]
     },
     "metadata": {},
     "output_type": "display_data"
    }
   ],
   "source": [
    "plt.figure(figsize=(5,5))\n",
    "sns.heatmap(conf_matrix,annot=True,fmt='0.3f',linewidths='0.5',square=True,cmap='YlGnBu_r')\n",
    "plt.ylabel('Actual label')\n",
    "plt.xlabel('Predicted label')\n",
    "all_sample_title = 'Accuracy Score: {0}'.format(score)\n",
    "plt.title(all_sample_title, size = 15)"
   ]
  },
  {
   "cell_type": "code",
   "execution_count": 145,
   "metadata": {},
   "outputs": [
    {
     "name": "stdout",
     "output_type": "stream",
     "text": [
      "              precision    recall  f1-score   support\n",
      "\n",
      "           0       0.94      0.93      0.94     44176\n",
      "           1       0.91      0.93      0.92     34473\n",
      "\n",
      "    accuracy                           0.93     78649\n",
      "   macro avg       0.93      0.93      0.93     78649\n",
      "weighted avg       0.93      0.93      0.93     78649\n",
      "\n"
     ]
    }
   ],
   "source": [
    "print(classification_report(y_pred=ada_boost_prediction,y_true=test_dep[response]))"
   ]
  },
  {
   "cell_type": "code",
   "execution_count": 146,
   "metadata": {},
   "outputs": [
    {
     "name": "stdout",
     "output_type": "stream",
     "text": [
      "Test data Precision: 91.11471953964049\n",
      "Test data Recall: 92.77985669944594\n"
     ]
    }
   ],
   "source": [
    "from sklearn.metrics import precision_score, recall_score \n",
    "#Test on the train set\n",
    "#print(\"Train data Precision:\",precision_score(train_dep,ada_boost_prediction_train)*100)\n",
    "#print(\"Train data Recall:\",recall_score(train_dep,ada_boost_prediction_train)*100)\n",
    "\n",
    "print(\"Test data Precision:\",precision_score(test_dep,ada_boost_prediction)*100)\n",
    "print(\"Test data Recall:\",recall_score(test_dep,ada_boost_prediction)*100)"
   ]
  },
  {
   "cell_type": "code",
   "execution_count": 147,
   "metadata": {},
   "outputs": [
    {
     "data": {
      "text/plain": [
       "0.9782806522293617"
      ]
     },
     "execution_count": 147,
     "metadata": {},
     "output_type": "execute_result"
    }
   ],
   "source": [
    "roc_auc_score(test_dep,ada_boost_prob[:,1])"
   ]
  },
  {
   "cell_type": "code",
   "execution_count": 148,
   "metadata": {},
   "outputs": [
    {
     "name": "stdout",
     "output_type": "stream",
     "text": [
      "                importance\n",
      "backers_count         0.52\n",
      "usd_goal_real         0.22\n",
      "cat_Games             0.04\n",
      "cat_Technology        0.02\n",
      "cat_Theater           0.02\n"
     ]
    }
   ],
   "source": [
    "#Check for over-fitting\n",
    "print(pd.DataFrame(model_ada.feature_importances_,\n",
    "                                   index = test_ind.columns,\n",
    "                                    columns=['importance']).sort_values('importance',\n",
    "                                                                        ascending=False).head())"
   ]
  },
  {
   "cell_type": "code",
   "execution_count": 149,
   "metadata": {},
   "outputs": [],
   "source": [
    "rf_pred_train=model_ada_v1.predict(train_ind[features])\n",
    "rf_predictions=model_ada_v1.predict(test_ind[features])"
   ]
  },
  {
   "cell_type": "code",
   "execution_count": 150,
   "metadata": {},
   "outputs": [],
   "source": [
    "rf_predictions_ada=rf_predictions"
   ]
  },
  {
   "cell_type": "code",
   "execution_count": 151,
   "metadata": {},
   "outputs": [
    {
     "name": "stdout",
     "output_type": "stream",
     "text": [
      "Train data Precision: 99.9975262220463\n",
      "Train data Recall: 100.0\n",
      "Test data Precision: 91.11471953964049\n",
      "Test data Recall: 92.77985669944594\n"
     ]
    }
   ],
   "source": [
    "from sklearn.metrics import precision_score, recall_score \n",
    "#Test on the train set\n",
    "print(\"Train data Precision:\",precision_score(train_dep,rf_pred_train)*100)\n",
    "print(\"Train data Recall:\",recall_score(train_dep,rf_pred_train)*100)\n",
    "\n",
    "print(\"Test data Precision:\",precision_score(test_dep,rf_predictions)*100)\n",
    "print(\"Test data Recall:\",recall_score(test_dep,rf_predictions)*100)"
   ]
  },
  {
   "cell_type": "code",
   "execution_count": 152,
   "metadata": {},
   "outputs": [
    {
     "name": "stdout",
     "output_type": "stream",
     "text": [
      "Train F-1 score: 99.99876309572402\n",
      "Test F-1 score: 91.93974933885247\n"
     ]
    }
   ],
   "source": [
    "from sklearn.metrics import f1_score\n",
    "print(\"Train F-1 score:\",f1_score(train_dep, rf_pred_train)*100)\n",
    "print(\"Test F-1 score:\",f1_score(test_dep, rf_predictions)*100)"
   ]
  },
  {
   "cell_type": "code",
   "execution_count": 153,
   "metadata": {},
   "outputs": [
    {
     "data": {
      "image/png": "[encoded data removed]",
      "text/plain": [
       "<Figure size 432x288 with 1 Axes>"
      ]
     },
     "metadata": {},
     "output_type": "display_data"
    }
   ],
   "source": [
    "from sklearn.metrics import roc_curve\n",
    "fpr, tpr, thresholds = roc_curve(test_dep, rf_predictions_ada) \n",
    "\n",
    "def plot_roc_curve(fpr, tpr, label=None):    \n",
    "    plt.plot(fpr, tpr, linewidth=2, label=label)    \n",
    "    plt.plot([0, 1], [0, 1], 'k--')    \n",
    "    plt.axis([0, 1, 0, 1])    \n",
    "    plt.xlabel('False Positive Rate')    \n",
    "    plt.ylabel('True Positive Rate')\n",
    "plot_roc_curve(fpr, tpr) \n",
    "plt.show()"
   ]
  },
  {
   "cell_type": "code",
   "execution_count": 154,
   "metadata": {},
   "outputs": [
    {
     "data": {
      "text/plain": [
       "(78649,)"
      ]
     },
     "execution_count": 154,
     "metadata": {},
     "output_type": "execute_result"
    }
   ],
   "source": [
    "from sklearn.model_selection import cross_val_score\n",
    "#y_scores_train = cross_val_predict(model_ada_v1, train_ind, train_dep.values.ravel(), cv=5,method=\"predict_proba\")\n",
    "#y_scores_test  = cross_val_predict(model_ada_v1, test_ind, test_dep.values.ravel(), cv=5,method=\"predict_proba\")\n",
    "ada_boost_prediction.shape"
   ]
  },
  {
   "cell_type": "code",
   "execution_count": 155,
   "metadata": {},
   "outputs": [],
   "source": [
    "y_scores_train_v1 = ada_boost_prediction_train \n",
    "y_scores_test_v1  =  ada_boost_prediction"
   ]
  },
  {
   "cell_type": "code",
   "execution_count": 156,
   "metadata": {},
   "outputs": [
    {
     "name": "stdout",
     "output_type": "stream",
     "text": [
      "(183512,)\n",
      "(78649,)\n"
     ]
    }
   ],
   "source": [
    "print(y_scores_train_v1.shape)\n",
    "print(y_scores_test_v1.shape)"
   ]
  },
  {
   "cell_type": "code",
   "execution_count": 157,
   "metadata": {},
   "outputs": [],
   "source": [
    "from sklearn.metrics import precision_score, recall_score \n",
    "y_train_pred_90 = (y_scores_train_v1 > 0.6) \n",
    "precision_score_train_ada=precision_score(train_dep, y_train_pred_90)\n",
    "recall_score_train_ada=recall_score(train_dep, y_train_pred_90)"
   ]
  },
  {
   "cell_type": "code",
   "execution_count": 158,
   "metadata": {},
   "outputs": [
    {
     "data": {
      "image/png": "[encoded data removed]",
      "text/plain": [
       "<Figure size 432x288 with 1 Axes>"
      ]
     },
     "metadata": {},
     "output_type": "display_data"
    }
   ],
   "source": [
    "from sklearn.metrics import precision_recall_curve\n",
    "precisions_te, recalls_te, thresholds_te = precision_recall_curve(test_dep, y_scores_test_v1)\n",
    "\n",
    "def plot_precision_recall_vs_threshold(precisions_te, recalls_te, thresholds_te):    \n",
    "    plt.plot(thresholds_te, precisions_te[:-1], \"b--\", label=\"Precision\")    \n",
    "    plt.plot(thresholds_te, recalls_te[:-1], \"g-\", label=\"Recall\")    \n",
    "    plt.xlabel(\"Threshold\")    \n",
    "    plt.legend(loc=\"upper left\")    \n",
    "    plt.ylim([0, 1])\n",
    "plot_precision_recall_vs_threshold(precisions_te, recalls_te, thresholds_te) \n",
    "plt.show()"
   ]
  },
  {
   "cell_type": "code",
   "execution_count": 159,
   "metadata": {},
   "outputs": [],
   "source": [
    "y_test_pred_90 = (y_scores_test_v1 > 0.8) \n",
    "precision_score_test_ada=precision_score(test_dep, y_test_pred_90)\n",
    "recall_score_test_ada=recall_score(test_dep, y_test_pred_90)"
   ]
  },
  {
   "cell_type": "code",
   "execution_count": 160,
   "metadata": {},
   "outputs": [
    {
     "data": {
      "image/png": "[encoded data removed]",
      "text/plain": [
       "<Figure size 432x288 with 1 Axes>"
      ]
     },
     "metadata": {},
     "output_type": "display_data"
    }
   ],
   "source": [
    "from sklearn.metrics import roc_curve\n",
    "fpr, tpr, thresholds = roc_curve(train_dep, y_scores_train_v1) \n",
    "def plot_roc_curve(fpr, tpr, label=None):    \n",
    "    plt.plot(fpr, tpr, linewidth=2, label=label)    \n",
    "    plt.plot([0, 1], [0, 1], 'k--')    \n",
    "    plt.axis([0, 1, 0, 1])    \n",
    "    plt.xlabel('False Positive Rate')    \n",
    "    plt.ylabel('True Positive Rate')\n",
    "plot_roc_curve(fpr, tpr) \n",
    "plt.show()"
   ]
  },
  {
   "cell_type": "code",
   "execution_count": 161,
   "metadata": {},
   "outputs": [],
   "source": [
    "from sklearn.metrics import roc_auc_score\n",
    "roc_auc_score_train_ada=roc_auc_score(train_dep, y_scores_train_v1)\n",
    "roc_auc_score_test_ada=roc_auc_score(test_dep, y_scores_test_v1)"
   ]
  },
  {
   "cell_type": "code",
   "execution_count": 162,
   "metadata": {},
   "outputs": [
    {
     "name": "stdout",
     "output_type": "stream",
     "text": [
      "Precission Test Ada: 91.11471953964049\n",
      "Recall Test Ada: 92.77985669944594\n"
     ]
    }
   ],
   "source": [
    "#print(\"Precission Train Ada:\",precision_score_train_ada*100)\n",
    "#print(\"Recall Train Ada:\",recall_score_train_ada*100)\n",
    "print(\"Precission Test Ada:\",precision_score_test_ada*100)\n",
    "print(\"Recall Test Ada:\",recall_score_test_ada*100)\n",
    "#print(\"ROC AUC Train Ada:\",roc_auc_score_train_ada*100)\n",
    "#print(\"ROC AUC Ada:\",roc_auc_score_test_ada*100)"
   ]
  },
  {
   "cell_type": "code",
   "execution_count": 163,
   "metadata": {},
   "outputs": [],
   "source": [
    "#Spliting the data in 80:20 ratio and then re-fitting the model\n",
    "x_train, x_test, y_train, y_test = train_test_split(kickstarter_data[features], kickstarter_data[response], test_size=0.2, random_state=42)"
   ]
  },
  {
   "cell_type": "code",
   "execution_count": 170,
   "metadata": {},
   "outputs": [
    {
     "name": "stderr",
     "output_type": "stream",
     "text": [
      "C:\\Users\\dhavy\\Anaconda3\\lib\\site-packages\\sklearn\\utils\\validation.py:744: DataConversionWarning: A column-vector y was passed when a 1d array was expected. Please change the shape of y to (n_samples, ), for example using ravel().\n",
      "  y = column_or_1d(y, warn=True)\n"
     ]
    }
   ],
   "source": [
    "from sklearn.ensemble import AdaBoostClassifier\n",
    "clf = AdaBoostClassifier(n_estimators=100, random_state=0,learning_rate=0.5)\n",
    "clf.fit(x_train, y_train)\n",
    "clf.feature_importances_\n",
    "#model_data.columns.values\n",
    "yhat_train = clf.predict(x_train)"
   ]
  },
  {
   "cell_type": "code",
   "execution_count": 171,
   "metadata": {},
   "outputs": [],
   "source": [
    "#clf.feature_importances_"
   ]
  },
  {
   "cell_type": "code",
   "execution_count": 172,
   "metadata": {},
   "outputs": [
    {
     "name": "stdout",
     "output_type": "stream",
     "text": [
      "              precision    recall  f1-score   support\n",
      "\n",
      "           0       0.92      0.95      0.94    113726\n",
      "           1       0.94      0.91      0.92     96002\n",
      "\n",
      "    accuracy                           0.93    209728\n",
      "   macro avg       0.93      0.93      0.93    209728\n",
      "weighted avg       0.93      0.93      0.93    209728\n",
      "\n",
      "              precision    recall  f1-score   support\n",
      "\n",
      "           0       0.93      0.95      0.94     28510\n",
      "           1       0.94      0.91      0.93     23923\n",
      "\n",
      "    accuracy                           0.93     52433\n",
      "   macro avg       0.93      0.93      0.93     52433\n",
      "weighted avg       0.93      0.93      0.93     52433\n",
      "\n"
     ]
    },
    {
     "data": {
      "text/html": [
       "<div>\n",
       "<style scoped>\n",
       "    .dataframe tbody tr th:only-of-type {\n",
       "        vertical-align: middle;\n",
       "    }\n",
       "\n",
       "    .dataframe tbody tr th {\n",
       "        vertical-align: top;\n",
       "    }\n",
       "\n",
       "    .dataframe thead th {\n",
       "        text-align: right;\n",
       "    }\n",
       "</style>\n",
       "<table border=\"1\" class=\"dataframe\">\n",
       "  <thead>\n",
       "    <tr style=\"text-align: right;\">\n",
       "      <th></th>\n",
       "      <th>importance</th>\n",
       "    </tr>\n",
       "  </thead>\n",
       "  <tbody>\n",
       "    <tr>\n",
       "      <th>backers_count</th>\n",
       "      <td>0.41</td>\n",
       "    </tr>\n",
       "    <tr>\n",
       "      <th>usd_goal_real</th>\n",
       "      <td>0.29</td>\n",
       "    </tr>\n",
       "    <tr>\n",
       "      <th>cat_Games</th>\n",
       "      <td>0.06</td>\n",
       "    </tr>\n",
       "    <tr>\n",
       "      <th>cat_Comics</th>\n",
       "      <td>0.04</td>\n",
       "    </tr>\n",
       "    <tr>\n",
       "      <th>cat_Design</th>\n",
       "      <td>0.03</td>\n",
       "    </tr>\n",
       "    <tr>\n",
       "      <th>participants_qtr</th>\n",
       "      <td>0.03</td>\n",
       "    </tr>\n",
       "    <tr>\n",
       "      <th>cat_Technology</th>\n",
       "      <td>0.02</td>\n",
       "    </tr>\n",
       "    <tr>\n",
       "      <th>cat_Publishing</th>\n",
       "      <td>0.02</td>\n",
       "    </tr>\n",
       "    <tr>\n",
       "      <th>cat_Fashion</th>\n",
       "      <td>0.02</td>\n",
       "    </tr>\n",
       "    <tr>\n",
       "      <th>cat_Crafts</th>\n",
       "      <td>0.02</td>\n",
       "    </tr>\n",
       "    <tr>\n",
       "      <th>cat_Theater</th>\n",
       "      <td>0.01</td>\n",
       "    </tr>\n",
       "    <tr>\n",
       "      <th>cat_Photography</th>\n",
       "      <td>0.01</td>\n",
       "    </tr>\n",
       "    <tr>\n",
       "      <th>cat_Music</th>\n",
       "      <td>0.01</td>\n",
       "    </tr>\n",
       "    <tr>\n",
       "      <th>cat_Food</th>\n",
       "      <td>0.01</td>\n",
       "    </tr>\n",
       "    <tr>\n",
       "      <th>cat_Dance</th>\n",
       "      <td>0.01</td>\n",
       "    </tr>\n",
       "    <tr>\n",
       "      <th>duration</th>\n",
       "      <td>0.01</td>\n",
       "    </tr>\n",
       "    <tr>\n",
       "      <th>weekday_0</th>\n",
       "      <td>0.00</td>\n",
       "    </tr>\n",
       "    <tr>\n",
       "      <th>quart_2</th>\n",
       "      <td>0.00</td>\n",
       "    </tr>\n",
       "    <tr>\n",
       "      <th>quart_1</th>\n",
       "      <td>0.00</td>\n",
       "    </tr>\n",
       "    <tr>\n",
       "      <th>weekday_5</th>\n",
       "      <td>0.00</td>\n",
       "    </tr>\n",
       "    <tr>\n",
       "      <th>weekday_4</th>\n",
       "      <td>0.00</td>\n",
       "    </tr>\n",
       "    <tr>\n",
       "      <th>weekday_3</th>\n",
       "      <td>0.00</td>\n",
       "    </tr>\n",
       "    <tr>\n",
       "      <th>weekday_2</th>\n",
       "      <td>0.00</td>\n",
       "    </tr>\n",
       "    <tr>\n",
       "      <th>weekday_1</th>\n",
       "      <td>0.00</td>\n",
       "    </tr>\n",
       "    <tr>\n",
       "      <th>name_len</th>\n",
       "      <td>0.00</td>\n",
       "    </tr>\n",
       "    <tr>\n",
       "      <th>cat_Art</th>\n",
       "      <td>0.00</td>\n",
       "    </tr>\n",
       "    <tr>\n",
       "      <th>name_exclaim</th>\n",
       "      <td>0.00</td>\n",
       "    </tr>\n",
       "    <tr>\n",
       "      <th>name_question</th>\n",
       "      <td>0.00</td>\n",
       "    </tr>\n",
       "    <tr>\n",
       "      <th>name_words</th>\n",
       "      <td>0.00</td>\n",
       "    </tr>\n",
       "    <tr>\n",
       "      <th>name_is_upper</th>\n",
       "      <td>0.00</td>\n",
       "    </tr>\n",
       "    <tr>\n",
       "      <th>cat_Journalism</th>\n",
       "      <td>0.00</td>\n",
       "    </tr>\n",
       "    <tr>\n",
       "      <th>name_is_lower</th>\n",
       "      <td>0.00</td>\n",
       "    </tr>\n",
       "    <tr>\n",
       "      <th>quart_3</th>\n",
       "      <td>0.00</td>\n",
       "    </tr>\n",
       "  </tbody>\n",
       "</table>\n",
       "</div>"
      ],
      "text/plain": [
       "                  importance\n",
       "backers_count           0.41\n",
       "usd_goal_real           0.29\n",
       "cat_Games               0.06\n",
       "cat_Comics              0.04\n",
       "cat_Design              0.03\n",
       "participants_qtr        0.03\n",
       "cat_Technology          0.02\n",
       "cat_Publishing          0.02\n",
       "cat_Fashion             0.02\n",
       "cat_Crafts              0.02\n",
       "cat_Theater             0.01\n",
       "cat_Photography         0.01\n",
       "cat_Music               0.01\n",
       "cat_Food                0.01\n",
       "cat_Dance               0.01\n",
       "duration                0.01\n",
       "weekday_0               0.00\n",
       "quart_2                 0.00\n",
       "quart_1                 0.00\n",
       "weekday_5               0.00\n",
       "weekday_4               0.00\n",
       "weekday_3               0.00\n",
       "weekday_2               0.00\n",
       "weekday_1               0.00\n",
       "name_len                0.00\n",
       "cat_Art                 0.00\n",
       "name_exclaim            0.00\n",
       "name_question           0.00\n",
       "name_words              0.00\n",
       "name_is_upper           0.00\n",
       "cat_Journalism          0.00\n",
       "name_is_lower           0.00\n",
       "quart_3                 0.00"
      ]
     },
     "execution_count": 172,
     "metadata": {},
     "output_type": "execute_result"
    }
   ],
   "source": [
    "yhat_train = clf.predict(x_train)\n",
    "accuracy_score(y_train,yhat_train)\n",
    "#train performance\n",
    "print(classification_report(yhat_train, y_train))\n",
    "#test performance\n",
    "yhat_test = clf.predict(x_test)\n",
    "print(classification_report(yhat_test, y_test))\n",
    "feature_importances = pd.DataFrame(clf.feature_importances_,\n",
    "                                   index = x_test.columns,\n",
    "                                    columns=['importance']).sort_values('importance',ascending=False)\n",
    "\n",
    "feature_importances"
   ]
  },
  {
   "cell_type": "markdown",
   "metadata": {},
   "source": [
    "Adaptive Boosting - Results considered for the presentation"
   ]
  },
  {
   "cell_type": "code",
   "execution_count": 174,
   "metadata": {},
   "outputs": [
    {
     "data": {
      "text/plain": [
       "array([[27205,  2168],\n",
       "       [ 1305, 21755]], dtype=int64)"
      ]
     },
     "execution_count": 174,
     "metadata": {},
     "output_type": "execute_result"
    }
   ],
   "source": [
    "from sklearn.metrics import confusion_matrix\n",
    "conf_matrix = confusion_matrix(y_test,yhat_test)\n",
    "conf_matrix"
   ]
  },
  {
   "cell_type": "code",
   "execution_count": 176,
   "metadata": {},
   "outputs": [
    {
     "data": {
      "image/png": "[encoded data removed]",
      "text/plain": [
       "<Figure size 432x288 with 1 Axes>"
      ]
     },
     "metadata": {},
     "output_type": "display_data"
    },
    {
     "data": {
      "text/plain": [
       "0.9347996094672378"
      ]
     },
     "execution_count": 176,
     "metadata": {},
     "output_type": "execute_result"
    }
   ],
   "source": [
    "from sklearn.metrics import roc_curve\n",
    "fpr, tpr, thresholds = roc_curve(y_test, yhat_test) \n",
    "\n",
    "def plot_roc_curve(fpr_xg, tpr_xg, label=None):    \n",
    "    plt.plot(fpr_xg, tpr_xg, linewidth=2, label=label)    \n",
    "    plt.plot([0, 1], [0, 1], 'k--')    \n",
    "    plt.axis([0, 1, 0, 1])    \n",
    "    plt.xlabel('False Positive Rate')    \n",
    "    plt.ylabel('True Positive Rate')\n",
    "plot_roc_curve(fpr, tpr) \n",
    "plt.show()\n",
    "\n",
    "\n",
    "roc_auc_score(y_test, yhat_test)"
   ]
  },
  {
   "cell_type": "code",
   "execution_count": 177,
   "metadata": {},
   "outputs": [
    {
     "data": {
      "text/plain": [
       "Text(0.5, 1, 'Accuracy Score: 0.9286958511869191')"
      ]
     },
     "execution_count": 177,
     "metadata": {},
     "output_type": "execute_result"
    },
    {
     "data": {
      "image/png": "[encoded data removed]",
      "text/plain": [
       "<Figure size 1080x288 with 2 Axes>"
      ]
     },
     "metadata": {},
     "output_type": "display_data"
    }
   ],
   "source": [
    "#plot confusion matrix\n",
    "plt.figure(figsize=(15,4))\n",
    "sns.heatmap(conf_matrix,annot=True,fmt='0.3f',linewidths='0.5',square=True,cmap='YlGnBu_r')\n",
    "plt.ylabel('Actual label')\n",
    "plt.xlabel('Predicted label')\n",
    "all_sample_title = 'Accuracy Score: {0}'.format(score)\n",
    "plt.title(all_sample_title, size = 15)"
   ]
  },
  {
   "cell_type": "markdown",
   "metadata": {},
   "source": [
    "6.XGBoost model"
   ]
  },
  {
   "cell_type": "markdown",
   "metadata": {},
   "source": [
    "XGBoost is an implementation of gradient boosted decision trees designed which promises speed and performance. \n",
    "The two reasons XGBoost is a good choice of model are: 1.Execution Speed (as compared to decision trees) \n",
    "2.Model Performance. \n",
    "This algorithm is also known as gradient boosting, multiple additive regression trees, stochastic gradient boosting or gradient boosting machines.\n",
    "\n",
    "The basic concept of Boosting is that it is an ensemble technique where new models are added to correct the errors made by existing models. \n",
    "Models are added sequentially until no further improvements can be made. In Gradient boosting, new models are created that predict the residuals or errors of prior models and then added together to make the final prediction. It is called so as it uses a gradient descent algorithm to minimize the loss when adding new models. The parameters used to optimize the XGBoost model at every tree is: Logarithmic Loss, or simply Log Loss. It is a classification loss function.\n",
    "\n",
    "Log Loss quantifies the accuracy of a classifier by penalising false classifications based on the probability of assigning that class. \n",
    "Minimising the Log Loss is basically equivalent to maximising the accuracy of the classifier."
   ]
  },
  {
   "cell_type": "code",
   "execution_count": 178,
   "metadata": {},
   "outputs": [],
   "source": [
    "# defining the XGBoost model\n",
    "xgb_model = XGBClassifier(\n",
    " n_estimators= 300,\n",
    " learning_rate= 0.08,\n",
    " max_depth= 5,\n",
    " subsample=0.8,\n",
    " colsample_bytree=0.8,\n",
    " objective= 'binary:logistic'\n",
    " )"
   ]
  },
  {
   "cell_type": "code",
   "execution_count": 179,
   "metadata": {},
   "outputs": [
    {
     "name": "stderr",
     "output_type": "stream",
     "text": [
      "C:\\Users\\dhavy\\Anaconda3\\lib\\site-packages\\sklearn\\preprocessing\\_label.py:235: DataConversionWarning: A column-vector y was passed when a 1d array was expected. Please change the shape of y to (n_samples, ), for example using ravel().\n",
      "  y = column_or_1d(y, warn=True)\n",
      "C:\\Users\\dhavy\\Anaconda3\\lib\\site-packages\\sklearn\\preprocessing\\_label.py:268: DataConversionWarning: A column-vector y was passed when a 1d array was expected. Please change the shape of y to (n_samples, ), for example using ravel().\n",
      "  y = column_or_1d(y, warn=True)\n"
     ]
    }
   ],
   "source": [
    "# model fitting\n",
    "xgb_model=xgb_model.fit(train_ind[features], train_dep[response])"
   ]
  },
  {
   "cell_type": "markdown",
   "metadata": {},
   "source": [
    "Prediction XGB"
   ]
  },
  {
   "cell_type": "markdown",
   "metadata": {},
   "source": [
    "Evaluating XGB classifier"
   ]
  },
  {
   "cell_type": "code",
   "execution_count": 180,
   "metadata": {},
   "outputs": [
    {
     "name": "stdout",
     "output_type": "stream",
     "text": [
      "Test Accuracy ::  93.8282749939605\n",
      "Train Accuracy ::  94.11809581934696\n"
     ]
    }
   ],
   "source": [
    "print (\"Test Accuracy :: \",(accuracy_score(test_dep[response], xgb_model.predict(test_ind[features])))*100)\n",
    "print (\"Train Accuracy :: \",(accuracy_score(train_dep[response], xgb_model.predict(train_ind[features])))*100)"
   ]
  },
  {
   "cell_type": "code",
   "execution_count": 181,
   "metadata": {},
   "outputs": [],
   "source": [
    "xg_boost_prob = xgb_model.predict_proba(test_ind[features])\n",
    "xg_boost_prediction = xgb_model.predict(test_ind[features])"
   ]
  },
  {
   "cell_type": "code",
   "execution_count": 182,
   "metadata": {},
   "outputs": [
    {
     "name": "stdout",
     "output_type": "stream",
     "text": [
      "0.938282749939605\n"
     ]
    }
   ],
   "source": [
    "score = xgb_model.score(test_ind[features],test_dep[response])\n",
    "print(score)"
   ]
  },
  {
   "cell_type": "code",
   "execution_count": 183,
   "metadata": {},
   "outputs": [],
   "source": [
    "conf_matrix = confusion_matrix(y_pred=xg_boost_prediction,y_true=test_dep)"
   ]
  },
  {
   "cell_type": "code",
   "execution_count": 184,
   "metadata": {},
   "outputs": [
    {
     "data": {
      "text/plain": [
       "Text(0.5, 1, 'Accuracy Score: 0.938282749939605')"
      ]
     },
     "execution_count": 184,
     "metadata": {},
     "output_type": "execute_result"
    },
    {
     "data": {
      "image/png": "[encoded data removed]",
      "text/plain": [
       "<Figure size 360x360 with 2 Axes>"
      ]
     },
     "metadata": {},
     "output_type": "display_data"
    }
   ],
   "source": [
    "plt.figure(figsize=(5,5))\n",
    "sns.heatmap(conf_matrix,annot=True,fmt='0.3f',linewidths='0.5',square=True,cmap='YlGnBu_r')\n",
    "plt.ylabel('Actual label')\n",
    "plt.xlabel('Predicted label')\n",
    "all_sample_title = 'Accuracy Score: {0}'.format(score)\n",
    "plt.title(all_sample_title, size = 15)"
   ]
  },
  {
   "cell_type": "code",
   "execution_count": 185,
   "metadata": {},
   "outputs": [
    {
     "name": "stdout",
     "output_type": "stream",
     "text": [
      "              precision    recall  f1-score   support\n",
      "\n",
      "           0       0.95      0.94      0.94     44176\n",
      "           1       0.92      0.94      0.93     34473\n",
      "\n",
      "    accuracy                           0.94     78649\n",
      "   macro avg       0.94      0.94      0.94     78649\n",
      "weighted avg       0.94      0.94      0.94     78649\n",
      "\n"
     ]
    }
   ],
   "source": [
    "print(classification_report(y_pred=xg_boost_prediction,y_true=test_dep))"
   ]
  },
  {
   "cell_type": "code",
   "execution_count": 186,
   "metadata": {},
   "outputs": [
    {
     "data": {
      "text/plain": [
       "0.9854222565386221"
      ]
     },
     "execution_count": 186,
     "metadata": {},
     "output_type": "execute_result"
    }
   ],
   "source": [
    "roc_auc_score(test_dep,xg_boost_prob[:,1])"
   ]
  },
  {
   "cell_type": "code",
   "execution_count": 187,
   "metadata": {},
   "outputs": [
    {
     "name": "stdout",
     "output_type": "stream",
     "text": [
      "              precision    recall  f1-score   support\n",
      "\n",
      "           0       0.95      0.94      0.95    102666\n",
      "           1       0.92      0.94      0.93     80846\n",
      "\n",
      "    accuracy                           0.94    183512\n",
      "   macro avg       0.94      0.94      0.94    183512\n",
      "weighted avg       0.94      0.94      0.94    183512\n",
      "\n"
     ]
    }
   ],
   "source": [
    "# Classification Report from Train Data\n",
    "print(classification_report(y_pred=xgb_model.predict(train_ind),y_true=train_dep))"
   ]
  },
  {
   "cell_type": "code",
   "execution_count": 188,
   "metadata": {},
   "outputs": [],
   "source": [
    "## Feature importances\n",
    "ftr_imp=zip(features,xgb_model.feature_importances_)"
   ]
  },
  {
   "cell_type": "code",
   "execution_count": 189,
   "metadata": {},
   "outputs": [
    {
     "name": "stdout",
     "output_type": "stream",
     "text": [
      "('backers_count', 0.219389)\n",
      "('usd_goal_real', 0.18723823)\n",
      "('name_len', 0.084873125)\n",
      "('name_exclaim', 0.0056664203)\n",
      "('name_question', 0.0004927322)\n",
      "('name_words', 0.038186744)\n",
      "('name_is_upper', 0.0027100272)\n",
      "('name_is_lower', 0.002463661)\n",
      "('duration', 0.08167036)\n",
      "('participants_qtr', 0.16839123)\n",
      "('cat_Art', 0.0065287016)\n",
      "('cat_Comics', 0.012318305)\n",
      "('cat_Crafts', 0.006651885)\n",
      "('cat_Dance', 0.0030795762)\n",
      "('cat_Design', 0.017984726)\n",
      "('cat_Fashion', 0.011332841)\n",
      "('cat_Food', 0.007637349)\n",
      "('cat_Games', 0.027346637)\n",
      "('cat_Journalism', 0.0032027592)\n",
      "('cat_Music', 0.011702389)\n",
      "('cat_Photography', 0.004804139)\n",
      "('cat_Publishing', 0.011209657)\n",
      "('cat_Technology', 0.014042867)\n",
      "('cat_Theater', 0.0038186745)\n",
      "('weekday_0', 0.007760532)\n",
      "('weekday_1', 0.0072678)\n",
      "('weekday_2', 0.008745996)\n",
      "('weekday_3', 0.007514166)\n",
      "('weekday_4', 0.0059127863)\n",
      "('weekday_5', 0.002463661)\n",
      "('quart_1', 0.011209657)\n",
      "('quart_2', 0.008253264)\n",
      "('quart_3', 0.008130081)\n"
     ]
    }
   ],
   "source": [
    "for values in ftr_imp:\n",
    "    print(values)"
   ]
  },
  {
   "cell_type": "code",
   "execution_count": 190,
   "metadata": {},
   "outputs": [],
   "source": [
    "# creating a dataframe\n",
    "feature_imp=pd.DataFrame(list(zip(features,xgb_model.feature_importances_)))\n",
    "column_names= ['features','XGB_imp']\n",
    "feature_imp.columns= column_names"
   ]
  },
  {
   "cell_type": "code",
   "execution_count": 191,
   "metadata": {},
   "outputs": [
    {
     "data": {
      "text/html": [
       "<div>\n",
       "<style scoped>\n",
       "    .dataframe tbody tr th:only-of-type {\n",
       "        vertical-align: middle;\n",
       "    }\n",
       "\n",
       "    .dataframe tbody tr th {\n",
       "        vertical-align: top;\n",
       "    }\n",
       "\n",
       "    .dataframe thead th {\n",
       "        text-align: right;\n",
       "    }\n",
       "</style>\n",
       "<table border=\"1\" class=\"dataframe\">\n",
       "  <thead>\n",
       "    <tr style=\"text-align: right;\">\n",
       "      <th></th>\n",
       "      <th>features</th>\n",
       "      <th>XGB_imp</th>\n",
       "    </tr>\n",
       "  </thead>\n",
       "  <tbody>\n",
       "    <tr>\n",
       "      <th>0</th>\n",
       "      <td>backers_count</td>\n",
       "      <td>0.219389</td>\n",
       "    </tr>\n",
       "    <tr>\n",
       "      <th>1</th>\n",
       "      <td>usd_goal_real</td>\n",
       "      <td>0.187238</td>\n",
       "    </tr>\n",
       "    <tr>\n",
       "      <th>9</th>\n",
       "      <td>participants_qtr</td>\n",
       "      <td>0.168391</td>\n",
       "    </tr>\n",
       "    <tr>\n",
       "      <th>2</th>\n",
       "      <td>name_len</td>\n",
       "      <td>0.084873</td>\n",
       "    </tr>\n",
       "    <tr>\n",
       "      <th>8</th>\n",
       "      <td>duration</td>\n",
       "      <td>0.081670</td>\n",
       "    </tr>\n",
       "    <tr>\n",
       "      <th>5</th>\n",
       "      <td>name_words</td>\n",
       "      <td>0.038187</td>\n",
       "    </tr>\n",
       "    <tr>\n",
       "      <th>17</th>\n",
       "      <td>cat_Games</td>\n",
       "      <td>0.027347</td>\n",
       "    </tr>\n",
       "    <tr>\n",
       "      <th>14</th>\n",
       "      <td>cat_Design</td>\n",
       "      <td>0.017985</td>\n",
       "    </tr>\n",
       "    <tr>\n",
       "      <th>22</th>\n",
       "      <td>cat_Technology</td>\n",
       "      <td>0.014043</td>\n",
       "    </tr>\n",
       "    <tr>\n",
       "      <th>11</th>\n",
       "      <td>cat_Comics</td>\n",
       "      <td>0.012318</td>\n",
       "    </tr>\n",
       "    <tr>\n",
       "      <th>19</th>\n",
       "      <td>cat_Music</td>\n",
       "      <td>0.011702</td>\n",
       "    </tr>\n",
       "    <tr>\n",
       "      <th>15</th>\n",
       "      <td>cat_Fashion</td>\n",
       "      <td>0.011333</td>\n",
       "    </tr>\n",
       "    <tr>\n",
       "      <th>30</th>\n",
       "      <td>quart_1</td>\n",
       "      <td>0.011210</td>\n",
       "    </tr>\n",
       "    <tr>\n",
       "      <th>21</th>\n",
       "      <td>cat_Publishing</td>\n",
       "      <td>0.011210</td>\n",
       "    </tr>\n",
       "    <tr>\n",
       "      <th>26</th>\n",
       "      <td>weekday_2</td>\n",
       "      <td>0.008746</td>\n",
       "    </tr>\n",
       "  </tbody>\n",
       "</table>\n",
       "</div>"
      ],
      "text/plain": [
       "            features   XGB_imp\n",
       "0      backers_count  0.219389\n",
       "1      usd_goal_real  0.187238\n",
       "9   participants_qtr  0.168391\n",
       "2           name_len  0.084873\n",
       "8           duration  0.081670\n",
       "5         name_words  0.038187\n",
       "17         cat_Games  0.027347\n",
       "14        cat_Design  0.017985\n",
       "22    cat_Technology  0.014043\n",
       "11        cat_Comics  0.012318\n",
       "19         cat_Music  0.011702\n",
       "15       cat_Fashion  0.011333\n",
       "30           quart_1  0.011210\n",
       "21    cat_Publishing  0.011210\n",
       "26         weekday_2  0.008746"
      ]
     },
     "execution_count": 191,
     "metadata": {},
     "output_type": "execute_result"
    }
   ],
   "source": [
    "# sort in descending order of importances\n",
    "feature_imp= feature_imp.sort_values('XGB_imp',ascending=False)\n",
    "feature_imp[:15]"
   ]
  },
  {
   "cell_type": "code",
   "execution_count": 192,
   "metadata": {},
   "outputs": [],
   "source": [
    "rf_pred_train=xgb_model.predict(train_ind[features])\n",
    "rf_predictions=xgb_model.predict(test_ind[features])"
   ]
  },
  {
   "cell_type": "markdown",
   "metadata": {},
   "source": [
    "XG Boosting - Results considered for the presentation"
   ]
  },
  {
   "cell_type": "code",
   "execution_count": 193,
   "metadata": {},
   "outputs": [
    {
     "name": "stdout",
     "output_type": "stream",
     "text": [
      "Train data Precision: 92.4598748969597\n",
      "Train data Recall: 94.34232986171239\n",
      "Test data Precision: 92.13588641989358\n",
      "Test data Recall: 93.93728425144316\n"
     ]
    }
   ],
   "source": [
    "from sklearn.metrics import precision_score, recall_score \n",
    "#Test on the train set\n",
    "print(\"Train data Precision:\",precision_score(train_dep,rf_pred_train)*100)\n",
    "print(\"Train data Recall:\",recall_score(train_dep,rf_pred_train)*100)\n",
    "\n",
    "print(\"Test data Precision:\",precision_score(test_dep,rf_predictions)*100)\n",
    "print(\"Test data Recall:\",recall_score(test_dep,rf_predictions)*100)"
   ]
  },
  {
   "cell_type": "code",
   "execution_count": 194,
   "metadata": {},
   "outputs": [
    {
     "name": "stdout",
     "output_type": "stream",
     "text": [
      "Train F-1 score: 93.39161738236051\n",
      "Test F-1 score: 93.02786555587475\n"
     ]
    }
   ],
   "source": [
    "from sklearn.metrics import f1_score\n",
    "print(\"Train F-1 score:\",f1_score(train_dep, rf_pred_train)*100)\n",
    "print(\"Test F-1 score:\",f1_score(test_dep, rf_predictions)*100)"
   ]
  },
  {
   "cell_type": "code",
   "execution_count": 195,
   "metadata": {},
   "outputs": [],
   "source": [
    "y_scores_train = cross_val_predict(xgb_model, train_ind, train_dep.values.ravel(), cv=5, method=\"predict_proba\")\n",
    "y_scores_test  = cross_val_predict(xgb_model, test_ind, test_dep.values.ravel(), cv=5, method=\"predict_proba\")"
   ]
  },
  {
   "cell_type": "code",
   "execution_count": 196,
   "metadata": {},
   "outputs": [],
   "source": [
    "y_scores_train_v1 = y_scores_train[:, 1] \n",
    "y_scores_test_v1  = y_scores_test[:, 1] "
   ]
  },
  {
   "cell_type": "code",
   "execution_count": 197,
   "metadata": {},
   "outputs": [
    {
     "data": {
      "image/png": "[encoded data removed]",
      "text/plain": [
       "<Figure size 432x288 with 1 Axes>"
      ]
     },
     "metadata": {},
     "output_type": "display_data"
    }
   ],
   "source": [
    "from sklearn.metrics import precision_recall_curve\n",
    "precisions_tr, recalls_tr, thresholds_tr = precision_recall_curve(train_dep, y_scores_train_v1)\n",
    "\n",
    "thresholds_tr\n",
    "\n",
    "def plot_precision_recall_vs_threshold(precisions_tr, recalls_tr, thresholds_tr):    \n",
    "    plt.plot(thresholds_tr, precisions_tr[:-1], \"b--\", label=\"Precision\")    \n",
    "    plt.plot(thresholds_tr, recalls_tr[:-1], \"g-\", label=\"Recall\")    \n",
    "    plt.xlabel(\"Threshold\")    \n",
    "    plt.legend(loc=\"upper left\")    \n",
    "    plt.ylim([0, 1])\n",
    "plot_precision_recall_vs_threshold(precisions_tr, recalls_tr, thresholds_tr) \n",
    "plt.show()"
   ]
  },
  {
   "cell_type": "code",
   "execution_count": 198,
   "metadata": {},
   "outputs": [],
   "source": [
    "y_train_pred_90 = (y_scores_train_v1 > 0.6) \n",
    "precision_score_train_xg=precision_score(train_dep, y_train_pred_90)\n",
    "recall_score_train_xg=recall_score(train_dep, y_train_pred_90)"
   ]
  },
  {
   "cell_type": "code",
   "execution_count": 199,
   "metadata": {},
   "outputs": [
    {
     "data": {
      "image/png": "[encoded data removed]",
      "text/plain": [
       "<Figure size 432x288 with 1 Axes>"
      ]
     },
     "metadata": {},
     "output_type": "display_data"
    }
   ],
   "source": [
    "from sklearn.metrics import precision_recall_curve\n",
    "precisions_te, recalls_te, thresholds_te = precision_recall_curve(test_dep, y_scores_test_v1)\n",
    "\n",
    "def plot_precision_recall_vs_threshold(precisions_te, recalls_te, thresholds_te):    \n",
    "    plt.plot(thresholds_te, precisions_te[:-1], \"b--\", label=\"Precision\")    \n",
    "    plt.plot(thresholds_te, recalls_te[:-1], \"g-\", label=\"Recall\")    \n",
    "    plt.xlabel(\"Threshold\")    \n",
    "    plt.legend(loc=\"upper left\")    \n",
    "    plt.ylim([0, 1])\n",
    "plot_precision_recall_vs_threshold(precisions_te, recalls_te, thresholds_te) \n",
    "plt.show()\n"
   ]
  },
  {
   "cell_type": "code",
   "execution_count": 200,
   "metadata": {},
   "outputs": [],
   "source": [
    "y_test_pred_90 = (y_scores_test_v1 > 0.6) \n",
    "precision_score_test_xg=precision_score(train_dep, y_train_pred_90)\n",
    "recall_score_test_xg=recall_score(train_dep, y_train_pred_90)"
   ]
  },
  {
   "cell_type": "code",
   "execution_count": 201,
   "metadata": {},
   "outputs": [
    {
     "data": {
      "image/png": "[encoded data removed]",
      "text/plain": [
       "<Figure size 432x288 with 1 Axes>"
      ]
     },
     "metadata": {},
     "output_type": "display_data"
    }
   ],
   "source": [
    "from sklearn.metrics import roc_curve\n",
    "fpr, tpr, thresholds = roc_curve(train_dep, y_scores_train_v1) \n",
    "\n",
    "def plot_roc_curve(fpr, tpr, label=None):    \n",
    "    plt.plot(fpr, tpr, linewidth=2, label=label)    \n",
    "    plt.plot([0, 1], [0, 1], 'k--')    \n",
    "    plt.axis([0, 1, 0, 1])    \n",
    "    plt.xlabel('False Positive Rate')    \n",
    "    plt.ylabel('True Positive Rate')\n",
    "plot_roc_curve(fpr, tpr) \n",
    "plt.show()"
   ]
  },
  {
   "cell_type": "code",
   "execution_count": 202,
   "metadata": {},
   "outputs": [],
   "source": [
    "from sklearn.metrics import roc_auc_score\n",
    "roc_auc_score_train_xg=roc_auc_score(train_dep, y_scores_train_v1)\n",
    "roc_auc_score_test_xg=roc_auc_score(test_dep, y_scores_test_v1)"
   ]
  },
  {
   "cell_type": "code",
   "execution_count": 203,
   "metadata": {},
   "outputs": [
    {
     "name": "stdout",
     "output_type": "stream",
     "text": [
      "Precission Train XGBoost: 93.44571170175351\n",
      "Recall Train XGBoost: 92.01939489894367\n",
      "Precission Test XGBoost: 93.44571170175351\n",
      "Recall Test XGBoost: 92.01939489894367\n",
      "ROC AUC Train XGBoost: 98.51347437699812\n",
      "ROC AUC XGBoost: 98.47538653964246\n"
     ]
    }
   ],
   "source": [
    "print(\"Precission Train XGBoost:\",precision_score_train_xg*100)\n",
    "print(\"Recall Train XGBoost:\",recall_score_train_xg*100)\n",
    "print(\"Precission Test XGBoost:\",precision_score_test_xg*100)\n",
    "print(\"Recall Test XGBoost:\",recall_score_test_xg*100)\n",
    "print(\"ROC AUC Train XGBoost:\",roc_auc_score_train_xg*100)\n",
    "print(\"ROC AUC XGBoost:\",roc_auc_score_test_xg*100)"
   ]
  },
  {
   "cell_type": "code",
   "execution_count": 204,
   "metadata": {},
   "outputs": [],
   "source": [
    "y_test_pred_xgb =list(map(int,y_test_pred_90))"
   ]
  },
  {
   "cell_type": "code",
   "execution_count": 205,
   "metadata": {},
   "outputs": [],
   "source": [
    "conf_matrix = metrics.confusion_matrix(y_pred=y_test_pred_xgb,y_true=test_dep) \n",
    "score = mymodel.score(test_ind[features],test_dep[response])"
   ]
  },
  {
   "cell_type": "code",
   "execution_count": 206,
   "metadata": {},
   "outputs": [
    {
     "name": "stdout",
     "output_type": "stream",
     "text": [
      "              precision    recall  f1-score   support\n",
      "\n",
      "           0       0.93      0.95      0.94     44176\n",
      "           1       0.93      0.91      0.92     34473\n",
      "\n",
      "    accuracy                           0.93     78649\n",
      "   macro avg       0.93      0.93      0.93     78649\n",
      "weighted avg       0.93      0.93      0.93     78649\n",
      "\n"
     ]
    },
    {
     "data": {
      "text/plain": [
       "Text(0.5, 1, 'Accuracy Score: 0.9162481404722247')"
      ]
     },
     "execution_count": 206,
     "metadata": {},
     "output_type": "execute_result"
    },
    {
     "data": {
      "image/png": "[encoded data removed]",
      "text/plain": [
       "<Figure size 648x648 with 2 Axes>"
      ]
     },
     "metadata": {},
     "output_type": "display_data"
    }
   ],
   "source": [
    "print(metrics.classification_report(y_pred=y_test_pred_rf,y_true=test_dep))\n",
    "\n",
    "plt.figure(figsize=(9,9)) \n",
    "sns.heatmap(conf_matrix, annot=True, fmt=\".3f\", linewidths=.5, square = True, cmap=None)\n",
    "plt.ylabel('Actual label') \n",
    "plt.xlabel('Predicted label') \n",
    "all_sample_title = 'Accuracy Score: {0}'.format(score) \n",
    "plt.title(all_sample_title, size = 15)"
   ]
  },
  {
   "cell_type": "markdown",
   "metadata": {},
   "source": [
    "7.Ensemble - Logistic + Random Forest Grid + AdapBoosting + XgBoosting"
   ]
  },
  {
   "cell_type": "code",
   "execution_count": 210,
   "metadata": {},
   "outputs": [],
   "source": [
    "#Models are already fitted above\n",
    "#Logistic\n",
    "#Random Forest Grid\n",
    "#Adaptive Boosting\n",
    "#XG Boosting\n",
    "\n",
    "#predicting the probabilities in test\n",
    "pred_lr=mymodel.predict_proba(test_ind[features])\n",
    "pred_rfg=clf_grid.predict_proba(test_ind[features])\n",
    "pred_adap=clf.predict_proba(test_ind[features])\n",
    "pred_xg=xgb_model.predict_proba(test_ind[features])"
   ]
  },
  {
   "cell_type": "code",
   "execution_count": 211,
   "metadata": {},
   "outputs": [],
   "source": [
    "#Voting from the 4 predictions above in test\n",
    "finalpred=(pred_lr+pred_rfg+pred_adap+pred_xg)/4"
   ]
  },
  {
   "cell_type": "code",
   "execution_count": 212,
   "metadata": {},
   "outputs": [
    {
     "data": {
      "text/html": [
       "<div>\n",
       "<style scoped>\n",
       "    .dataframe tbody tr th:only-of-type {\n",
       "        vertical-align: middle;\n",
       "    }\n",
       "\n",
       "    .dataframe tbody tr th {\n",
       "        vertical-align: top;\n",
       "    }\n",
       "\n",
       "    .dataframe thead th {\n",
       "        text-align: right;\n",
       "    }\n",
       "</style>\n",
       "<table border=\"1\" class=\"dataframe\">\n",
       "  <thead>\n",
       "    <tr style=\"text-align: right;\">\n",
       "      <th></th>\n",
       "      <th>0</th>\n",
       "      <th>1</th>\n",
       "    </tr>\n",
       "  </thead>\n",
       "  <tbody>\n",
       "    <tr>\n",
       "      <th>0</th>\n",
       "      <td>0.730849</td>\n",
       "      <td>0.269151</td>\n",
       "    </tr>\n",
       "    <tr>\n",
       "      <th>1</th>\n",
       "      <td>0.406600</td>\n",
       "      <td>0.593400</td>\n",
       "    </tr>\n",
       "    <tr>\n",
       "      <th>2</th>\n",
       "      <td>0.160869</td>\n",
       "      <td>0.839131</td>\n",
       "    </tr>\n",
       "    <tr>\n",
       "      <th>3</th>\n",
       "      <td>0.147904</td>\n",
       "      <td>0.852096</td>\n",
       "    </tr>\n",
       "    <tr>\n",
       "      <th>4</th>\n",
       "      <td>0.866027</td>\n",
       "      <td>0.133973</td>\n",
       "    </tr>\n",
       "    <tr>\n",
       "      <th>...</th>\n",
       "      <td>...</td>\n",
       "      <td>...</td>\n",
       "    </tr>\n",
       "    <tr>\n",
       "      <th>78644</th>\n",
       "      <td>0.806283</td>\n",
       "      <td>0.193717</td>\n",
       "    </tr>\n",
       "    <tr>\n",
       "      <th>78645</th>\n",
       "      <td>0.833715</td>\n",
       "      <td>0.166285</td>\n",
       "    </tr>\n",
       "    <tr>\n",
       "      <th>78646</th>\n",
       "      <td>0.806542</td>\n",
       "      <td>0.193458</td>\n",
       "    </tr>\n",
       "    <tr>\n",
       "      <th>78647</th>\n",
       "      <td>0.158719</td>\n",
       "      <td>0.841281</td>\n",
       "    </tr>\n",
       "    <tr>\n",
       "      <th>78648</th>\n",
       "      <td>0.760238</td>\n",
       "      <td>0.239762</td>\n",
       "    </tr>\n",
       "  </tbody>\n",
       "</table>\n",
       "<p>78649 rows × 2 columns</p>\n",
       "</div>"
      ],
      "text/plain": [
       "              0         1\n",
       "0      0.730849  0.269151\n",
       "1      0.406600  0.593400\n",
       "2      0.160869  0.839131\n",
       "3      0.147904  0.852096\n",
       "4      0.866027  0.133973\n",
       "...         ...       ...\n",
       "78644  0.806283  0.193717\n",
       "78645  0.833715  0.166285\n",
       "78646  0.806542  0.193458\n",
       "78647  0.158719  0.841281\n",
       "78648  0.760238  0.239762\n",
       "\n",
       "[78649 rows x 2 columns]"
      ]
     },
     "execution_count": 212,
     "metadata": {},
     "output_type": "execute_result"
    }
   ],
   "source": [
    "#creating the dataframe with predicted probabilities (for 0 and 1)\n",
    "pred_proba_avg=pd.DataFrame(finalpred)\n",
    "pred_proba_avg"
   ]
  },
  {
   "cell_type": "code",
   "execution_count": 213,
   "metadata": {},
   "outputs": [],
   "source": [
    "#the results have 2 probabilities: prob of the state being 0 and state being 1 in that order: hence the 2 columns\n",
    "col_names=['prob_0','prob_1']\n",
    "pred_proba_avg.columns=col_names"
   ]
  },
  {
   "cell_type": "code",
   "execution_count": 214,
   "metadata": {},
   "outputs": [],
   "source": [
    "# if the probability of 0> probability of 1: state is 0 and vice versa\n",
    "def final_state(c):\n",
    "    if c['prob_0'] > c['prob_1']:\n",
    "        return 0\n",
    "    else:\n",
    "        return 1\n",
    "#creating the final predicted state column using the averaging method    \n",
    "pred_proba_avg['final_state_avg'] = pred_proba_avg.apply(final_state, axis=1)"
   ]
  },
  {
   "cell_type": "code",
   "execution_count": 215,
   "metadata": {},
   "outputs": [
    {
     "name": "stdout",
     "output_type": "stream",
     "text": [
      "Test Accuracy  ::  0.9333240092054571\n"
     ]
    }
   ],
   "source": [
    "#appending to base dataframe\n",
    "test_ind_v1=test_ind\n",
    "test_ind_v1 = test_ind_v1.reset_index(drop=True)\n",
    "pred_proba_avg = pred_proba_avg.reset_index(drop=True)\n",
    "test_ind_v1=pd.concat([test_ind_v1,pred_proba_avg],axis=1)\n",
    "\n",
    "#Model Evaluation\n",
    "print (\"Test Accuracy  :: \", accuracy_score(test_dep[response],test_ind_v1['final_state_avg']))"
   ]
  },
  {
   "cell_type": "code",
   "execution_count": 216,
   "metadata": {},
   "outputs": [
    {
     "name": "stdout",
     "output_type": "stream",
     "text": [
      "              precision    recall  f1-score   support\n",
      "\n",
      "           0       0.94      0.94      0.94     44176\n",
      "           1       0.92      0.93      0.92     34473\n",
      "\n",
      "    accuracy                           0.93     78649\n",
      "   macro avg       0.93      0.93      0.93     78649\n",
      "weighted avg       0.93      0.93      0.93     78649\n",
      "\n"
     ]
    }
   ],
   "source": [
    "conf_matrix = metrics.confusion_matrix(y_pred=test_ind_v1['final_state_avg'],y_true=test_dep)\n",
    "print(metrics.classification_report(y_pred=test_ind_v1['final_state_avg'],y_true=test_dep))"
   ]
  },
  {
   "cell_type": "code",
   "execution_count": 217,
   "metadata": {},
   "outputs": [
    {
     "data": {
      "text/plain": [
       "Text(0.5, 1, 'Accuracy Score: 0.9162481404722247')"
      ]
     },
     "execution_count": 217,
     "metadata": {},
     "output_type": "execute_result"
    },
    {
     "data": {
      "image/png": "[encoded data removed]",
      "text/plain": [
       "<Figure size 648x648 with 2 Axes>"
      ]
     },
     "metadata": {},
     "output_type": "display_data"
    }
   ],
   "source": [
    "plt.figure(figsize=(9,9)) \n",
    "sns.heatmap(conf_matrix, annot=True, fmt=\".3f\", linewidths=.5, square = True, cmap=None)\n",
    "plt.ylabel('Actual label') \n",
    "plt.xlabel('Predicted label') \n",
    "all_sample_title = 'Accuracy Score: {0}'.format(score) \n",
    "plt.title(all_sample_title, size = 15)"
   ]
  },
  {
   "cell_type": "code",
   "execution_count": 218,
   "metadata": {},
   "outputs": [],
   "source": [
    "precision_score_test_en2=precision_score(test_dep, test_ind_v1['final_state_avg'])\n",
    "recall_score_test_en2=recall_score(test_dep, test_ind_v1['final_state_avg'])"
   ]
  },
  {
   "cell_type": "code",
   "execution_count": 219,
   "metadata": {},
   "outputs": [
    {
     "name": "stdout",
     "output_type": "stream",
     "text": [
      "Precission: 92.07669939250856\n",
      "Recall: 92.77115423664897\n"
     ]
    }
   ],
   "source": [
    "print(\"Precission:\",precision_score_test_en2*100)\n",
    "print(\"Recall:\",recall_score_test_en2*100)"
   ]
  },
  {
   "cell_type": "code",
   "execution_count": 220,
   "metadata": {},
   "outputs": [
    {
     "data": {
      "image/png": "[encoded data removed]",
      "text/plain": [
       "<Figure size 432x288 with 1 Axes>"
      ]
     },
     "metadata": {},
     "output_type": "display_data"
    }
   ],
   "source": [
    "from sklearn.metrics import roc_curve\n",
    "fpr, tpr, thresholds = roc_curve(test_dep, test_ind_v1['final_state_avg']) \n",
    "\n",
    "def plot_roc_curve(fpr, tpr, label=None):    \n",
    "    plt.plot(fpr, tpr, linewidth=2, label=label)    \n",
    "    plt.plot([0, 1], [0, 1], 'k--')    \n",
    "    plt.axis([0, 1, 0, 1])    \n",
    "    plt.xlabel('False Positive Rate')    \n",
    "    plt.ylabel('True Positive Rate')\n",
    "plot_roc_curve(fpr, tpr) \n",
    "plt.show()"
   ]
  },
  {
   "cell_type": "code",
   "execution_count": 221,
   "metadata": {},
   "outputs": [],
   "source": [
    "from vecstack import stacking"
   ]
  },
  {
   "cell_type": "markdown",
   "metadata": {},
   "source": [
    "8.Ensemble Model - LGBM/Logistic Regression/XGBClassifier"
   ]
  },
  {
   "cell_type": "code",
   "execution_count": 222,
   "metadata": {},
   "outputs": [
    {
     "name": "stderr",
     "output_type": "stream",
     "text": [
      "C:\\Users\\dhavy\\Anaconda3\\lib\\site-packages\\sklearn\\utils\\validation.py:744: DataConversionWarning: A column-vector y was passed when a 1d array was expected. Please change the shape of y to (n_samples, ), for example using ravel().\n",
      "  y = column_or_1d(y, warn=True)\n"
     ]
    },
    {
     "name": "stdout",
     "output_type": "stream",
     "text": [
      "task:         [classification]\n",
      "n_classes:    [2]\n",
      "metric:       [accuracy_score]\n",
      "mode:         [oof_pred_bag]\n",
      "n_models:     [3]\n",
      "\n",
      "model  0:     [LGBMClassifier]\n",
      "    fold  0:  [0.93499346]\n",
      "    fold  1:  [0.93831735]\n",
      "    fold  2:  [0.93771457]\n",
      "    fold  3:  [0.93657021]\n",
      "    fold  4:  [0.93493543]\n",
      "    fold  5:  [0.93695166]\n",
      "    fold  6:  [0.93684268]\n",
      "    fold  7:  [0.93924037]\n",
      "    fold  8:  [0.93657021]\n",
      "    fold  9:  [0.93934935]\n",
      "    ----\n",
      "    MEAN:     [0.93714853] + [0.00145771]\n",
      "    FULL:     [0.93714852]\n",
      "\n",
      "model  1:     [LogisticRegression]\n"
     ]
    },
    {
     "name": "stderr",
     "output_type": "stream",
     "text": [
      "C:\\Users\\dhavy\\Anaconda3\\lib\\site-packages\\sklearn\\linear_model\\_logistic.py:939: ConvergenceWarning: lbfgs failed to converge (status=1):\n",
      "STOP: TOTAL NO. of ITERATIONS REACHED LIMIT.\n",
      "\n",
      "Increase the number of iterations (max_iter) or scale the data as shown in:\n",
      "    https://scikit-learn.org/stable/modules/preprocessing.html.\n",
      "Please also refer to the documentation for alternative solver options:\n",
      "    https://scikit-learn.org/stable/modules/linear_model.html#logistic-regression\n",
      "  extra_warning_msg=_LOGISTIC_SOLVER_CONVERGENCE_MSG)\n"
     ]
    },
    {
     "name": "stdout",
     "output_type": "stream",
     "text": [
      "    fold  0:  [0.91488666]\n"
     ]
    },
    {
     "name": "stderr",
     "output_type": "stream",
     "text": [
      "C:\\Users\\dhavy\\Anaconda3\\lib\\site-packages\\sklearn\\linear_model\\_logistic.py:939: ConvergenceWarning: lbfgs failed to converge (status=1):\n",
      "STOP: TOTAL NO. of ITERATIONS REACHED LIMIT.\n",
      "\n",
      "Increase the number of iterations (max_iter) or scale the data as shown in:\n",
      "    https://scikit-learn.org/stable/modules/preprocessing.html.\n",
      "Please also refer to the documentation for alternative solver options:\n",
      "    https://scikit-learn.org/stable/modules/linear_model.html#logistic-regression\n",
      "  extra_warning_msg=_LOGISTIC_SOLVER_CONVERGENCE_MSG)\n"
     ]
    },
    {
     "name": "stdout",
     "output_type": "stream",
     "text": [
      "    fold  1:  [0.91810157]\n"
     ]
    },
    {
     "name": "stderr",
     "output_type": "stream",
     "text": [
      "C:\\Users\\dhavy\\Anaconda3\\lib\\site-packages\\sklearn\\linear_model\\_logistic.py:939: ConvergenceWarning: lbfgs failed to converge (status=1):\n",
      "STOP: TOTAL NO. of ITERATIONS REACHED LIMIT.\n",
      "\n",
      "Increase the number of iterations (max_iter) or scale the data as shown in:\n",
      "    https://scikit-learn.org/stable/modules/preprocessing.html.\n",
      "Please also refer to the documentation for alternative solver options:\n",
      "    https://scikit-learn.org/stable/modules/linear_model.html#logistic-regression\n",
      "  extra_warning_msg=_LOGISTIC_SOLVER_CONVERGENCE_MSG)\n"
     ]
    },
    {
     "name": "stdout",
     "output_type": "stream",
     "text": [
      "    fold  2:  [0.91624435]\n"
     ]
    },
    {
     "name": "stderr",
     "output_type": "stream",
     "text": [
      "C:\\Users\\dhavy\\Anaconda3\\lib\\site-packages\\sklearn\\linear_model\\_logistic.py:939: ConvergenceWarning: lbfgs failed to converge (status=1):\n",
      "STOP: TOTAL NO. of ITERATIONS REACHED LIMIT.\n",
      "\n",
      "Increase the number of iterations (max_iter) or scale the data as shown in:\n",
      "    https://scikit-learn.org/stable/modules/preprocessing.html.\n",
      "Please also refer to the documentation for alternative solver options:\n",
      "    https://scikit-learn.org/stable/modules/linear_model.html#logistic-regression\n",
      "  extra_warning_msg=_LOGISTIC_SOLVER_CONVERGENCE_MSG)\n"
     ]
    },
    {
     "name": "stdout",
     "output_type": "stream",
     "text": [
      "    fold  3:  [0.91891450]\n"
     ]
    },
    {
     "name": "stderr",
     "output_type": "stream",
     "text": [
      "C:\\Users\\dhavy\\Anaconda3\\lib\\site-packages\\sklearn\\linear_model\\_logistic.py:939: ConvergenceWarning: lbfgs failed to converge (status=1):\n",
      "STOP: TOTAL NO. of ITERATIONS REACHED LIMIT.\n",
      "\n",
      "Increase the number of iterations (max_iter) or scale the data as shown in:\n",
      "    https://scikit-learn.org/stable/modules/preprocessing.html.\n",
      "Please also refer to the documentation for alternative solver options:\n",
      "    https://scikit-learn.org/stable/modules/linear_model.html#logistic-regression\n",
      "  extra_warning_msg=_LOGISTIC_SOLVER_CONVERGENCE_MSG)\n"
     ]
    },
    {
     "name": "stdout",
     "output_type": "stream",
     "text": [
      "    fold  4:  [0.91646232]\n"
     ]
    },
    {
     "name": "stderr",
     "output_type": "stream",
     "text": [
      "C:\\Users\\dhavy\\Anaconda3\\lib\\site-packages\\sklearn\\linear_model\\_logistic.py:939: ConvergenceWarning: lbfgs failed to converge (status=1):\n",
      "STOP: TOTAL NO. of ITERATIONS REACHED LIMIT.\n",
      "\n",
      "Increase the number of iterations (max_iter) or scale the data as shown in:\n",
      "    https://scikit-learn.org/stable/modules/preprocessing.html.\n",
      "Please also refer to the documentation for alternative solver options:\n",
      "    https://scikit-learn.org/stable/modules/linear_model.html#logistic-regression\n",
      "  extra_warning_msg=_LOGISTIC_SOLVER_CONVERGENCE_MSG)\n"
     ]
    },
    {
     "name": "stdout",
     "output_type": "stream",
     "text": [
      "    fold  5:  [0.91711623]\n"
     ]
    },
    {
     "name": "stderr",
     "output_type": "stream",
     "text": [
      "C:\\Users\\dhavy\\Anaconda3\\lib\\site-packages\\sklearn\\linear_model\\_logistic.py:939: ConvergenceWarning: lbfgs failed to converge (status=1):\n",
      "STOP: TOTAL NO. of ITERATIONS REACHED LIMIT.\n",
      "\n",
      "Increase the number of iterations (max_iter) or scale the data as shown in:\n",
      "    https://scikit-learn.org/stable/modules/preprocessing.html.\n",
      "Please also refer to the documentation for alternative solver options:\n",
      "    https://scikit-learn.org/stable/modules/linear_model.html#logistic-regression\n",
      "  extra_warning_msg=_LOGISTIC_SOLVER_CONVERGENCE_MSG)\n"
     ]
    },
    {
     "name": "stdout",
     "output_type": "stream",
     "text": [
      "    fold  6:  [0.91744319]\n"
     ]
    },
    {
     "name": "stderr",
     "output_type": "stream",
     "text": [
      "C:\\Users\\dhavy\\Anaconda3\\lib\\site-packages\\sklearn\\linear_model\\_logistic.py:939: ConvergenceWarning: lbfgs failed to converge (status=1):\n",
      "STOP: TOTAL NO. of ITERATIONS REACHED LIMIT.\n",
      "\n",
      "Increase the number of iterations (max_iter) or scale the data as shown in:\n",
      "    https://scikit-learn.org/stable/modules/preprocessing.html.\n",
      "Please also refer to the documentation for alternative solver options:\n",
      "    https://scikit-learn.org/stable/modules/linear_model.html#logistic-regression\n",
      "  extra_warning_msg=_LOGISTIC_SOLVER_CONVERGENCE_MSG)\n"
     ]
    },
    {
     "name": "stdout",
     "output_type": "stream",
     "text": [
      "    fold  7:  [0.91907798]\n",
      "    fold  8:  [0.91875102]\n",
      "    fold  9:  [0.92229306]\n",
      "    ----\n",
      "    MEAN:     [0.91792909] + [0.00192830]\n",
      "    FULL:     [0.91792907]\n",
      "\n",
      "model  2:     [XGBClassifier]\n",
      "    fold  0:  [0.93112467]\n",
      "    fold  1:  [0.93363121]\n",
      "    fold  2:  [0.93384557]\n",
      "    fold  3:  [0.93308267]\n",
      "    fold  4:  [0.93172034]\n",
      "    fold  5:  [0.93226527]\n",
      "    fold  6:  [0.93319165]\n",
      "    fold  7:  [0.93711514]\n",
      "    fold  8:  [0.93297368]\n",
      "    fold  9:  [0.93586181]\n",
      "    ----\n",
      "    MEAN:     [0.93348120] + [0.00172223]\n",
      "    FULL:     [0.93348119]\n",
      "\n"
     ]
    }
   ],
   "source": [
    "models =[\n",
    "    lgb.LGBMClassifier(objective='binary', random_state=0),\n",
    "    LogisticRegression(solver = 'lbfgs',random_state=0),\n",
    "    XGBClassifier(random_state=0, n_jobs=-1, learning_rate=0.1,n_estimators=100, max_depth=3)]\n",
    "\n",
    "S_train, S_test = stacking(models,            \n",
    "                           train_ind, train_dep, test_ind,\n",
    "                           regression=False,\n",
    "                           mode='oof_pred_bag',\n",
    "                           needs_proba=False,\n",
    "                           save_dir=None,\n",
    "                           metric=accuracy_score,\n",
    "                           n_folds=10,\n",
    "                           stratified=True,\n",
    "                           shuffle=True, \n",
    "                           random_state=0, \n",
    "                           verbose=2)\n",
    "\n",
    "\n",
    "model = XGBClassifier(random_state=2351, n_jobs=-1, learning_rate=0.1,\n",
    "                      n_estimators=100, max_depth=3)\n",
    "\n"
   ]
  },
  {
   "cell_type": "code",
   "execution_count": 223,
   "metadata": {},
   "outputs": [
    {
     "name": "stderr",
     "output_type": "stream",
     "text": [
      "C:\\Users\\dhavy\\Anaconda3\\lib\\site-packages\\sklearn\\preprocessing\\_label.py:235: DataConversionWarning: A column-vector y was passed when a 1d array was expected. Please change the shape of y to (n_samples, ), for example using ravel().\n",
      "  y = column_or_1d(y, warn=True)\n",
      "C:\\Users\\dhavy\\Anaconda3\\lib\\site-packages\\sklearn\\preprocessing\\_label.py:268: DataConversionWarning: A column-vector y was passed when a 1d array was expected. Please change the shape of y to (n_samples, ), for example using ravel().\n",
      "  y = column_or_1d(y, warn=True)\n"
     ]
    },
    {
     "name": "stdout",
     "output_type": "stream",
     "text": [
      "Final prediction score: [0.93842261]\n"
     ]
    }
   ],
   "source": [
    "model = model.fit(S_train, train_dep)\n",
    "y_pred = model.predict(S_test)\n",
    "print('Final prediction score: [%.8f]' % accuracy_score(test_dep, y_pred))\n",
    "y_pred=(y_pred>0.5).astype('int64')\n",
    "y_pred=y_pred.tolist()\n",
    "y_true = list(test_dep)"
   ]
  },
  {
   "cell_type": "markdown",
   "metadata": {},
   "source": [
    "Ensemble Stacked modeling - Results considered for the presentation"
   ]
  },
  {
   "cell_type": "code",
   "execution_count": 224,
   "metadata": {},
   "outputs": [
    {
     "name": "stdout",
     "output_type": "stream",
     "text": [
      "              precision    recall  f1-score   support\n",
      "\n",
      "           0       0.95      0.94      0.94     44176\n",
      "           1       0.92      0.94      0.93     34473\n",
      "\n",
      "    accuracy                           0.94     78649\n",
      "   macro avg       0.94      0.94      0.94     78649\n",
      "weighted avg       0.94      0.94      0.94     78649\n",
      "\n"
     ]
    },
    {
     "data": {
      "text/plain": [
       "Text(0.5, 1, 'Accuracy Score: 0.9162481404722247')"
      ]
     },
     "execution_count": 224,
     "metadata": {},
     "output_type": "execute_result"
    },
    {
     "data": {
      "image/png": "[encoded data removed]",
      "text/plain": [
       "<Figure size 648x648 with 2 Axes>"
      ]
     },
     "metadata": {},
     "output_type": "display_data"
    }
   ],
   "source": [
    "conf_matrix = metrics.confusion_matrix(y_pred=y_pred,y_true=test_dep)\n",
    "print(metrics.classification_report(y_pred=y_pred,y_true=test_dep))\n",
    "\n",
    "plt.figure(figsize=(9,9)) \n",
    "sns.heatmap(conf_matrix, annot=True, fmt=\".3f\", linewidths=.5, square = True, cmap=None)\n",
    "plt.ylabel('Actual label') \n",
    "plt.xlabel('Predicted label') \n",
    "all_sample_title = 'Accuracy Score: {0}'.format(score) \n",
    "plt.title(all_sample_title, size = 15)"
   ]
  },
  {
   "cell_type": "code",
   "execution_count": 225,
   "metadata": {},
   "outputs": [
    {
     "name": "stdout",
     "output_type": "stream",
     "text": [
      "Precission: 92.2778380229439\n",
      "Recall: 93.80094566762394\n"
     ]
    },
    {
     "data": {
      "image/png": "[encoded data removed]",
      "text/plain": [
       "<Figure size 432x288 with 1 Axes>"
      ]
     },
     "metadata": {},
     "output_type": "display_data"
    }
   ],
   "source": [
    "precision_score_test_en3=precision_score(test_dep, y_pred)\n",
    "recall_score_test_en3=recall_score(test_dep, y_pred)\n",
    "\n",
    "print(\"Precission:\",precision_score_test_en3*100)\n",
    "print(\"Recall:\",recall_score_test_en3*100)\n",
    "\n",
    "from sklearn.metrics import roc_curve\n",
    "fpr, tpr, thresholds = roc_curve(test_dep, y_pred) \n",
    "\n",
    "def plot_roc_curve(fpr, tpr, label=None):    \n",
    "    plt.plot(fpr, tpr, linewidth=2, label=label)    \n",
    "    plt.plot([0, 1], [0, 1], 'k--')    \n",
    "    plt.axis([0, 1, 0, 1])    \n",
    "    plt.xlabel('False Positive Rate')    \n",
    "    plt.ylabel('True Positive Rate')\n",
    "plot_roc_curve(fpr, tpr) \n",
    "plt.show()"
   ]
  },
  {
   "cell_type": "code",
   "execution_count": 226,
   "metadata": {},
   "outputs": [
    {
     "name": "stdout",
     "output_type": "stream",
     "text": [
      "              precision    recall  f1-score   support\n",
      "\n",
      "           0       0.95      0.94      0.94     44176\n",
      "           1       0.92      0.94      0.93     34473\n",
      "\n",
      "    accuracy                           0.94     78649\n",
      "   macro avg       0.94      0.94      0.94     78649\n",
      "weighted avg       0.94      0.94      0.94     78649\n",
      "\n"
     ]
    }
   ],
   "source": [
    "print(metrics.classification_report(y_pred=y_pred,y_true=test_dep))"
   ]
  },
  {
   "cell_type": "markdown",
   "metadata": {},
   "source": [
    "Step 3 :<b>Predicting the results for the live data<b>"
   ]
  },
  {
   "cell_type": "code",
   "execution_count": 227,
   "metadata": {},
   "outputs": [],
   "source": [
    "kickstarter_live = pd.read_csv('C:/Sapna/Graham/Data Mining/Project/Kickstarter/Datasets/test/Processed data/Feature_engineered_data_live.csv',engine='python')"
   ]
  },
  {
   "cell_type": "code",
   "execution_count": 228,
   "metadata": {},
   "outputs": [
    {
     "name": "stdout",
     "output_type": "stream",
     "text": [
      "<class 'pandas.core.frame.DataFrame'>\n",
      "RangeIndex: 20939 entries, 0 to 20938\n",
      "Data columns (total 20 columns):\n",
      "backers_count         20939 non-null int64\n",
      "category_name         20939 non-null object\n",
      "main_category_name    20939 non-null object\n",
      "usd_goal_real         20939 non-null float64\n",
      "name_len              20939 non-null int64\n",
      "name_exclaim          20939 non-null int64\n",
      "name_question         20939 non-null int64\n",
      "name_words            20939 non-null int64\n",
      "name_is_upper         20939 non-null float64\n",
      "name_is_lower         20939 non-null float64\n",
      "duration              20939 non-null int64\n",
      "duration_st_dead      20939 non-null int64\n",
      "change_flag           20939 non-null int64\n",
      "launched_quarter      20939 non-null int64\n",
      "launched_month        20939 non-null int64\n",
      "weekday               20939 non-null int64\n",
      "launched_week         20939 non-null int64\n",
      "participants_qtr      20939 non-null int64\n",
      "participants_mth      20939 non-null int64\n",
      "participants_wk       20939 non-null int64\n",
      "dtypes: float64(3), int64(15), object(2)\n",
      "memory usage: 3.2+ MB\n"
     ]
    }
   ],
   "source": [
    "kickstarter_live.size\n",
    "kickstarter_live.shape\n",
    "kickstarter_live.info()"
   ]
  },
  {
   "cell_type": "code",
   "execution_count": 229,
   "metadata": {},
   "outputs": [
    {
     "name": "stdout",
     "output_type": "stream",
     "text": [
      "['backers_count', 'category_name', 'main_category_name', 'usd_goal_real', 'name_len', 'name_exclaim', 'name_question', 'name_words', 'name_is_upper', 'name_is_lower', 'duration', 'duration_st_dead', 'change_flag', 'launched_quarter', 'launched_month', 'weekday', 'launched_week', 'participants_qtr', 'participants_mth', 'participants_wk']\n"
     ]
    }
   ],
   "source": [
    "print(list(kickstarter_live))"
   ]
  },
  {
   "cell_type": "code",
   "execution_count": 230,
   "metadata": {},
   "outputs": [],
   "source": [
    "kickstarter_live_copy = kickstarter_live"
   ]
  },
  {
   "cell_type": "code",
   "execution_count": 231,
   "metadata": {},
   "outputs": [
    {
     "data": {
      "text/plain": [
       "name_words\n",
       "1      969\n",
       "2     2094\n",
       "3     2760\n",
       "4     2565\n",
       "5     2361\n",
       "6     2291\n",
       "7     2202\n",
       "8     2008\n",
       "9     1751\n",
       "10    1134\n",
       "11     537\n",
       "12     203\n",
       "13      49\n",
       "14      14\n",
       "17       1\n",
       "dtype: int64"
      ]
     },
     "execution_count": 231,
     "metadata": {},
     "output_type": "execute_result"
    }
   ],
   "source": [
    "#print(kickstarter_data.shape)\n",
    "#print(kickstarter_data_v1.shape)\n",
    "kickstarter_live.groupby(['main_category_name']).size()\n",
    "kickstarter_live.groupby(['main_category_name','category_name']).size()\n",
    "kickstarter_live.groupby(['name_words']).size()"
   ]
  },
  {
   "cell_type": "code",
   "execution_count": 232,
   "metadata": {},
   "outputs": [
    {
     "data": {
      "text/plain": [
       "name_words\n",
       "1      969\n",
       "2     2094\n",
       "3     2760\n",
       "4     2565\n",
       "5     2361\n",
       "6     2291\n",
       "7     2202\n",
       "8     2008\n",
       "9     1751\n",
       "10    1134\n",
       "11     537\n",
       "12     203\n",
       "13      49\n",
       "14      14\n",
       "17       1\n",
       "dtype: int64"
      ]
     },
     "execution_count": 232,
     "metadata": {},
     "output_type": "execute_result"
    }
   ],
   "source": [
    "#kickstarter_data = kickstarter_data_v1[(kickstarter_data_v1['name_words']<17)]\n",
    "kickstarter_live.shape\n",
    "kickstarter_live.groupby(['weekday']).size()\n",
    "kickstarter_live.groupby(['launched_quarter']).size()\n",
    "kickstarter_live.groupby(['name_words']).size()"
   ]
  },
  {
   "cell_type": "code",
   "execution_count": 233,
   "metadata": {},
   "outputs": [
    {
     "name": "stdout",
     "output_type": "stream",
     "text": [
      "['backers_count', 'category_name', 'main_category_name', 'usd_goal_real', 'name_len', 'name_exclaim', 'name_question', 'name_words', 'name_is_upper', 'name_is_lower', 'duration', 'duration_st_dead', 'change_flag', 'launched_quarter', 'launched_month', 'weekday', 'launched_week', 'participants_qtr', 'participants_mth', 'participants_wk']\n",
      "['backers_count', 'main_category_name', 'usd_goal_real', 'name_len', 'name_exclaim', 'name_question', 'name_words', 'name_is_upper', 'name_is_lower', 'duration', 'launched_quarter', 'weekday', 'participants_qtr']\n"
     ]
    }
   ],
   "source": [
    "print(list(kickstarter_live))\n",
    "\n",
    "drop_columns= ['category_name','duration_st_dead','change_flag','launched_month','launched_week',\n",
    "               #'median_goal_year',\n",
    "              #'mean_goal_year',\n",
    "               'participants_mth','participants_wk']\n",
    "#dropping columns above\n",
    "kickstarter_live.drop(drop_columns, axis=1, inplace=True)\n",
    "\n",
    "print(list(kickstarter_live))"
   ]
  },
  {
   "cell_type": "code",
   "execution_count": 234,
   "metadata": {},
   "outputs": [
    {
     "name": "stdout",
     "output_type": "stream",
     "text": [
      "Min: 602.0\n",
      "Mean: 33686.09939521897\n",
      "Median: 6000.0\n",
      "Mode: 0    5000.0\n",
      "dtype: float64\n",
      "Max: 99000000.0\n",
      "5th percentile: 1000.0\n",
      "10th percentile: 1300.0\n",
      "25th percentile: 2900.0\n",
      "50th percentile: 6000.0\n",
      "75th percentile: 15000.0\n",
      "90th percentile: 40000.0\n",
      "95th percentile: 75000.0\n",
      "99th percentile: 300000.0\n"
     ]
    }
   ],
   "source": [
    "print('Min:',kickstarter_data['usd_goal_real'].min())\n",
    "print('Mean:',kickstarter_data['usd_goal_real'].mean())\n",
    "print('Median:',kickstarter_data['usd_goal_real'].median())\n",
    "print('Mode:',kickstarter_data['usd_goal_real'].mode())\n",
    "print('Max:',kickstarter_data['usd_goal_real'].max())\n",
    "\n",
    "################# PERCENTILES  ##################################\n",
    "goal_arr=kickstarter_data['usd_goal_real']\n",
    "print('5th percentile:',np.percentile(goal_arr, 5))\n",
    "print('10th percentile:',np.percentile(goal_arr, 10))\n",
    "print('25th percentile:',np.percentile(goal_arr, 25))\n",
    "print('50th percentile:',np.percentile(goal_arr, 50))\n",
    "print('75th percentile:',np.percentile(goal_arr, 75))\n",
    "print('90th percentile:',np.percentile(goal_arr, 90))\n",
    "print('95th percentile:',np.percentile(goal_arr, 95))\n",
    "print('99th percentile:',np.percentile(goal_arr, 99))"
   ]
  },
  {
   "cell_type": "code",
   "execution_count": 235,
   "metadata": {},
   "outputs": [
    {
     "name": "stdout",
     "output_type": "stream",
     "text": [
      "start one-hot encoding\n",
      "ADS dummy columns made\n",
      "['backers_count', 'usd_goal_real', 'name_len', 'name_exclaim', 'name_question', 'name_words', 'name_is_upper', 'name_is_lower', 'duration', 'participants_qtr', 'cat_Art', 'cat_Comics', 'cat_Crafts', 'cat_Dance', 'cat_Design', 'cat_Fashion', 'cat_Film & Video', 'cat_Food', 'cat_Games', 'cat_Journalism', 'cat_Music', 'cat_Photography', 'cat_Publishing', 'cat_Technology', 'cat_Theater', 'weekday_0', 'weekday_1', 'weekday_2', 'weekday_3', 'weekday_4', 'weekday_5', 'weekday_6', 'quart_1', 'quart_2', 'quart_3', 'quart_4']\n"
     ]
    }
   ],
   "source": [
    "# One-Hot encoding to convert categorical columns to numeric\n",
    "print('start one-hot encoding')\n",
    "\n",
    "kickstarter_live = pd.get_dummies(kickstarter_live, prefix = ['cat','weekday','quart'],\n",
    "                             columns = ['main_category_name','weekday','launched_quarter'])\n",
    "    \n",
    "#this will have created 1-0 flag columns (like a sparse matrix)    \n",
    "print('ADS dummy columns made')\n",
    "\n",
    "print(list(kickstarter_live))"
   ]
  },
  {
   "cell_type": "code",
   "execution_count": 236,
   "metadata": {},
   "outputs": [],
   "source": [
    "# Dropping one dummy variable for each of the variables \n",
    "drop_columns= ['cat_Film & Video','weekday_6','quart_4']\n",
    "#dropping columns above\n",
    "kickstarter_live.drop(drop_columns, axis=1, inplace=True)"
   ]
  },
  {
   "cell_type": "code",
   "execution_count": 237,
   "metadata": {},
   "outputs": [],
   "source": [
    "#kickstarter_data.to_csv(r'C:/Sapna/Graham/Data Mining/Project/Kickstarter/Datasets/test/Processed data/Feature_engineered_data_dumenc_r.csv', index = False)\n",
    "\n",
    "#creating 2 arrays: features and response\n",
    "#features will have all independent variables\n",
    "features=list(kickstarter_live)\n",
    "#features.remove('state')\n",
    "#response has the target variable\n",
    "#response= ['state']"
   ]
  },
  {
   "cell_type": "code",
   "execution_count": 238,
   "metadata": {},
   "outputs": [
    {
     "name": "stdout",
     "output_type": "stream",
     "text": [
      "['backers_count', 'usd_goal_real', 'name_len', 'name_exclaim', 'name_question', 'name_words', 'name_is_upper', 'name_is_lower', 'duration', 'participants_qtr', 'cat_Art', 'cat_Comics', 'cat_Crafts', 'cat_Dance', 'cat_Design', 'cat_Fashion', 'cat_Food', 'cat_Games', 'cat_Journalism', 'cat_Music', 'cat_Photography', 'cat_Publishing', 'cat_Technology', 'cat_Theater', 'weekday_0', 'weekday_1', 'weekday_2', 'weekday_3', 'weekday_4', 'weekday_5', 'quart_1', 'quart_2', 'quart_3']\n"
     ]
    }
   ],
   "source": [
    "kickstarter_live[features].shape\n",
    "#kickstarter_data.head()\n",
    "#kick_projects_ip.info()\n",
    "print(list(kickstarter_live))"
   ]
  },
  {
   "cell_type": "code",
   "execution_count": 239,
   "metadata": {},
   "outputs": [
    {
     "data": {
      "text/plain": [
       "(20939, 33)"
      ]
     },
     "execution_count": 239,
     "metadata": {},
     "output_type": "execute_result"
    },
    {
     "data": {
      "image/png": "[encoded data removed]",
      "text/plain": [
       "<Figure size 432x288 with 2 Axes>"
      ]
     },
     "metadata": {},
     "output_type": "display_data"
    }
   ],
   "source": [
    "import seaborn as sb\n",
    "sb.heatmap(kickstarter_live.corr())\n",
    "kickstarter_live.shape"
   ]
  },
  {
   "cell_type": "code",
   "execution_count": 240,
   "metadata": {},
   "outputs": [
    {
     "data": {
      "text/plain": [
       "(20939, 33)"
      ]
     },
     "execution_count": 240,
     "metadata": {},
     "output_type": "execute_result"
    }
   ],
   "source": [
    "\n",
    "test_ind_live = kickstarter_live[features]\n",
    "test_ind_live.shape"
   ]
  },
  {
   "cell_type": "code",
   "execution_count": 241,
   "metadata": {},
   "outputs": [],
   "source": [
    "log_live=mymodel.predict(test_ind_live[features])"
   ]
  },
  {
   "cell_type": "code",
   "execution_count": 242,
   "metadata": {},
   "outputs": [
    {
     "data": {
      "text/plain": [
       "Predictions\n",
       "0    18877\n",
       "1     2062\n",
       "dtype: int64"
      ]
     },
     "execution_count": 242,
     "metadata": {},
     "output_type": "execute_result"
    }
   ],
   "source": [
    "log_live_df = pd.DataFrame(data=log_live,columns=[\"Predictions\"])\n",
    "log_live_df.groupby(['Predictions']).size()"
   ]
  },
  {
   "cell_type": "code",
   "execution_count": 243,
   "metadata": {},
   "outputs": [],
   "source": [
    "ada_boost_prob_live = model_ada_v1.predict_proba(test_ind_live[features])\n",
    "ada_boost_prediction_live = model_ada_v1.predict(test_ind_live[features])"
   ]
  },
  {
   "cell_type": "code",
   "execution_count": 244,
   "metadata": {},
   "outputs": [
    {
     "data": {
      "text/plain": [
       "array([0, 0, 1, ..., 0, 0, 0], dtype=int64)"
      ]
     },
     "execution_count": 244,
     "metadata": {},
     "output_type": "execute_result"
    }
   ],
   "source": [
    "ada_boost_prediction_live"
   ]
  },
  {
   "cell_type": "code",
   "execution_count": 245,
   "metadata": {},
   "outputs": [
    {
     "data": {
      "text/plain": [
       "Predictions\n",
       "0    18623\n",
       "1     2316\n",
       "dtype: int64"
      ]
     },
     "execution_count": 245,
     "metadata": {},
     "output_type": "execute_result"
    }
   ],
   "source": [
    "ada_boost_prediction_live_df = pd.DataFrame(data=ada_boost_prediction_live,columns=[\"Predictions\"])\n",
    "ada_boost_prediction_live_df.groupby(['Predictions']).size()"
   ]
  },
  {
   "cell_type": "code",
   "execution_count": 246,
   "metadata": {},
   "outputs": [
    {
     "data": {
      "text/plain": [
       "Predictions\n",
       "0    18831\n",
       "1     2108\n",
       "dtype: int64"
      ]
     },
     "execution_count": 246,
     "metadata": {},
     "output_type": "execute_result"
    }
   ],
   "source": [
    "xgboost_prediction_live = xgb_model.predict(test_ind_live[features])\n",
    "xgboost_prediction_live_df = pd.DataFrame(data=xgboost_prediction_live,columns=[\"Predictions\"])\n",
    "xgboost_prediction_live_df.groupby(['Predictions']).size()"
   ]
  },
  {
   "cell_type": "code",
   "execution_count": 247,
   "metadata": {},
   "outputs": [
    {
     "data": {
      "text/plain": [
       "Predictions\n",
       "0    17614\n",
       "1     3325\n",
       "dtype: int64"
      ]
     },
     "execution_count": 247,
     "metadata": {},
     "output_type": "execute_result"
    }
   ],
   "source": [
    "rfg_prediction_live = clf_grid.predict(test_ind_live[features])\n",
    "rfg_prediction_live_df = pd.DataFrame(data=rfg_prediction_live,columns=[\"Predictions\"])\n",
    "rfg_prediction_live_df.groupby(['Predictions']).size()"
   ]
  },
  {
   "cell_type": "code",
   "execution_count": 252,
   "metadata": {},
   "outputs": [],
   "source": [
    "test_ind_live['Predictions'] = ada_boost_prediction_live"
   ]
  },
  {
   "cell_type": "code",
   "execution_count": 253,
   "metadata": {},
   "outputs": [],
   "source": [
    "result_live_v1=pd.concat([kickstarter_live_copy, ada_boost_prediction_live_df], axis=1, join='inner')"
   ]
  },
  {
   "cell_type": "code",
   "execution_count": 254,
   "metadata": {},
   "outputs": [
    {
     "data": {
      "text/html": [
       "<div>\n",
       "<style scoped>\n",
       "    .dataframe tbody tr th:only-of-type {\n",
       "        vertical-align: middle;\n",
       "    }\n",
       "\n",
       "    .dataframe tbody tr th {\n",
       "        vertical-align: top;\n",
       "    }\n",
       "\n",
       "    .dataframe thead th {\n",
       "        text-align: right;\n",
       "    }\n",
       "</style>\n",
       "<table border=\"1\" class=\"dataframe\">\n",
       "  <thead>\n",
       "    <tr style=\"text-align: right;\">\n",
       "      <th></th>\n",
       "      <th>backers_count</th>\n",
       "      <th>main_category_name</th>\n",
       "      <th>usd_goal_real</th>\n",
       "      <th>name_len</th>\n",
       "      <th>name_exclaim</th>\n",
       "      <th>name_question</th>\n",
       "      <th>name_words</th>\n",
       "      <th>name_is_upper</th>\n",
       "      <th>name_is_lower</th>\n",
       "      <th>duration</th>\n",
       "      <th>launched_quarter</th>\n",
       "      <th>weekday</th>\n",
       "      <th>participants_qtr</th>\n",
       "      <th>Predictions</th>\n",
       "    </tr>\n",
       "  </thead>\n",
       "  <tbody>\n",
       "    <tr>\n",
       "      <th>0</th>\n",
       "      <td>2</td>\n",
       "      <td>Design</td>\n",
       "      <td>50000000.0</td>\n",
       "      <td>35</td>\n",
       "      <td>0</td>\n",
       "      <td>0</td>\n",
       "      <td>6</td>\n",
       "      <td>0.0</td>\n",
       "      <td>0.0</td>\n",
       "      <td>60</td>\n",
       "      <td>4</td>\n",
       "      <td>0</td>\n",
       "      <td>34</td>\n",
       "      <td>0</td>\n",
       "    </tr>\n",
       "    <tr>\n",
       "      <th>1</th>\n",
       "      <td>0</td>\n",
       "      <td>Design</td>\n",
       "      <td>20000.0</td>\n",
       "      <td>32</td>\n",
       "      <td>0</td>\n",
       "      <td>0</td>\n",
       "      <td>4</td>\n",
       "      <td>0.0</td>\n",
       "      <td>0.0</td>\n",
       "      <td>60</td>\n",
       "      <td>4</td>\n",
       "      <td>0</td>\n",
       "      <td>34</td>\n",
       "      <td>0</td>\n",
       "    </tr>\n",
       "    <tr>\n",
       "      <th>2</th>\n",
       "      <td>187</td>\n",
       "      <td>Film &amp; Video</td>\n",
       "      <td>25000.0</td>\n",
       "      <td>8</td>\n",
       "      <td>0</td>\n",
       "      <td>0</td>\n",
       "      <td>1</td>\n",
       "      <td>1.0</td>\n",
       "      <td>0.0</td>\n",
       "      <td>60</td>\n",
       "      <td>4</td>\n",
       "      <td>0</td>\n",
       "      <td>14</td>\n",
       "      <td>1</td>\n",
       "    </tr>\n",
       "    <tr>\n",
       "      <th>3</th>\n",
       "      <td>22</td>\n",
       "      <td>Film &amp; Video</td>\n",
       "      <td>7500.0</td>\n",
       "      <td>41</td>\n",
       "      <td>1</td>\n",
       "      <td>0</td>\n",
       "      <td>7</td>\n",
       "      <td>0.0</td>\n",
       "      <td>0.0</td>\n",
       "      <td>60</td>\n",
       "      <td>4</td>\n",
       "      <td>1</td>\n",
       "      <td>14</td>\n",
       "      <td>0</td>\n",
       "    </tr>\n",
       "    <tr>\n",
       "      <th>4</th>\n",
       "      <td>6</td>\n",
       "      <td>Games</td>\n",
       "      <td>15000.0</td>\n",
       "      <td>21</td>\n",
       "      <td>0</td>\n",
       "      <td>0</td>\n",
       "      <td>3</td>\n",
       "      <td>0.0</td>\n",
       "      <td>0.0</td>\n",
       "      <td>60</td>\n",
       "      <td>4</td>\n",
       "      <td>1</td>\n",
       "      <td>7</td>\n",
       "      <td>0</td>\n",
       "    </tr>\n",
       "    <tr>\n",
       "      <th>...</th>\n",
       "      <td>...</td>\n",
       "      <td>...</td>\n",
       "      <td>...</td>\n",
       "      <td>...</td>\n",
       "      <td>...</td>\n",
       "      <td>...</td>\n",
       "      <td>...</td>\n",
       "      <td>...</td>\n",
       "      <td>...</td>\n",
       "      <td>...</td>\n",
       "      <td>...</td>\n",
       "      <td>...</td>\n",
       "      <td>...</td>\n",
       "      <td>...</td>\n",
       "    </tr>\n",
       "    <tr>\n",
       "      <th>20934</th>\n",
       "      <td>1</td>\n",
       "      <td>Music</td>\n",
       "      <td>3000.0</td>\n",
       "      <td>42</td>\n",
       "      <td>0</td>\n",
       "      <td>0</td>\n",
       "      <td>8</td>\n",
       "      <td>0.0</td>\n",
       "      <td>0.0</td>\n",
       "      <td>48</td>\n",
       "      <td>1</td>\n",
       "      <td>3</td>\n",
       "      <td>15</td>\n",
       "      <td>0</td>\n",
       "    </tr>\n",
       "    <tr>\n",
       "      <th>20935</th>\n",
       "      <td>1</td>\n",
       "      <td>Dance</td>\n",
       "      <td>2500.0</td>\n",
       "      <td>57</td>\n",
       "      <td>0</td>\n",
       "      <td>0</td>\n",
       "      <td>7</td>\n",
       "      <td>0.0</td>\n",
       "      <td>0.0</td>\n",
       "      <td>47</td>\n",
       "      <td>1</td>\n",
       "      <td>3</td>\n",
       "      <td>7</td>\n",
       "      <td>0</td>\n",
       "    </tr>\n",
       "    <tr>\n",
       "      <th>20936</th>\n",
       "      <td>3</td>\n",
       "      <td>Crafts</td>\n",
       "      <td>1500.0</td>\n",
       "      <td>26</td>\n",
       "      <td>0</td>\n",
       "      <td>0</td>\n",
       "      <td>3</td>\n",
       "      <td>0.0</td>\n",
       "      <td>0.0</td>\n",
       "      <td>30</td>\n",
       "      <td>1</td>\n",
       "      <td>3</td>\n",
       "      <td>2</td>\n",
       "      <td>0</td>\n",
       "    </tr>\n",
       "    <tr>\n",
       "      <th>20937</th>\n",
       "      <td>1</td>\n",
       "      <td>Theater</td>\n",
       "      <td>800.0</td>\n",
       "      <td>23</td>\n",
       "      <td>0</td>\n",
       "      <td>0</td>\n",
       "      <td>4</td>\n",
       "      <td>0.0</td>\n",
       "      <td>0.0</td>\n",
       "      <td>51</td>\n",
       "      <td>1</td>\n",
       "      <td>3</td>\n",
       "      <td>9</td>\n",
       "      <td>0</td>\n",
       "    </tr>\n",
       "    <tr>\n",
       "      <th>20938</th>\n",
       "      <td>0</td>\n",
       "      <td>Theater</td>\n",
       "      <td>7500.0</td>\n",
       "      <td>47</td>\n",
       "      <td>0</td>\n",
       "      <td>0</td>\n",
       "      <td>8</td>\n",
       "      <td>0.0</td>\n",
       "      <td>0.0</td>\n",
       "      <td>24</td>\n",
       "      <td>1</td>\n",
       "      <td>3</td>\n",
       "      <td>9</td>\n",
       "      <td>0</td>\n",
       "    </tr>\n",
       "  </tbody>\n",
       "</table>\n",
       "<p>20939 rows × 14 columns</p>\n",
       "</div>"
      ],
      "text/plain": [
       "       backers_count main_category_name  usd_goal_real  name_len  \\\n",
       "0                  2             Design     50000000.0        35   \n",
       "1                  0             Design        20000.0        32   \n",
       "2                187       Film & Video        25000.0         8   \n",
       "3                 22       Film & Video         7500.0        41   \n",
       "4                  6              Games        15000.0        21   \n",
       "...              ...                ...            ...       ...   \n",
       "20934              1              Music         3000.0        42   \n",
       "20935              1              Dance         2500.0        57   \n",
       "20936              3             Crafts         1500.0        26   \n",
       "20937              1            Theater          800.0        23   \n",
       "20938              0            Theater         7500.0        47   \n",
       "\n",
       "       name_exclaim  name_question  name_words  name_is_upper  name_is_lower  \\\n",
       "0                 0              0           6            0.0            0.0   \n",
       "1                 0              0           4            0.0            0.0   \n",
       "2                 0              0           1            1.0            0.0   \n",
       "3                 1              0           7            0.0            0.0   \n",
       "4                 0              0           3            0.0            0.0   \n",
       "...             ...            ...         ...            ...            ...   \n",
       "20934             0              0           8            0.0            0.0   \n",
       "20935             0              0           7            0.0            0.0   \n",
       "20936             0              0           3            0.0            0.0   \n",
       "20937             0              0           4            0.0            0.0   \n",
       "20938             0              0           8            0.0            0.0   \n",
       "\n",
       "       duration  launched_quarter  weekday  participants_qtr  Predictions  \n",
       "0            60                 4        0                34            0  \n",
       "1            60                 4        0                34            0  \n",
       "2            60                 4        0                14            1  \n",
       "3            60                 4        1                14            0  \n",
       "4            60                 4        1                 7            0  \n",
       "...         ...               ...      ...               ...          ...  \n",
       "20934        48                 1        3                15            0  \n",
       "20935        47                 1        3                 7            0  \n",
       "20936        30                 1        3                 2            0  \n",
       "20937        51                 1        3                 9            0  \n",
       "20938        24                 1        3                 9            0  \n",
       "\n",
       "[20939 rows x 14 columns]"
      ]
     },
     "execution_count": 254,
     "metadata": {},
     "output_type": "execute_result"
    }
   ],
   "source": [
    "result_live_v1"
   ]
  },
  {
   "cell_type": "code",
   "execution_count": 255,
   "metadata": {},
   "outputs": [],
   "source": [
    "result_live_v1.to_excel(r'C:\\Sapna\\Graham\\Data Mining\\Project\\Kickstarter\\Datasets\\test\\Processed data\\Live_Data_predictions.xlsx')"
   ]
  }
 ],
 "metadata": {
  "kernelspec": {
   "display_name": "Python 3",
   "language": "python",
   "name": "python3"
  },
  "language_info": {
   "codemirror_mode": {
    "name": "ipython",
    "version": 3
   },
   "file_extension": ".py",
   "mimetype": "text/x-python",
   "name": "python",
   "nbconvert_exporter": "python",
   "pygments_lexer": "ipython3",
   "version": "3.6.4"
  }
 },
 "nbformat": 4,
 "nbformat_minor": 2
}
